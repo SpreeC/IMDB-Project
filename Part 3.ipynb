{
 "cells": [
  {
   "cell_type": "markdown",
   "id": "7c428f94-9a11-413e-9ea8-78a45e15340b",
   "metadata": {},
   "source": [
    "# Imports"
   ]
  },
  {
   "cell_type": "code",
   "execution_count": 1,
   "id": "765ab231-9e7b-4a3d-8f88-e0a9941cb6be",
   "metadata": {},
   "outputs": [],
   "source": [
    "# Import packages\n",
    "import os, time, json\n",
    "import tmdbsimple as tmdb \n",
    "import pandas as pd\n",
    "from tqdm.notebook import tqdm_notebook"
   ]
  },
  {
   "cell_type": "code",
   "execution_count": 2,
   "id": "d9426c53-b93b-40de-8160-d4a2fe1c5733",
   "metadata": {},
   "outputs": [],
   "source": [
    "#load API Credentials\n",
    "with open('/Users/17175/.secret/tmdb_api.json','r') as f:\n",
    "    login = json.load(f)"
   ]
  },
  {
   "cell_type": "code",
   "execution_count": 3,
   "id": "2e0a0d32-2c6a-4daa-97cd-890532275530",
   "metadata": {},
   "outputs": [],
   "source": [
    "#instantiate tmdbapi variable\n",
    "tmdb.API_KEY = login['api-key']"
   ]
  },
  {
   "cell_type": "markdown",
   "id": "e7066099-f5f4-430e-babc-892bf21ee866",
   "metadata": {},
   "source": [
    "# Define Custom Functions"
   ]
  },
  {
   "cell_type": "code",
   "execution_count": 4,
   "id": "3d046933-5ba1-4bcf-bda2-920ace453ebb",
   "metadata": {},
   "outputs": [],
   "source": [
    "def get_movie_with_rating(movie_id):\n",
    "    \"\"\"Adapted from source = https://github.com/celiao/tmdbsimpl\"\"\"\n",
    "    #Get the movie object for the current id\n",
    "    movie = tmdb.Movies(movie_id)\n",
    "\n",
    "    #Save the .info .releases dictionaries\n",
    "    info = movie.info()\n",
    "\n",
    "    releases = movie.releases()\n",
    "    #Loop through countries in releases\n",
    "    for c in releases['countries']:\n",
    "        #If the country abbreviation==US\n",
    "        if c['iso_3166_1'] =='US':\n",
    "            ##Save a 'certification' key in info with the certification\n",
    "            info['certification'] = c['certification']\n",
    "\n",
    "    return info"
   ]
  },
  {
   "cell_type": "code",
   "execution_count": 5,
   "id": "86759099-53d4-4e45-a1e6-28a26d89466d",
   "metadata": {},
   "outputs": [],
   "source": [
    "def write_json(new_data, filename): \n",
    "    \"\"\"Appends a list of records (new_data) to a json file (filename). \n",
    "    Adapted from: https://www.geeksforgeeks.org/append-to-json-file-using-python/\"\"\"  \n",
    "    \n",
    "    with open(filename,'r+') as file:\n",
    "        # First we load existing data into a dict.\n",
    "        file_data = json.load(file)\n",
    "        ## Choose extend or append\n",
    "        if (type(new_data) == list) & (type(file_data) == list):\n",
    "            file_data.extend(new_data)\n",
    "        else:\n",
    "             file_data.append(new_data)\n",
    "        # Sets file's current position at offset.\n",
    "        file.seek(0)\n",
    "        # convert back to json.\n",
    "        json.dump(file_data, file)"
   ]
  },
  {
   "cell_type": "markdown",
   "id": "e24affa7-dc35-4fb8-be0d-91ced2b5e36c",
   "metadata": {},
   "source": [
    "# Test TMDB Extraction Works"
   ]
  },
  {
   "cell_type": "code",
   "execution_count": 6,
   "id": "4d8afd6e-a457-4f39-a87d-d75787362eee",
   "metadata": {},
   "outputs": [
    {
     "data": {
      "text/plain": [
       "{'adult': False,\n",
       " 'backdrop_path': '/9BBTo63ANSmhC4e6r62OJFuK2GL.jpg',\n",
       " 'belongs_to_collection': {'id': 86311,\n",
       "  'name': 'The Avengers Collection',\n",
       "  'poster_path': '/yFSIUVTCvgYrpalUktulvk3Gi5Y.jpg',\n",
       "  'backdrop_path': '/zuW6fOiusv4X9nnW3paHGfXcSll.jpg'},\n",
       " 'budget': 220000000,\n",
       " 'genres': [{'id': 878, 'name': 'Science Fiction'},\n",
       "  {'id': 28, 'name': 'Action'},\n",
       "  {'id': 12, 'name': 'Adventure'}],\n",
       " 'homepage': 'https://www.marvel.com/movies/the-avengers',\n",
       " 'id': 24428,\n",
       " 'imdb_id': 'tt0848228',\n",
       " 'original_language': 'en',\n",
       " 'original_title': 'The Avengers',\n",
       " 'overview': 'When an unexpected enemy emerges and threatens global safety and security, Nick Fury, director of the international peacekeeping agency known as S.H.I.E.L.D., finds himself in need of a team to pull the world back from the brink of disaster. Spanning the globe, a daring recruitment effort begins!',\n",
       " 'popularity': 109.201,\n",
       " 'poster_path': '/RYMX2wcKCBAr24UyPD7xwmjaTn.jpg',\n",
       " 'production_companies': [{'id': 420,\n",
       "   'logo_path': '/hUzeosd33nzE5MCNsZxCGEKTXaQ.png',\n",
       "   'name': 'Marvel Studios',\n",
       "   'origin_country': 'US'}],\n",
       " 'production_countries': [{'iso_3166_1': 'US',\n",
       "   'name': 'United States of America'}],\n",
       " 'release_date': '2012-04-25',\n",
       " 'revenue': 1518815515,\n",
       " 'runtime': 143,\n",
       " 'spoken_languages': [{'english_name': 'English',\n",
       "   'iso_639_1': 'en',\n",
       "   'name': 'English'},\n",
       "  {'english_name': 'Hindi', 'iso_639_1': 'hi', 'name': 'हिन्दी'},\n",
       "  {'english_name': 'Russian', 'iso_639_1': 'ru', 'name': 'Pусский'}],\n",
       " 'status': 'Released',\n",
       " 'tagline': 'Some assembly required.',\n",
       " 'title': 'The Avengers',\n",
       " 'video': False,\n",
       " 'vote_average': 7.71,\n",
       " 'vote_count': 29197,\n",
       " 'certification': 'PG-13'}"
      ]
     },
     "execution_count": 6,
     "metadata": {},
     "output_type": "execute_result"
    }
   ],
   "source": [
    "get_movie_with_rating(\"tt0848228\")"
   ]
  },
  {
   "cell_type": "code",
   "execution_count": 7,
   "id": "14931ae4-6acb-4552-8ed5-105a3851393b",
   "metadata": {},
   "outputs": [
    {
     "data": {
      "text/plain": [
       "{'adult': False,\n",
       " 'backdrop_path': '/qom1SZSENdmHFNZBXbtJAU0WTlC.jpg',\n",
       " 'belongs_to_collection': None,\n",
       " 'budget': 29000000,\n",
       " 'genres': [{'id': 10749, 'name': 'Romance'}, {'id': 18, 'name': 'Drama'}],\n",
       " 'homepage': 'http://www.newline.com/properties/notebookthe.html',\n",
       " 'id': 11036,\n",
       " 'imdb_id': 'tt0332280',\n",
       " 'original_language': 'en',\n",
       " 'original_title': 'The Notebook',\n",
       " 'overview': \"An epic love story centered around an older man who reads aloud to a woman with Alzheimer's. From a faded notebook, the old man's words bring to life the story about a couple who is separated by World War II, and is then passionately reunited, seven years later, after they have taken different paths.\",\n",
       " 'popularity': 60.303,\n",
       " 'poster_path': '/rNzQyW4f8B8cQeg7Dgj3n6eT5k9.jpg',\n",
       " 'production_companies': [{'id': 12,\n",
       "   'logo_path': '/mevhneWSqbjU22D1MXNd4H9x0r0.png',\n",
       "   'name': 'New Line Cinema',\n",
       "   'origin_country': 'US'},\n",
       "  {'id': 1565, 'logo_path': None, 'name': 'Avery Pix', 'origin_country': 'US'},\n",
       "  {'id': 2605,\n",
       "   'logo_path': None,\n",
       "   'name': 'Gran Via Productions',\n",
       "   'origin_country': 'US'}],\n",
       " 'production_countries': [{'iso_3166_1': 'US',\n",
       "   'name': 'United States of America'}],\n",
       " 'release_date': '2004-06-25',\n",
       " 'revenue': 115603229,\n",
       " 'runtime': 123,\n",
       " 'spoken_languages': [{'english_name': 'English',\n",
       "   'iso_639_1': 'en',\n",
       "   'name': 'English'}],\n",
       " 'status': 'Released',\n",
       " 'tagline': 'Behind every great love is a great story.',\n",
       " 'title': 'The Notebook',\n",
       " 'video': False,\n",
       " 'vote_average': 7.88,\n",
       " 'vote_count': 10650,\n",
       " 'certification': 'PG-13'}"
      ]
     },
     "execution_count": 7,
     "metadata": {},
     "output_type": "execute_result"
    }
   ],
   "source": [
    "get_movie_with_rating(\"tt0332280\")"
   ]
  },
  {
   "cell_type": "markdown",
   "id": "d30fc391-4075-4cfd-9574-d08b09a58263",
   "metadata": {},
   "source": [
    "# Load in Cleaned Title Basics"
   ]
  },
  {
   "cell_type": "code",
   "execution_count": 6,
   "id": "5e280180-f5db-49f7-92a7-daad8f69813a",
   "metadata": {},
   "outputs": [],
   "source": [
    "# Load in the dataframe from project part 1 as basics:\n",
    "basics = pd.read_csv('Data/Filtered_Title_Basics')"
   ]
  },
  {
   "cell_type": "markdown",
   "id": "9347275f-a781-4fb6-93ee-6ee76661e6bf",
   "metadata": {},
   "source": [
    "# Pre-processing for Loop"
   ]
  },
  {
   "cell_type": "code",
   "execution_count": 7,
   "id": "57e43d5e-4fc0-48dc-9451-5ce7ec8ad055",
   "metadata": {},
   "outputs": [
    {
     "data": {
      "text/plain": [
       "['.ipynb_checkpoints',\n",
       " 'Filtered_Title_Basics',\n",
       " 'Filtered_Title_Ratings',\n",
       " 'final_tmdb_data_2000.csv.gz',\n",
       " 'final_tmdb_data_2001.csv.gz',\n",
       " 'final_tmdb_data_2002.csv.gz',\n",
       " 'final_tmdb_data_2003.csv.gz',\n",
       " 'final_tmdb_data_2004.csv.gz',\n",
       " 'final_tmdb_data_2005.csv.gz',\n",
       " 'final_tmdb_data_2006.csv.gz',\n",
       " 'final_tmdb_data_2007.csv.gz',\n",
       " 'final_tmdb_data_2008.csv.gz',\n",
       " 'final_tmdb_data_2009.csv.gz',\n",
       " 'final_tmdb_data_2010.csv.gz',\n",
       " 'final_tmdb_data_2011.csv.gz',\n",
       " 'final_tmdb_data_2012.csv.gz',\n",
       " 'final_tmdb_data_2013.csv.gz',\n",
       " 'final_tmdb_data_2014.csv.gz',\n",
       " 'final_tmdb_data_2015.csv.gz',\n",
       " 'final_tmdb_data_2016.csv.gz',\n",
       " 'final_tmdb_data_2017.csv.gz',\n",
       " 'final_tmdb_data_2018.csv.gz',\n",
       " 'final_tmdb_data_2019.csv.gz',\n",
       " 'final_tmdb_data_2020.csv.gz',\n",
       " 'movies-png.png',\n",
       " 'movies.mwb',\n",
       " 'Movies.sql',\n",
       " 'title-akas-us-only.csv',\n",
       " 'title.basics.tsv.gz',\n",
       " 'title.ratings.tsv.gz',\n",
       " 'tmdb_api_results_-22.json',\n",
       " 'tmdb_api_results_2000.json',\n",
       " 'tmdb_api_results_2001.json',\n",
       " 'tmdb_api_results_2002.json',\n",
       " 'tmdb_api_results_2003.json',\n",
       " 'tmdb_api_results_2004.json',\n",
       " 'tmdb_api_results_2005.json',\n",
       " 'tmdb_api_results_2006.json',\n",
       " 'tmdb_api_results_2007.json',\n",
       " 'tmdb_api_results_2008.json',\n",
       " 'tmdb_api_results_2009.json',\n",
       " 'tmdb_api_results_2010.json',\n",
       " 'tmdb_api_results_2011.json',\n",
       " 'tmdb_api_results_2012.json',\n",
       " 'tmdb_api_results_2013.json',\n",
       " 'tmdb_api_results_2014.json',\n",
       " 'tmdb_api_results_2015.json',\n",
       " 'tmdb_api_results_2016.json',\n",
       " 'tmdb_api_results_2017.json',\n",
       " 'tmdb_api_results_2018.json',\n",
       " 'tmdb_api_results_2019.json',\n",
       " 'tmdb_api_results_2020.json']"
      ]
     },
     "execution_count": 7,
     "metadata": {},
     "output_type": "execute_result"
    }
   ],
   "source": [
    "# Create the folder for saving files (if it doesn't exist)\n",
    "FOLDER = \"Data/\"\n",
    "os.makedirs(FOLDER, exist_ok=True)\n",
    "os.listdir(FOLDER)"
   ]
  },
  {
   "cell_type": "code",
   "execution_count": 9,
   "id": "908eb84a-0e41-4ee9-9801-8a8eaed0ec15",
   "metadata": {},
   "outputs": [],
   "source": [
    "#define the test year\n",
    "YEAR = 2001"
   ]
  },
  {
   "cell_type": "code",
   "execution_count": 8,
   "id": "300319a4-d8dc-4b2e-bf7c-e9902e695367",
   "metadata": {},
   "outputs": [],
   "source": [
    "#Create a list for errors\n",
    "errors = [ ]"
   ]
  },
  {
   "cell_type": "code",
   "execution_count": 17,
   "id": "f1a2e9cc-ceef-4ffa-860c-750bf5a8d2bd",
   "metadata": {},
   "outputs": [],
   "source": [
    "YEARS_TO_GET=[2001,2002]"
   ]
  },
  {
   "cell_type": "markdown",
   "id": "a4d880d1-515c-4472-bfde-4faeb2e149ed",
   "metadata": {},
   "source": [
    "# Test For Loop"
   ]
  },
  {
   "cell_type": "code",
   "execution_count": 21,
   "id": "deefb851-e74e-4c02-bd88-297c7b63eaaa",
   "metadata": {},
   "outputs": [
    {
     "data": {
      "application/vnd.jupyter.widget-view+json": {
       "model_id": "96d9d91b8f87445494db33e7061a1471",
       "version_major": 2,
       "version_minor": 0
      },
      "text/plain": [
       "YEARS:   0%|          | 0/2 [00:00<?, ?it/s]"
      ]
     },
     "metadata": {},
     "output_type": "display_data"
    },
    {
     "name": "stdout",
     "output_type": "stream",
     "text": [
      "Creating Data/tmdb_api_results_2001.json for API results for 2001.\n"
     ]
    },
    {
     "data": {
      "application/vnd.jupyter.widget-view+json": {
       "model_id": "10362fa4ceb04cdca67c1842a762b9a8",
       "version_major": 2,
       "version_minor": 0
      },
      "text/plain": [
       "Movies from 2001:   0%|          | 0/1576 [00:00<?, ?it/s]"
      ]
     },
     "metadata": {},
     "output_type": "display_data"
    },
    {
     "name": "stdout",
     "output_type": "stream",
     "text": [
      "Creating Data/tmdb_api_results_2002.json for API results for 2002.\n"
     ]
    },
    {
     "data": {
      "application/vnd.jupyter.widget-view+json": {
       "model_id": "9f4d0c647f8141d18498c57a47da4b34",
       "version_major": 2,
       "version_minor": 0
      },
      "text/plain": [
       "Movies from 2002:   0%|          | 0/1572 [00:00<?, ?it/s]"
      ]
     },
     "metadata": {},
     "output_type": "display_data"
    }
   ],
   "source": [
    "# Start of OUTER loop\n",
    "for YEAR in tqdm_notebook(YEARS_TO_GET, desc='YEARS', position=0):\n",
    "    \n",
    "    #Defining the JSON file to store results for year\n",
    "    JSON_FILE = f'{FOLDER}tmdb_api_results_{YEAR}.json'\n",
    "    # Check if file exists\n",
    "    file_exists = os.path.isfile(JSON_FILE)\n",
    "\n",
    "    # If it does not exist: create it\n",
    "    if file_exists == False:\n",
    "        # Print a message indicating the file is being created \n",
    "        print(f\"Creating {JSON_FILE} for API results for {YEAR}.\")\n",
    "        # save an empty dict with just \"imdb_id\" to the new json file.\n",
    "        with open(JSON_FILE,'w') as f:\n",
    "            json.dump([{'imdb_id':0}],f)\n",
    "\n",
    "    #Saving new year as the current df\n",
    "    df = basics.loc[ basics['startYear'] == YEAR].copy()\n",
    "    # saving movie ids to separate variable\n",
    "    movie_ids = df['tconst'].copy()\n",
    "\n",
    "    # Load existing data from json into a dataframe called \"previous_df\"\n",
    "    previous_df = pd.read_json(JSON_FILE)\n",
    "\n",
    "    # filter out any ids that are already in the JSON_FILE\n",
    "    movie_ids_to_get = movie_ids[~movie_ids.isin(previous_df['imdb_id'])]\n",
    "\n",
    "    # Loop through movie_ids_to_get with a tqdm progress bar\n",
    "    for movie_id in tqdm_notebook(movie_ids_to_get, f\"Movies from {YEAR}\", position=1, leave=True):\n",
    "        #Get index and movie id from list\n",
    "        try:\n",
    "            # Retrieve then data for the movie id\n",
    "            temp = get_movie_with_rating(movie_id)  \n",
    "            # Append/extend results to existing file using a pre-made function\n",
    "            write_json(temp,JSON_FILE)\n",
    "            # Short 20 ms sleep to prevent overwhelming server\n",
    "            time.sleep(0.02)\n",
    "        \n",
    "        except Exception as e:\n",
    "            errors.append([movie_id, e])"
   ]
  },
  {
   "cell_type": "markdown",
   "id": "5085190c-1ab7-45a0-8269-e0a4a1f5cec2",
   "metadata": {},
   "source": [
    "# Run through all the years and save to one file"
   ]
  },
  {
   "cell_type": "code",
   "execution_count": 9,
   "id": "f3386568-a3c5-45de-ada8-83dd1aa1c997",
   "metadata": {},
   "outputs": [],
   "source": [
    "#redefine the year\n",
    "YEAR = 2000"
   ]
  },
  {
   "cell_type": "code",
   "execution_count": 41,
   "id": "aa806d97-e76c-4f2b-b139-0353e431c2bc",
   "metadata": {},
   "outputs": [],
   "source": [
    "#redefine the years to get\n",
    "YEARS_TO_GET=[2004]"
   ]
  },
  {
   "cell_type": "code",
   "execution_count": 42,
   "id": "95446df2-5136-4761-a68a-48724b1e3d9d",
   "metadata": {},
   "outputs": [
    {
     "data": {
      "application/vnd.jupyter.widget-view+json": {
       "model_id": "7acd281c71d54786ad684e12c3bb6a58",
       "version_major": 2,
       "version_minor": 0
      },
      "text/plain": [
       "YEARS:   0%|          | 0/1 [00:00<?, ?it/s]"
      ]
     },
     "metadata": {},
     "output_type": "display_data"
    },
    {
     "name": "stdout",
     "output_type": "stream",
     "text": [
      "Creating Data/tmdb_api_results_2004.json for API results for 2004.\n"
     ]
    },
    {
     "data": {
      "application/vnd.jupyter.widget-view+json": {
       "model_id": "8738a0fe07784430ab0920b232c04008",
       "version_major": 2,
       "version_minor": 0
      },
      "text/plain": [
       "Movies from 2004:   0%|          | 0/1904 [00:00<?, ?it/s]"
      ]
     },
     "metadata": {},
     "output_type": "display_data"
    }
   ],
   "source": [
    "# Start of OUTER loop\n",
    "for YEAR in tqdm_notebook(YEARS_TO_GET, desc='YEARS', position=0):\n",
    "    \n",
    "    #Defining the JSON file to store results for year\n",
    "    JSON_FILE = f'{FOLDER}tmdb_api_results_{YEAR}.json'\n",
    "    # Check if file exists\n",
    "    file_exists = os.path.isfile(JSON_FILE)\n",
    "\n",
    "    # If it does not exist: create it\n",
    "    if file_exists == False:\n",
    "        # Print a message indicating the file is being created \n",
    "        print(f\"Creating {JSON_FILE} for API results for {YEAR}.\")\n",
    "        # save an empty dict with just \"imdb_id\" to the new json file.\n",
    "        with open(JSON_FILE,'w') as f:\n",
    "            json.dump([{'imdb_id':0}],f)\n",
    "\n",
    "    #Saving new year as the current df\n",
    "    df = basics.loc[ basics['startYear'] == YEAR].copy()\n",
    "    # saving movie ids to separate variable\n",
    "    movie_ids = df['tconst'].copy()\n",
    "\n",
    "    # Load existing data from json into a dataframe called \"previous_df\"\n",
    "    previous_df = pd.read_json(JSON_FILE)\n",
    "\n",
    "    # filter out any ids that are already in the JSON_FILE\n",
    "    movie_ids_to_get = movie_ids[~movie_ids.isin(previous_df['imdb_id'])]\n",
    "\n",
    "    # Loop through movie_ids_to_get with a tqdm progress bar\n",
    "    for movie_id in tqdm_notebook(movie_ids_to_get, f\"Movies from {YEAR}\", position=1, leave=True):\n",
    "        #Get index and movie id from list\n",
    "        try:\n",
    "            # Retrieve then data for the movie id\n",
    "            temp = get_movie_with_rating(movie_id)  \n",
    "            # Append/extend results to existing file using a pre-made function\n",
    "            write_json(temp,JSON_FILE)\n",
    "            # Short 20 ms sleep to prevent overwhelming server\n",
    "            time.sleep(0.02)\n",
    "        \n",
    "        except Exception as e:\n",
    "            errors.append([movie_id, e])\n",
    "\n",
    "        final_year_df = pd.read_json(JSON_FILE)\n",
    "        final_year_df.to_csv(f\"{FOLDER}final_tmdb_data_{YEAR}.csv.gz\", compression=\"gzip\", index=False)"
   ]
  },
  {
   "cell_type": "code",
   "execution_count": 43,
   "id": "77078a9c-b3eb-46b4-97e1-396440ca31bc",
   "metadata": {},
   "outputs": [
    {
     "data": {
      "text/plain": [
       "['Data\\\\final_tmdb_data_2000.csv.gz',\n",
       " 'Data\\\\final_tmdb_data_2001.csv.gz',\n",
       " 'Data\\\\final_tmdb_data_2002.csv.gz',\n",
       " 'Data\\\\final_tmdb_data_2003.csv.gz',\n",
       " 'Data\\\\final_tmdb_data_2004.csv.gz',\n",
       " 'Data\\\\final_tmdb_data_2005.csv.gz',\n",
       " 'Data\\\\final_tmdb_data_2006.csv.gz',\n",
       " 'Data\\\\final_tmdb_data_2007.csv.gz',\n",
       " 'Data\\\\final_tmdb_data_2008.csv.gz',\n",
       " 'Data\\\\final_tmdb_data_2009.csv.gz',\n",
       " 'Data\\\\final_tmdb_data_2010.csv.gz',\n",
       " 'Data\\\\final_tmdb_data_2011.csv.gz',\n",
       " 'Data\\\\final_tmdb_data_2012.csv.gz',\n",
       " 'Data\\\\final_tmdb_data_2013.csv.gz',\n",
       " 'Data\\\\final_tmdb_data_2014.csv.gz',\n",
       " 'Data\\\\final_tmdb_data_2015.csv.gz',\n",
       " 'Data\\\\final_tmdb_data_2016.csv.gz',\n",
       " 'Data\\\\final_tmdb_data_2017.csv.gz',\n",
       " 'Data\\\\final_tmdb_data_2018.csv.gz',\n",
       " 'Data\\\\final_tmdb_data_2019.csv.gz',\n",
       " 'Data\\\\final_tmdb_data_2020.csv.gz',\n",
       " 'Data\\\\final_tmdb_data_2021.csv.gz',\n",
       " 'Data\\\\final_tmdb_data_2022.csv.gz']"
      ]
     },
     "execution_count": 43,
     "metadata": {},
     "output_type": "execute_result"
    }
   ],
   "source": [
    "import glob\n",
    "# Use glob to get all filepaths that match the pattern (*=wildcard)\n",
    "f = \"Data/final_tmdb_data*.csv.gz\"\n",
    "tmdb_files = sorted(glob.glob(f))\n",
    "tmdb_files"
   ]
  },
  {
   "cell_type": "code",
   "execution_count": 44,
   "id": "6f115fd3-86c7-418c-9fd4-7ea7dbd2811a",
   "metadata": {},
   "outputs": [
    {
     "data": {
      "text/html": [
       "<div>\n",
       "<style scoped>\n",
       "    .dataframe tbody tr th:only-of-type {\n",
       "        vertical-align: middle;\n",
       "    }\n",
       "\n",
       "    .dataframe tbody tr th {\n",
       "        vertical-align: top;\n",
       "    }\n",
       "\n",
       "    .dataframe thead th {\n",
       "        text-align: right;\n",
       "    }\n",
       "</style>\n",
       "<table border=\"1\" class=\"dataframe\">\n",
       "  <thead>\n",
       "    <tr style=\"text-align: right;\">\n",
       "      <th></th>\n",
       "      <th>imdb_id</th>\n",
       "      <th>adult</th>\n",
       "      <th>backdrop_path</th>\n",
       "      <th>belongs_to_collection</th>\n",
       "      <th>budget</th>\n",
       "      <th>genres</th>\n",
       "      <th>homepage</th>\n",
       "      <th>id</th>\n",
       "      <th>original_language</th>\n",
       "      <th>original_title</th>\n",
       "      <th>...</th>\n",
       "      <th>revenue</th>\n",
       "      <th>runtime</th>\n",
       "      <th>spoken_languages</th>\n",
       "      <th>status</th>\n",
       "      <th>tagline</th>\n",
       "      <th>title</th>\n",
       "      <th>video</th>\n",
       "      <th>vote_average</th>\n",
       "      <th>vote_count</th>\n",
       "      <th>certification\\r</th>\n",
       "    </tr>\n",
       "  </thead>\n",
       "  <tbody>\n",
       "    <tr>\n",
       "      <th>0</th>\n",
       "      <td>0</td>\n",
       "      <td>NaN</td>\n",
       "      <td>NaN</td>\n",
       "      <td>NaN</td>\n",
       "      <td>NaN</td>\n",
       "      <td>NaN</td>\n",
       "      <td>NaN</td>\n",
       "      <td>NaN</td>\n",
       "      <td>NaN</td>\n",
       "      <td>NaN</td>\n",
       "      <td>...</td>\n",
       "      <td>NaN</td>\n",
       "      <td>NaN</td>\n",
       "      <td>NaN</td>\n",
       "      <td>NaN</td>\n",
       "      <td>NaN</td>\n",
       "      <td>NaN</td>\n",
       "      <td>NaN</td>\n",
       "      <td>NaN</td>\n",
       "      <td>NaN</td>\n",
       "      <td>\\r</td>\n",
       "    </tr>\n",
       "    <tr>\n",
       "      <th>1</th>\n",
       "      <td>tt0113026</td>\n",
       "      <td>0.0</td>\n",
       "      <td>/vMFs7nw6P0bIV1jDsQpxAieAVnH.jpg</td>\n",
       "      <td>NaN</td>\n",
       "      <td>10000000.0</td>\n",
       "      <td>[{'id': 35, 'name': 'Comedy'}, {'id': 10402, '...</td>\n",
       "      <td>NaN</td>\n",
       "      <td>62127.0</td>\n",
       "      <td>en</td>\n",
       "      <td>The Fantasticks</td>\n",
       "      <td>...</td>\n",
       "      <td>0.0</td>\n",
       "      <td>86.0</td>\n",
       "      <td>[{'english_name': 'English', 'iso_639_1': 'en'...</td>\n",
       "      <td>Released</td>\n",
       "      <td>Try to remember the first time magic happened</td>\n",
       "      <td>The Fantasticks</td>\n",
       "      <td>0.0</td>\n",
       "      <td>5.500</td>\n",
       "      <td>22.0</td>\n",
       "      <td>\\r</td>\n",
       "    </tr>\n",
       "    <tr>\n",
       "      <th>2</th>\n",
       "      <td>tt0113092</td>\n",
       "      <td>0.0</td>\n",
       "      <td>NaN</td>\n",
       "      <td>NaN</td>\n",
       "      <td>0.0</td>\n",
       "      <td>[{'id': 878, 'name': 'Science Fiction'}]</td>\n",
       "      <td>NaN</td>\n",
       "      <td>110977.0</td>\n",
       "      <td>en</td>\n",
       "      <td>For the Cause</td>\n",
       "      <td>...</td>\n",
       "      <td>0.0</td>\n",
       "      <td>100.0</td>\n",
       "      <td>[{'english_name': 'English', 'iso_639_1': 'en'...</td>\n",
       "      <td>Released</td>\n",
       "      <td>The ultimate showdown on a forbidden planet.</td>\n",
       "      <td>For the Cause</td>\n",
       "      <td>0.0</td>\n",
       "      <td>5.450</td>\n",
       "      <td>10.0</td>\n",
       "      <td>\\r</td>\n",
       "    </tr>\n",
       "    <tr>\n",
       "      <th>3</th>\n",
       "      <td>tt0116391</td>\n",
       "      <td>0.0</td>\n",
       "      <td>NaN</td>\n",
       "      <td>NaN</td>\n",
       "      <td>0.0</td>\n",
       "      <td>[{'id': 18, 'name': 'Drama'}, {'id': 28, 'name...</td>\n",
       "      <td>NaN</td>\n",
       "      <td>442869.0</td>\n",
       "      <td>hi</td>\n",
       "      <td>Gang</td>\n",
       "      <td>...</td>\n",
       "      <td>0.0</td>\n",
       "      <td>152.0</td>\n",
       "      <td>[{'english_name': 'Hindi', 'iso_639_1': 'hi', ...</td>\n",
       "      <td>Released</td>\n",
       "      <td>NaN</td>\n",
       "      <td>Gang</td>\n",
       "      <td>0.0</td>\n",
       "      <td>4.000</td>\n",
       "      <td>1.0</td>\n",
       "      <td>\\r</td>\n",
       "    </tr>\n",
       "    <tr>\n",
       "      <th>4</th>\n",
       "      <td>tt0118694</td>\n",
       "      <td>0.0</td>\n",
       "      <td>/n4GJFGzsc7NinI1VeGDXIcQjtU2.jpg</td>\n",
       "      <td>NaN</td>\n",
       "      <td>150000.0</td>\n",
       "      <td>[{'id': 18, 'name': 'Drama'}, {'id': 10749, 'n...</td>\n",
       "      <td>NaN</td>\n",
       "      <td>843.0</td>\n",
       "      <td>cn</td>\n",
       "      <td>花樣年華</td>\n",
       "      <td>...</td>\n",
       "      <td>14204632.0</td>\n",
       "      <td>99.0</td>\n",
       "      <td>[{'english_name': 'Cantonese', 'iso_639_1': 'c...</td>\n",
       "      <td>Released</td>\n",
       "      <td>Feel the heat, keep the feeling burning, let t...</td>\n",
       "      <td>In the Mood for Love</td>\n",
       "      <td>0.0</td>\n",
       "      <td>8.107</td>\n",
       "      <td>2343.0</td>\n",
       "      <td>PG\\r</td>\n",
       "    </tr>\n",
       "    <tr>\n",
       "      <th>...</th>\n",
       "      <td>...</td>\n",
       "      <td>...</td>\n",
       "      <td>...</td>\n",
       "      <td>...</td>\n",
       "      <td>...</td>\n",
       "      <td>...</td>\n",
       "      <td>...</td>\n",
       "      <td>...</td>\n",
       "      <td>...</td>\n",
       "      <td>...</td>\n",
       "      <td>...</td>\n",
       "      <td>...</td>\n",
       "      <td>...</td>\n",
       "      <td>...</td>\n",
       "      <td>...</td>\n",
       "      <td>...</td>\n",
       "      <td>...</td>\n",
       "      <td>...</td>\n",
       "      <td>...</td>\n",
       "      <td>...</td>\n",
       "      <td>...</td>\n",
       "    </tr>\n",
       "    <tr>\n",
       "      <th>3913</th>\n",
       "      <td>tt9888954</td>\n",
       "      <td>0.0</td>\n",
       "      <td>NaN</td>\n",
       "      <td>NaN</td>\n",
       "      <td>0.0</td>\n",
       "      <td>[]</td>\n",
       "      <td>NaN</td>\n",
       "      <td>1183545.0</td>\n",
       "      <td>en</td>\n",
       "      <td>Reanimation Team</td>\n",
       "      <td>...</td>\n",
       "      <td>0.0</td>\n",
       "      <td>98.0</td>\n",
       "      <td>[]</td>\n",
       "      <td>Released</td>\n",
       "      <td>NaN</td>\n",
       "      <td>Reanimation Team</td>\n",
       "      <td>0.0</td>\n",
       "      <td>0.000</td>\n",
       "      <td>0.0</td>\n",
       "      <td>\\r</td>\n",
       "    </tr>\n",
       "    <tr>\n",
       "      <th>3914</th>\n",
       "      <td>tt9893130</td>\n",
       "      <td>0.0</td>\n",
       "      <td>NaN</td>\n",
       "      <td>NaN</td>\n",
       "      <td>0.0</td>\n",
       "      <td>[{'id': 27, 'name': 'Horror'}, {'id': 28, 'nam...</td>\n",
       "      <td>NaN</td>\n",
       "      <td>972731.0</td>\n",
       "      <td>en</td>\n",
       "      <td>2025: Blood, White &amp; Blue</td>\n",
       "      <td>...</td>\n",
       "      <td>0.0</td>\n",
       "      <td>135.0</td>\n",
       "      <td>[{'english_name': 'English', 'iso_639_1': 'en'...</td>\n",
       "      <td>Released</td>\n",
       "      <td>THE PURGE meets US</td>\n",
       "      <td>2025: Blood, White &amp; Blue</td>\n",
       "      <td>0.0</td>\n",
       "      <td>7.000</td>\n",
       "      <td>2.0</td>\n",
       "      <td>\\r</td>\n",
       "    </tr>\n",
       "    <tr>\n",
       "      <th>3915</th>\n",
       "      <td>tt9893158</td>\n",
       "      <td>0.0</td>\n",
       "      <td>NaN</td>\n",
       "      <td>NaN</td>\n",
       "      <td>0.0</td>\n",
       "      <td>[{'id': 80, 'name': 'Crime'}, {'id': 10749, 'n...</td>\n",
       "      <td>NaN</td>\n",
       "      <td>796955.0</td>\n",
       "      <td>en</td>\n",
       "      <td>Clowning</td>\n",
       "      <td>...</td>\n",
       "      <td>0.0</td>\n",
       "      <td>96.0</td>\n",
       "      <td>[{'english_name': 'English', 'iso_639_1': 'en'...</td>\n",
       "      <td>Released</td>\n",
       "      <td>Warm nights... Feels like death in the sand du...</td>\n",
       "      <td>Clowning</td>\n",
       "      <td>0.0</td>\n",
       "      <td>8.000</td>\n",
       "      <td>1.0</td>\n",
       "      <td>\\r</td>\n",
       "    </tr>\n",
       "    <tr>\n",
       "      <th>3916</th>\n",
       "      <td>tt9893160</td>\n",
       "      <td>0.0</td>\n",
       "      <td>/bsN0OyA6ZSQ3vkvNMaoNgp4woB6.jpg</td>\n",
       "      <td>NaN</td>\n",
       "      <td>0.0</td>\n",
       "      <td>[{'id': 53, 'name': 'Thriller'}, {'id': 80, 'n...</td>\n",
       "      <td>NaN</td>\n",
       "      <td>606303.0</td>\n",
       "      <td>en</td>\n",
       "      <td>No Way Out</td>\n",
       "      <td>...</td>\n",
       "      <td>0.0</td>\n",
       "      <td>89.0</td>\n",
       "      <td>[{'english_name': 'English', 'iso_639_1': 'en'...</td>\n",
       "      <td>Released</td>\n",
       "      <td>Find what you love and let it kill you.</td>\n",
       "      <td>No Way Out</td>\n",
       "      <td>0.0</td>\n",
       "      <td>5.200</td>\n",
       "      <td>13.0</td>\n",
       "      <td>\\r</td>\n",
       "    </tr>\n",
       "    <tr>\n",
       "      <th>3917</th>\n",
       "      <td>tt9904648</td>\n",
       "      <td>0.0</td>\n",
       "      <td>/ibWj2ARVrAabIWDq5vSXoJRZfVV.jpg</td>\n",
       "      <td>NaN</td>\n",
       "      <td>0.0</td>\n",
       "      <td>[{'id': 35, 'name': 'Comedy'}, {'id': 10749, '...</td>\n",
       "      <td>https://contrastmovie.com/</td>\n",
       "      <td>933557.0</td>\n",
       "      <td>en</td>\n",
       "      <td>The Contrast</td>\n",
       "      <td>...</td>\n",
       "      <td>0.0</td>\n",
       "      <td>82.0</td>\n",
       "      <td>[{'english_name': 'English', 'iso_639_1': 'en'...</td>\n",
       "      <td>Released</td>\n",
       "      <td>Everybody loves... somebody else.</td>\n",
       "      <td>The Contrast</td>\n",
       "      <td>0.0</td>\n",
       "      <td>3.000</td>\n",
       "      <td>1.0</td>\n",
       "      <td>\\r</td>\n",
       "    </tr>\n",
       "  </tbody>\n",
       "</table>\n",
       "<p>67353 rows × 26 columns</p>\n",
       "</div>"
      ],
      "text/plain": [
       "        imdb_id  adult                     backdrop_path  \\\n",
       "0             0    NaN                               NaN   \n",
       "1     tt0113026    0.0  /vMFs7nw6P0bIV1jDsQpxAieAVnH.jpg   \n",
       "2     tt0113092    0.0                               NaN   \n",
       "3     tt0116391    0.0                               NaN   \n",
       "4     tt0118694    0.0  /n4GJFGzsc7NinI1VeGDXIcQjtU2.jpg   \n",
       "...         ...    ...                               ...   \n",
       "3913  tt9888954    0.0                               NaN   \n",
       "3914  tt9893130    0.0                               NaN   \n",
       "3915  tt9893158    0.0                               NaN   \n",
       "3916  tt9893160    0.0  /bsN0OyA6ZSQ3vkvNMaoNgp4woB6.jpg   \n",
       "3917  tt9904648    0.0  /ibWj2ARVrAabIWDq5vSXoJRZfVV.jpg   \n",
       "\n",
       "     belongs_to_collection      budget  \\\n",
       "0                      NaN         NaN   \n",
       "1                      NaN  10000000.0   \n",
       "2                      NaN         0.0   \n",
       "3                      NaN         0.0   \n",
       "4                      NaN    150000.0   \n",
       "...                    ...         ...   \n",
       "3913                   NaN         0.0   \n",
       "3914                   NaN         0.0   \n",
       "3915                   NaN         0.0   \n",
       "3916                   NaN         0.0   \n",
       "3917                   NaN         0.0   \n",
       "\n",
       "                                                 genres  \\\n",
       "0                                                   NaN   \n",
       "1     [{'id': 35, 'name': 'Comedy'}, {'id': 10402, '...   \n",
       "2              [{'id': 878, 'name': 'Science Fiction'}]   \n",
       "3     [{'id': 18, 'name': 'Drama'}, {'id': 28, 'name...   \n",
       "4     [{'id': 18, 'name': 'Drama'}, {'id': 10749, 'n...   \n",
       "...                                                 ...   \n",
       "3913                                                 []   \n",
       "3914  [{'id': 27, 'name': 'Horror'}, {'id': 28, 'nam...   \n",
       "3915  [{'id': 80, 'name': 'Crime'}, {'id': 10749, 'n...   \n",
       "3916  [{'id': 53, 'name': 'Thriller'}, {'id': 80, 'n...   \n",
       "3917  [{'id': 35, 'name': 'Comedy'}, {'id': 10749, '...   \n",
       "\n",
       "                        homepage         id original_language  \\\n",
       "0                            NaN        NaN               NaN   \n",
       "1                            NaN    62127.0                en   \n",
       "2                            NaN   110977.0                en   \n",
       "3                            NaN   442869.0                hi   \n",
       "4                            NaN      843.0                cn   \n",
       "...                          ...        ...               ...   \n",
       "3913                         NaN  1183545.0                en   \n",
       "3914                         NaN   972731.0                en   \n",
       "3915                         NaN   796955.0                en   \n",
       "3916                         NaN   606303.0                en   \n",
       "3917  https://contrastmovie.com/   933557.0                en   \n",
       "\n",
       "                 original_title  ...     revenue  runtime  \\\n",
       "0                           NaN  ...         NaN      NaN   \n",
       "1               The Fantasticks  ...         0.0     86.0   \n",
       "2                 For the Cause  ...         0.0    100.0   \n",
       "3                          Gang  ...         0.0    152.0   \n",
       "4                          花樣年華  ...  14204632.0     99.0   \n",
       "...                         ...  ...         ...      ...   \n",
       "3913           Reanimation Team  ...         0.0     98.0   \n",
       "3914  2025: Blood, White & Blue  ...         0.0    135.0   \n",
       "3915                   Clowning  ...         0.0     96.0   \n",
       "3916                 No Way Out  ...         0.0     89.0   \n",
       "3917               The Contrast  ...         0.0     82.0   \n",
       "\n",
       "                                       spoken_languages    status  \\\n",
       "0                                                   NaN       NaN   \n",
       "1     [{'english_name': 'English', 'iso_639_1': 'en'...  Released   \n",
       "2     [{'english_name': 'English', 'iso_639_1': 'en'...  Released   \n",
       "3     [{'english_name': 'Hindi', 'iso_639_1': 'hi', ...  Released   \n",
       "4     [{'english_name': 'Cantonese', 'iso_639_1': 'c...  Released   \n",
       "...                                                 ...       ...   \n",
       "3913                                                 []  Released   \n",
       "3914  [{'english_name': 'English', 'iso_639_1': 'en'...  Released   \n",
       "3915  [{'english_name': 'English', 'iso_639_1': 'en'...  Released   \n",
       "3916  [{'english_name': 'English', 'iso_639_1': 'en'...  Released   \n",
       "3917  [{'english_name': 'English', 'iso_639_1': 'en'...  Released   \n",
       "\n",
       "                                                tagline  \\\n",
       "0                                                   NaN   \n",
       "1         Try to remember the first time magic happened   \n",
       "2          The ultimate showdown on a forbidden planet.   \n",
       "3                                                   NaN   \n",
       "4     Feel the heat, keep the feeling burning, let t...   \n",
       "...                                                 ...   \n",
       "3913                                                NaN   \n",
       "3914                                 THE PURGE meets US   \n",
       "3915  Warm nights... Feels like death in the sand du...   \n",
       "3916            Find what you love and let it kill you.   \n",
       "3917                  Everybody loves... somebody else.   \n",
       "\n",
       "                          title  video  vote_average vote_count  \\\n",
       "0                           NaN    NaN           NaN        NaN   \n",
       "1               The Fantasticks    0.0         5.500       22.0   \n",
       "2                 For the Cause    0.0         5.450       10.0   \n",
       "3                          Gang    0.0         4.000        1.0   \n",
       "4          In the Mood for Love    0.0         8.107     2343.0   \n",
       "...                         ...    ...           ...        ...   \n",
       "3913           Reanimation Team    0.0         0.000        0.0   \n",
       "3914  2025: Blood, White & Blue    0.0         7.000        2.0   \n",
       "3915                   Clowning    0.0         8.000        1.0   \n",
       "3916                 No Way Out    0.0         5.200       13.0   \n",
       "3917               The Contrast    0.0         3.000        1.0   \n",
       "\n",
       "     certification\\r  \n",
       "0                 \\r  \n",
       "1                 \\r  \n",
       "2                 \\r  \n",
       "3                 \\r  \n",
       "4               PG\\r  \n",
       "...              ...  \n",
       "3913              \\r  \n",
       "3914              \\r  \n",
       "3915              \\r  \n",
       "3916              \\r  \n",
       "3917              \\r  \n",
       "\n",
       "[67353 rows x 26 columns]"
      ]
     },
     "execution_count": 44,
     "metadata": {},
     "output_type": "execute_result"
    }
   ],
   "source": [
    "# Use read_csv in a list comprehension and combine with concat to load all files\n",
    "df = pd.concat([pd.read_csv(f, lineterminator='\\n') for f in tmdb_files] )\n",
    "df"
   ]
  },
  {
   "cell_type": "code",
   "execution_count": 45,
   "id": "cd958695-5460-4f10-874c-c8124fad92d1",
   "metadata": {},
   "outputs": [],
   "source": [
    "## Saving the final combined dataframe\n",
    "final_fname ='Data/tmdb_results_combined.csv.gz'\n",
    "df.to_csv(final_fname, compression='gzip', index=False)"
   ]
  },
  {
   "cell_type": "markdown",
   "id": "567014cc-31b5-40ec-baab-092e3920ea2d",
   "metadata": {},
   "source": [
    "# Answer Stakeholder Questions"
   ]
  },
  {
   "cell_type": "code",
   "execution_count": 46,
   "id": "a1b7d9fd-1406-4d76-9b7d-b36f8836c37b",
   "metadata": {},
   "outputs": [],
   "source": [
    "import matplotlib.pyplot as plt\n",
    "import seaborn as sns\n",
    "import numpy as np"
   ]
  },
  {
   "cell_type": "code",
   "execution_count": 50,
   "id": "c1bd09ae-aace-4206-908a-59a096749ab1",
   "metadata": {},
   "outputs": [],
   "source": [
    "df = pd.read_csv('Data/tmdb_results_combined.csv.gz')"
   ]
  },
  {
   "cell_type": "markdown",
   "id": "01bb7331-1514-4752-b687-e9d786373d20",
   "metadata": {},
   "source": [
    "### How many movies had at least some valid financial information (values > 0 for budget OR revenue)?\n",
    "### \n",
    "Please exclude any movies with 0's for budget AND revenue from the remaining visualizations."
   ]
  },
  {
   "cell_type": "code",
   "execution_count": 60,
   "id": "34fd2853-5069-460f-aaab-c3db7b63e0ab",
   "metadata": {},
   "outputs": [
    {
     "data": {
      "text/plain": [
       "(1.0, 3000000000.0)"
      ]
     },
     "execution_count": 60,
     "metadata": {},
     "output_type": "execute_result"
    },
    {
     "data": {
      "image/png": "[encoded data removed]",
      "text/plain": [
       "<Figure size 640x480 with 1 Axes>"
      ]
     },
     "metadata": {},
     "output_type": "display_data"
    }
   ],
   "source": [
    "#revenue above $0\n",
    "ax=sns.histplot(data=df, x='revenue')\n",
    "ax.set_xlim(1,3000000000)"
   ]
  },
  {
   "cell_type": "markdown",
   "id": "d149ca42-5b9f-4e32-ad35-fec65b74e2df",
   "metadata": {},
   "source": [
    "### How many movies are there in each of the certification categories (G/PG/PG-13/R)?"
   ]
  },
  {
   "cell_type": "code",
   "execution_count": 61,
   "id": "634c5b69-485d-43eb-a784-afc04b382eaa",
   "metadata": {},
   "outputs": [
    {
     "data": {
      "text/plain": [
       "\\r                                   51102\n",
       "R\\r                                   6640\n",
       "NR\\r                                  3903\n",
       "PG-13\\r                               3464\n",
       "PG\\r                                  1567\n",
       "G\\r                                    491\n",
       "NC-17\\r                                177\n",
       "Unrated\\r                                5\n",
       "UR\\r                                     1\n",
       "Not Rated\\r                              1\n",
       "ScreamFest Horror Film Festival\\r        1\n",
       "PG-13 \\r                                 1\n",
       "Name: certification\\r, dtype: int64"
      ]
     },
     "execution_count": 61,
     "metadata": {},
     "output_type": "execute_result"
    }
   ],
   "source": [
    "#saving the value counts of each category\n",
    "val_counts = df['certification\\r'].value_counts()\n",
    "val_counts"
   ]
  },
  {
   "cell_type": "code",
   "execution_count": 62,
   "id": "abdacc15-cd6b-4bfd-adaa-7ba3655b6a90",
   "metadata": {},
   "outputs": [
    {
     "data": {
      "text/plain": [
       "Text(0.5, 0, 'Certification Categories')"
      ]
     },
     "execution_count": 62,
     "metadata": {},
     "output_type": "execute_result"
    },
    {
     "name": "stderr",
     "output_type": "stream",
     "text": [
      ") missing from current font.s\\dojo-env\\lib\\site-packages\\IPython\\core\\events.py:93: UserWarning: Glyph 13 (\n",
      "  func(*args, **kwargs)\n",
      ") missing from current font.s\\dojo-env\\lib\\site-packages\\IPython\\core\\pylabtools.py:152: UserWarning: Glyph 13 (\n",
      "  fig.canvas.print_figure(bytes_io, **kw)\n"
     ]
    },
    {
     "data": {
      "image/png": "[encoded data removed]",
      "text/plain": [
       "<Figure size 640x480 with 1 Axes>"
      ]
     },
     "metadata": {},
     "output_type": "display_data"
    }
   ],
   "source": [
    "#Plot the answer to the question\n",
    "ax = val_counts.plot(kind='bar')\n",
    "ax.set_ylabel(\"Number of Movies\");\n",
    "ax.set_xlabel(\"Certification Categories\")"
   ]
  },
  {
   "cell_type": "markdown",
   "id": "2cdddc86-d8ae-4918-8e23-0a1ac8ae1478",
   "metadata": {},
   "source": [
    "### What is the average revenue per certification category?"
   ]
  },
  {
   "cell_type": "code",
   "execution_count": 64,
   "id": "ce6e0c0c-89fc-4d62-b2d6-2ebb2bfc9af1",
   "metadata": {},
   "outputs": [
    {
     "name": "stderr",
     "output_type": "stream",
     "text": [
      ") missing from current font.s\\dojo-env\\lib\\site-packages\\IPython\\core\\events.py:93: UserWarning: Glyph 13 (\n",
      "  func(*args, **kwargs)\n",
      ") missing from current font.s\\dojo-env\\lib\\site-packages\\IPython\\core\\pylabtools.py:152: UserWarning: Glyph 13 (\n",
      "  fig.canvas.print_figure(bytes_io, **kw)\n"
     ]
    },
    {
     "data": {
      "image/png": "[encoded data removed]",
      "text/plain": [
       "<Figure size 640x480 with 1 Axes>"
      ]
     },
     "metadata": {},
     "output_type": "display_data"
    }
   ],
   "source": [
    "#Plot the average revenue of all certifications\n",
    "ax = sns.barplot(data=df, x='certification\\r', y='revenue')\n",
    "ax.set_xticklabels(ax.get_xticklabels(), rotation=45, ha='right');"
   ]
  },
  {
   "cell_type": "markdown",
   "id": "815dbde6-ad82-4e7c-ba4d-0b53e0e23c47",
   "metadata": {},
   "source": [
    "### What is the average budget per certification category?"
   ]
  },
  {
   "cell_type": "code",
   "execution_count": 66,
   "id": "82445adc-cdb2-4d9a-85e5-b17b8bcc11a0",
   "metadata": {},
   "outputs": [
    {
     "name": "stderr",
     "output_type": "stream",
     "text": [
      ") missing from current font.s\\dojo-env\\lib\\site-packages\\IPython\\core\\events.py:93: UserWarning: Glyph 13 (\n",
      "  func(*args, **kwargs)\n",
      ") missing from current font.s\\dojo-env\\lib\\site-packages\\IPython\\core\\pylabtools.py:152: UserWarning: Glyph 13 (\n",
      "  fig.canvas.print_figure(bytes_io, **kw)\n"
     ]
    },
    {
     "data": {
      "image/png": "[encoded data removed]",
      "text/plain": [
       "<Figure size 640x480 with 1 Axes>"
      ]
     },
     "metadata": {},
     "output_type": "display_data"
    }
   ],
   "source": [
    "#Plot the average budget of all certifications\n",
    "ax = sns.barplot(data=df, x='certification\\r', y='budget')\n",
    "ax.set_xticklabels(ax.get_xticklabels(), rotation=45, ha='right');"
   ]
  },
  {
   "cell_type": "code",
   "execution_count": null,
   "id": "b2e62c31-9c4d-4fc7-90db-c35c60ed90db",
   "metadata": {},
   "outputs": [],
   "source": []
  }
 ],
 "metadata": {
  "kernelspec": {
   "display_name": "Python (dojo-env)",
   "language": "python",
   "name": "dojo-env"
  },
  "language_info": {
   "codemirror_mode": {
    "name": "ipython",
    "version": 3
   },
   "file_extension": ".py",
   "mimetype": "text/x-python",
   "name": "python",
   "nbconvert_exporter": "python",
   "pygments_lexer": "ipython3",
   "version": "3.10.10"
  },
  "widgets": {
   "application/vnd.jupyter.widget-state+json": {
    "state": {
     "01a84f2a86d3476696c9d0597375472c": {
      "model_module": "@jupyter-widgets/base",
      "model_module_version": "2.0.0",
      "model_name": "LayoutModel",
      "state": {}
     },
     "05aab6efde714cf19c55661f3f2f33d4": {
      "model_module": "@jupyter-widgets/controls",
      "model_module_version": "2.0.0",
      "model_name": "HTMLStyleModel",
      "state": {
       "description_width": "",
       "font_size": null,
       "text_color": null
      }
     },
     "078bd6dc3d0b4136a3c5423fe6bf6998": {
      "model_module": "@jupyter-widgets/controls",
      "model_module_version": "2.0.0",
      "model_name": "ProgressStyleModel",
      "state": {
       "description_width": ""
      }
     },
     "0d3770351f4e4fdab0644b496ab3213e": {
      "model_module": "@jupyter-widgets/controls",
      "model_module_version": "2.0.0",
      "model_name": "HTMLModel",
      "state": {
       "layout": "IPY_MODEL_547afbfdacf84dc5a45a039ff4f6bd2a",
       "style": "IPY_MODEL_e50e4011c3904edea2ce2bb76902c9b9",
       "value": "Movies from 2004: 100%"
      }
     },
     "0f5175b4a58547a08d11a35fd79b413b": {
      "model_module": "@jupyter-widgets/base",
      "model_module_version": "2.0.0",
      "model_name": "LayoutModel",
      "state": {}
     },
     "18140f31de2f448b9868809b5fcba82e": {
      "model_module": "@jupyter-widgets/controls",
      "model_module_version": "2.0.0",
      "model_name": "FloatProgressModel",
      "state": {
       "bar_style": "success",
       "layout": "IPY_MODEL_61545aead1ec47f182016027a60d1f8a",
       "max": 5163,
       "style": "IPY_MODEL_078bd6dc3d0b4136a3c5423fe6bf6998",
       "value": 5163
      }
     },
     "1bc4f47ff5214e92a0232be10db4e694": {
      "model_module": "@jupyter-widgets/controls",
      "model_module_version": "2.0.0",
      "model_name": "HTMLModel",
      "state": {
       "layout": "IPY_MODEL_abc16110c2fb4e7cabc195068d89a308",
       "style": "IPY_MODEL_4502c8f8ee514f12aa8f16f47447292f",
       "value": " 5163/5163 [56:47&lt;00:00,  1.16s/it]"
      }
     },
     "1cc002e9990b49c28ee68a6047c6f145": {
      "model_module": "@jupyter-widgets/base",
      "model_module_version": "2.0.0",
      "model_name": "LayoutModel",
      "state": {}
     },
     "2d6c991ca3034d0e89ca9ee4198b09c8": {
      "model_module": "@jupyter-widgets/base",
      "model_module_version": "2.0.0",
      "model_name": "LayoutModel",
      "state": {}
     },
     "34103624aee64ad6a9b69cdac2a24d4e": {
      "model_module": "@jupyter-widgets/controls",
      "model_module_version": "2.0.0",
      "model_name": "ProgressStyleModel",
      "state": {
       "description_width": ""
      }
     },
     "39d5abdb052140febd3c49e23286949f": {
      "model_module": "@jupyter-widgets/controls",
      "model_module_version": "2.0.0",
      "model_name": "FloatProgressModel",
      "state": {
       "bar_style": "success",
       "layout": "IPY_MODEL_0f5175b4a58547a08d11a35fd79b413b",
       "max": 5073,
       "style": "IPY_MODEL_34103624aee64ad6a9b69cdac2a24d4e",
       "value": 5073
      }
     },
     "3febc84df77a4639a2f048facbec55d5": {
      "model_module": "@jupyter-widgets/controls",
      "model_module_version": "2.0.0",
      "model_name": "HTMLStyleModel",
      "state": {
       "description_width": "",
       "font_size": null,
       "text_color": null
      }
     },
     "4404a526abf248059d9d13c0c783b174": {
      "model_module": "@jupyter-widgets/controls",
      "model_module_version": "2.0.0",
      "model_name": "HTMLStyleModel",
      "state": {
       "description_width": "",
       "font_size": null,
       "text_color": null
      }
     },
     "448fb7c5a95546289c1a59665160862b": {
      "model_module": "@jupyter-widgets/controls",
      "model_module_version": "2.0.0",
      "model_name": "HBoxModel",
      "state": {
       "children": [
        "IPY_MODEL_899bf99932304c548d322b2f8dd6ac94",
        "IPY_MODEL_18140f31de2f448b9868809b5fcba82e",
        "IPY_MODEL_1bc4f47ff5214e92a0232be10db4e694"
       ],
       "layout": "IPY_MODEL_985e7a37118a44f9b6691318e6823c36"
      }
     },
     "4502c8f8ee514f12aa8f16f47447292f": {
      "model_module": "@jupyter-widgets/controls",
      "model_module_version": "2.0.0",
      "model_name": "HTMLStyleModel",
      "state": {
       "description_width": "",
       "font_size": null,
       "text_color": null
      }
     },
     "4a93b454745c40008245140c16e823dd": {
      "model_module": "@jupyter-widgets/controls",
      "model_module_version": "2.0.0",
      "model_name": "HTMLModel",
      "state": {
       "layout": "IPY_MODEL_b900323773164f5593a373e3b7e43302",
       "style": "IPY_MODEL_adf59540d104420299e0f32ba3bfd014",
       "value": "YEARS: 100%"
      }
     },
     "4e9f500f52c549b58c7ef2e77e77f419": {
      "model_module": "@jupyter-widgets/controls",
      "model_module_version": "2.0.0",
      "model_name": "HBoxModel",
      "state": {
       "children": [
        "IPY_MODEL_f05cdfd872cb41789599919c426a5816",
        "IPY_MODEL_d703c12e68b04bae867b86b53393643c",
        "IPY_MODEL_d6ee5fc42f9c41b0bd14302081377bba"
       ],
       "layout": "IPY_MODEL_01a84f2a86d3476696c9d0597375472c"
      }
     },
     "500175a2647848c88df3cda4cc9049d1": {
      "model_module": "@jupyter-widgets/controls",
      "model_module_version": "2.0.0",
      "model_name": "ProgressStyleModel",
      "state": {
       "description_width": ""
      }
     },
     "506c1e9640df4766804f8a9eaaaeeb66": {
      "model_module": "@jupyter-widgets/controls",
      "model_module_version": "2.0.0",
      "model_name": "HTMLModel",
      "state": {
       "layout": "IPY_MODEL_6ab9085ef6bb4d339081127ee551c1a0",
       "style": "IPY_MODEL_3febc84df77a4639a2f048facbec55d5",
       "value": " 1/1 [14:11&lt;00:00, 851.39s/it]"
      }
     },
     "51a5f864c1c1452eb919e115ef9e8e9d": {
      "model_module": "@jupyter-widgets/base",
      "model_module_version": "2.0.0",
      "model_name": "LayoutModel",
      "state": {}
     },
     "547afbfdacf84dc5a45a039ff4f6bd2a": {
      "model_module": "@jupyter-widgets/base",
      "model_module_version": "2.0.0",
      "model_name": "LayoutModel",
      "state": {}
     },
     "57a50be543b843828d3ac1e2b833e0ab": {
      "model_module": "@jupyter-widgets/controls",
      "model_module_version": "2.0.0",
      "model_name": "HTMLStyleModel",
      "state": {
       "description_width": "",
       "font_size": null,
       "text_color": null
      }
     },
     "61545aead1ec47f182016027a60d1f8a": {
      "model_module": "@jupyter-widgets/base",
      "model_module_version": "2.0.0",
      "model_name": "LayoutModel",
      "state": {}
     },
     "6304e6636b294b6fb986d37780be4623": {
      "model_module": "@jupyter-widgets/controls",
      "model_module_version": "2.0.0",
      "model_name": "HBoxModel",
      "state": {
       "children": [
        "IPY_MODEL_6af35065499b4c7b821621b400b9971e",
        "IPY_MODEL_39d5abdb052140febd3c49e23286949f",
        "IPY_MODEL_ab3f4309b61044eaa7bfec71b888a7dc"
       ],
       "layout": "IPY_MODEL_7fb4c0fd452d4a0dade0fb4e05a12e76"
      }
     },
     "6ab9085ef6bb4d339081127ee551c1a0": {
      "model_module": "@jupyter-widgets/base",
      "model_module_version": "2.0.0",
      "model_name": "LayoutModel",
      "state": {}
     },
     "6af35065499b4c7b821621b400b9971e": {
      "model_module": "@jupyter-widgets/controls",
      "model_module_version": "2.0.0",
      "model_name": "HTMLModel",
      "state": {
       "layout": "IPY_MODEL_d766dd8c0b894cb699521a4ab6c65ac9",
       "style": "IPY_MODEL_957a2833130b44408a37ecb6c9829660",
       "value": "Movies from 2022: 100%"
      }
     },
     "792f5bed6b0e4431a327a7a77893570f": {
      "model_module": "@jupyter-widgets/controls",
      "model_module_version": "2.0.0",
      "model_name": "HTMLStyleModel",
      "state": {
       "description_width": "",
       "font_size": null,
       "text_color": null
      }
     },
     "7acd281c71d54786ad684e12c3bb6a58": {
      "model_module": "@jupyter-widgets/controls",
      "model_module_version": "2.0.0",
      "model_name": "HBoxModel",
      "state": {
       "children": [
        "IPY_MODEL_4a93b454745c40008245140c16e823dd",
        "IPY_MODEL_e8b7aadb5568417e97df8a1b297b8ae3",
        "IPY_MODEL_506c1e9640df4766804f8a9eaaaeeb66"
       ],
       "layout": "IPY_MODEL_8619817f4986478ab62fe07be05ec590"
      }
     },
     "7b562ac6a1b94b19a934a080a03e3e3e": {
      "model_module": "@jupyter-widgets/base",
      "model_module_version": "2.0.0",
      "model_name": "LayoutModel",
      "state": {}
     },
     "7da7126961834133b9a8af2cef75c988": {
      "model_module": "@jupyter-widgets/base",
      "model_module_version": "2.0.0",
      "model_name": "LayoutModel",
      "state": {}
     },
     "7fb4c0fd452d4a0dade0fb4e05a12e76": {
      "model_module": "@jupyter-widgets/base",
      "model_module_version": "2.0.0",
      "model_name": "LayoutModel",
      "state": {}
     },
     "8619817f4986478ab62fe07be05ec590": {
      "model_module": "@jupyter-widgets/base",
      "model_module_version": "2.0.0",
      "model_name": "LayoutModel",
      "state": {}
     },
     "8738a0fe07784430ab0920b232c04008": {
      "model_module": "@jupyter-widgets/controls",
      "model_module_version": "2.0.0",
      "model_name": "HBoxModel",
      "state": {
       "children": [
        "IPY_MODEL_0d3770351f4e4fdab0644b496ab3213e",
        "IPY_MODEL_bdf4d72ed84a4d2791a2d6c5b3a05ee8",
        "IPY_MODEL_ae6329536ef2428d86afe136bd128c01"
       ],
       "layout": "IPY_MODEL_cff0c7e9669a4d00a87931128d78697e"
      }
     },
     "899bf99932304c548d322b2f8dd6ac94": {
      "model_module": "@jupyter-widgets/controls",
      "model_module_version": "2.0.0",
      "model_name": "HTMLModel",
      "state": {
       "layout": "IPY_MODEL_2d6c991ca3034d0e89ca9ee4198b09c8",
       "style": "IPY_MODEL_57a50be543b843828d3ac1e2b833e0ab",
       "value": "Movies from 2021: 100%"
      }
     },
     "957a2833130b44408a37ecb6c9829660": {
      "model_module": "@jupyter-widgets/controls",
      "model_module_version": "2.0.0",
      "model_name": "HTMLStyleModel",
      "state": {
       "description_width": "",
       "font_size": null,
       "text_color": null
      }
     },
     "985e7a37118a44f9b6691318e6823c36": {
      "model_module": "@jupyter-widgets/base",
      "model_module_version": "2.0.0",
      "model_name": "LayoutModel",
      "state": {}
     },
     "9fd4284be5f6468bb13ec72a214389e7": {
      "model_module": "@jupyter-widgets/controls",
      "model_module_version": "2.0.0",
      "model_name": "ProgressStyleModel",
      "state": {
       "description_width": ""
      }
     },
     "ab3f4309b61044eaa7bfec71b888a7dc": {
      "model_module": "@jupyter-widgets/controls",
      "model_module_version": "2.0.0",
      "model_name": "HTMLModel",
      "state": {
       "layout": "IPY_MODEL_1cc002e9990b49c28ee68a6047c6f145",
       "style": "IPY_MODEL_4404a526abf248059d9d13c0c783b174",
       "value": " 5073/5073 [56:26&lt;00:00,  1.18s/it]"
      }
     },
     "abc16110c2fb4e7cabc195068d89a308": {
      "model_module": "@jupyter-widgets/base",
      "model_module_version": "2.0.0",
      "model_name": "LayoutModel",
      "state": {}
     },
     "adf59540d104420299e0f32ba3bfd014": {
      "model_module": "@jupyter-widgets/controls",
      "model_module_version": "2.0.0",
      "model_name": "HTMLStyleModel",
      "state": {
       "description_width": "",
       "font_size": null,
       "text_color": null
      }
     },
     "ae6329536ef2428d86afe136bd128c01": {
      "model_module": "@jupyter-widgets/controls",
      "model_module_version": "2.0.0",
      "model_name": "HTMLModel",
      "state": {
       "layout": "IPY_MODEL_c4aa9acc619c4660a9c7dfa92e711248",
       "style": "IPY_MODEL_e248a7fea70545acbb6604f7042d66a7",
       "value": " 1904/1904 [14:11&lt;00:00,  2.71it/s]"
      }
     },
     "b4ce89ee9bbd4118b452692517058f6f": {
      "model_module": "@jupyter-widgets/base",
      "model_module_version": "2.0.0",
      "model_name": "LayoutModel",
      "state": {}
     },
     "b900323773164f5593a373e3b7e43302": {
      "model_module": "@jupyter-widgets/base",
      "model_module_version": "2.0.0",
      "model_name": "LayoutModel",
      "state": {}
     },
     "bdf4d72ed84a4d2791a2d6c5b3a05ee8": {
      "model_module": "@jupyter-widgets/controls",
      "model_module_version": "2.0.0",
      "model_name": "FloatProgressModel",
      "state": {
       "bar_style": "success",
       "layout": "IPY_MODEL_7b562ac6a1b94b19a934a080a03e3e3e",
       "max": 1904,
       "style": "IPY_MODEL_e0ed6a85ba6a4b76a8a8eaf198893246",
       "value": 1904
      }
     },
     "c4aa9acc619c4660a9c7dfa92e711248": {
      "model_module": "@jupyter-widgets/base",
      "model_module_version": "2.0.0",
      "model_name": "LayoutModel",
      "state": {}
     },
     "cff0c7e9669a4d00a87931128d78697e": {
      "model_module": "@jupyter-widgets/base",
      "model_module_version": "2.0.0",
      "model_name": "LayoutModel",
      "state": {}
     },
     "d6ee5fc42f9c41b0bd14302081377bba": {
      "model_module": "@jupyter-widgets/controls",
      "model_module_version": "2.0.0",
      "model_name": "HTMLModel",
      "state": {
       "layout": "IPY_MODEL_b4ce89ee9bbd4118b452692517058f6f",
       "style": "IPY_MODEL_05aab6efde714cf19c55661f3f2f33d4",
       "value": " 2/2 [1:53:13&lt;00:00, 3394.73s/it]"
      }
     },
     "d703c12e68b04bae867b86b53393643c": {
      "model_module": "@jupyter-widgets/controls",
      "model_module_version": "2.0.0",
      "model_name": "FloatProgressModel",
      "state": {
       "bar_style": "success",
       "layout": "IPY_MODEL_7da7126961834133b9a8af2cef75c988",
       "max": 2,
       "style": "IPY_MODEL_9fd4284be5f6468bb13ec72a214389e7",
       "value": 2
      }
     },
     "d766dd8c0b894cb699521a4ab6c65ac9": {
      "model_module": "@jupyter-widgets/base",
      "model_module_version": "2.0.0",
      "model_name": "LayoutModel",
      "state": {}
     },
     "e0ed6a85ba6a4b76a8a8eaf198893246": {
      "model_module": "@jupyter-widgets/controls",
      "model_module_version": "2.0.0",
      "model_name": "ProgressStyleModel",
      "state": {
       "description_width": ""
      }
     },
     "e248a7fea70545acbb6604f7042d66a7": {
      "model_module": "@jupyter-widgets/controls",
      "model_module_version": "2.0.0",
      "model_name": "HTMLStyleModel",
      "state": {
       "description_width": "",
       "font_size": null,
       "text_color": null
      }
     },
     "e50e4011c3904edea2ce2bb76902c9b9": {
      "model_module": "@jupyter-widgets/controls",
      "model_module_version": "2.0.0",
      "model_name": "HTMLStyleModel",
      "state": {
       "description_width": "",
       "font_size": null,
       "text_color": null
      }
     },
     "e8b7aadb5568417e97df8a1b297b8ae3": {
      "model_module": "@jupyter-widgets/controls",
      "model_module_version": "2.0.0",
      "model_name": "FloatProgressModel",
      "state": {
       "bar_style": "success",
       "layout": "IPY_MODEL_f6ab8dee573b442d9fef9c651174c6c8",
       "max": 1,
       "style": "IPY_MODEL_500175a2647848c88df3cda4cc9049d1",
       "value": 1
      }
     },
     "f05cdfd872cb41789599919c426a5816": {
      "model_module": "@jupyter-widgets/controls",
      "model_module_version": "2.0.0",
      "model_name": "HTMLModel",
      "state": {
       "layout": "IPY_MODEL_51a5f864c1c1452eb919e115ef9e8e9d",
       "style": "IPY_MODEL_792f5bed6b0e4431a327a7a77893570f",
       "value": "YEARS: 100%"
      }
     },
     "f6ab8dee573b442d9fef9c651174c6c8": {
      "model_module": "@jupyter-widgets/base",
      "model_module_version": "2.0.0",
      "model_name": "LayoutModel",
      "state": {}
     }
    },
    "version_major": 2,
    "version_minor": 0
   }
  }
 },
 "nbformat": 4,
 "nbformat_minor": 5
}
