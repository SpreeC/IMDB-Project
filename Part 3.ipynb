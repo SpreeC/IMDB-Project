{
 "cells": [
  {
   "cell_type": "markdown",
   "id": "7c428f94-9a11-413e-9ea8-78a45e15340b",
   "metadata": {},
   "source": [
    "# Imports"
   ]
  },
  {
   "cell_type": "code",
   "execution_count": 1,
   "id": "765ab231-9e7b-4a3d-8f88-e0a9941cb6be",
   "metadata": {},
   "outputs": [],
   "source": [
    "# Import packages\n",
    "import os, time, json\n",
    "import tmdbsimple as tmdb \n",
    "import pandas as pd\n",
    "from tqdm.notebook import tqdm_notebook"
   ]
  },
  {
   "cell_type": "code",
   "execution_count": 2,
   "id": "d9426c53-b93b-40de-8160-d4a2fe1c5733",
   "metadata": {},
   "outputs": [],
   "source": [
    "#load API Credentials\n",
    "with open('/Users/17175/.secret/tmdb_api.json','r') as f:\n",
    "    login = json.load(f)"
   ]
  },
  {
   "cell_type": "code",
   "execution_count": 3,
   "id": "2e0a0d32-2c6a-4daa-97cd-890532275530",
   "metadata": {},
   "outputs": [],
   "source": [
    "#instantiate tmdbapi variable\n",
    "tmdb.API_KEY = login['api-key']"
   ]
  },
  {
   "cell_type": "markdown",
   "id": "e7066099-f5f4-430e-babc-892bf21ee866",
   "metadata": {},
   "source": [
    "# Define Custom Functions"
   ]
  },
  {
   "cell_type": "code",
   "execution_count": 4,
   "id": "3d046933-5ba1-4bcf-bda2-920ace453ebb",
   "metadata": {},
   "outputs": [],
   "source": [
    "def get_movie_with_rating(movie_id):\n",
    "    \"\"\"Adapted from source = https://github.com/celiao/tmdbsimpl\"\"\"\n",
    "    #Get the movie object for the current id\n",
    "    movie = tmdb.Movies(movie_id)\n",
    "\n",
    "    #Save the .info .releases dictionaries\n",
    "    info = movie.info()\n",
    "\n",
    "    releases = movie.releases()\n",
    "    #Loop through countries in releases\n",
    "    for c in releases['countries']:\n",
    "        #If the country abbreviation==US\n",
    "        if c['iso_3166_1'] =='US':\n",
    "            ##Save a 'certification' key in info with the certification\n",
    "            info['certification'] = c['certification']\n",
    "\n",
    "    return info"
   ]
  },
  {
   "cell_type": "code",
   "execution_count": 5,
   "id": "86759099-53d4-4e45-a1e6-28a26d89466d",
   "metadata": {},
   "outputs": [],
   "source": [
    "def write_json(new_data, filename): \n",
    "    \"\"\"Appends a list of records (new_data) to a json file (filename). \n",
    "    Adapted from: https://www.geeksforgeeks.org/append-to-json-file-using-python/\"\"\"  \n",
    "    \n",
    "    with open(filename,'r+') as file:\n",
    "        # First we load existing data into a dict.\n",
    "        file_data = json.load(file)\n",
    "        ## Choose extend or append\n",
    "        if (type(new_data) == list) & (type(file_data) == list):\n",
    "            file_data.extend(new_data)\n",
    "        else:\n",
    "             file_data.append(new_data)\n",
    "        # Sets file's current position at offset.\n",
    "        file.seek(0)\n",
    "        # convert back to json.\n",
    "        json.dump(file_data, file)"
   ]
  },
  {
   "cell_type": "markdown",
   "id": "e24affa7-dc35-4fb8-be0d-91ced2b5e36c",
   "metadata": {},
   "source": [
    "# Test TMDB Extraction Works"
   ]
  },
  {
   "cell_type": "code",
   "execution_count": 6,
   "id": "4d8afd6e-a457-4f39-a87d-d75787362eee",
   "metadata": {},
   "outputs": [
    {
     "data": {
      "text/plain": [
       "{'adult': False,\n",
       " 'backdrop_path': '/9BBTo63ANSmhC4e6r62OJFuK2GL.jpg',\n",
       " 'belongs_to_collection': {'id': 86311,\n",
       "  'name': 'The Avengers Collection',\n",
       "  'poster_path': '/yFSIUVTCvgYrpalUktulvk3Gi5Y.jpg',\n",
       "  'backdrop_path': '/zuW6fOiusv4X9nnW3paHGfXcSll.jpg'},\n",
       " 'budget': 220000000,\n",
       " 'genres': [{'id': 878, 'name': 'Science Fiction'},\n",
       "  {'id': 28, 'name': 'Action'},\n",
       "  {'id': 12, 'name': 'Adventure'}],\n",
       " 'homepage': 'https://www.marvel.com/movies/the-avengers',\n",
       " 'id': 24428,\n",
       " 'imdb_id': 'tt0848228',\n",
       " 'original_language': 'en',\n",
       " 'original_title': 'The Avengers',\n",
       " 'overview': 'When an unexpected enemy emerges and threatens global safety and security, Nick Fury, director of the international peacekeeping agency known as S.H.I.E.L.D., finds himself in need of a team to pull the world back from the brink of disaster. Spanning the globe, a daring recruitment effort begins!',\n",
       " 'popularity': 109.201,\n",
       " 'poster_path': '/RYMX2wcKCBAr24UyPD7xwmjaTn.jpg',\n",
       " 'production_companies': [{'id': 420,\n",
       "   'logo_path': '/hUzeosd33nzE5MCNsZxCGEKTXaQ.png',\n",
       "   'name': 'Marvel Studios',\n",
       "   'origin_country': 'US'}],\n",
       " 'production_countries': [{'iso_3166_1': 'US',\n",
       "   'name': 'United States of America'}],\n",
       " 'release_date': '2012-04-25',\n",
       " 'revenue': 1518815515,\n",
       " 'runtime': 143,\n",
       " 'spoken_languages': [{'english_name': 'English',\n",
       "   'iso_639_1': 'en',\n",
       "   'name': 'English'},\n",
       "  {'english_name': 'Hindi', 'iso_639_1': 'hi', 'name': 'हिन्दी'},\n",
       "  {'english_name': 'Russian', 'iso_639_1': 'ru', 'name': 'Pусский'}],\n",
       " 'status': 'Released',\n",
       " 'tagline': 'Some assembly required.',\n",
       " 'title': 'The Avengers',\n",
       " 'video': False,\n",
       " 'vote_average': 7.71,\n",
       " 'vote_count': 29197,\n",
       " 'certification': 'PG-13'}"
      ]
     },
     "execution_count": 6,
     "metadata": {},
     "output_type": "execute_result"
    }
   ],
   "source": [
    "get_movie_with_rating(\"tt0848228\")"
   ]
  },
  {
   "cell_type": "code",
   "execution_count": 7,
   "id": "14931ae4-6acb-4552-8ed5-105a3851393b",
   "metadata": {},
   "outputs": [
    {
     "data": {
      "text/plain": [
       "{'adult': False,\n",
       " 'backdrop_path': '/qom1SZSENdmHFNZBXbtJAU0WTlC.jpg',\n",
       " 'belongs_to_collection': None,\n",
       " 'budget': 29000000,\n",
       " 'genres': [{'id': 10749, 'name': 'Romance'}, {'id': 18, 'name': 'Drama'}],\n",
       " 'homepage': 'http://www.newline.com/properties/notebookthe.html',\n",
       " 'id': 11036,\n",
       " 'imdb_id': 'tt0332280',\n",
       " 'original_language': 'en',\n",
       " 'original_title': 'The Notebook',\n",
       " 'overview': \"An epic love story centered around an older man who reads aloud to a woman with Alzheimer's. From a faded notebook, the old man's words bring to life the story about a couple who is separated by World War II, and is then passionately reunited, seven years later, after they have taken different paths.\",\n",
       " 'popularity': 60.303,\n",
       " 'poster_path': '/rNzQyW4f8B8cQeg7Dgj3n6eT5k9.jpg',\n",
       " 'production_companies': [{'id': 12,\n",
       "   'logo_path': '/mevhneWSqbjU22D1MXNd4H9x0r0.png',\n",
       "   'name': 'New Line Cinema',\n",
       "   'origin_country': 'US'},\n",
       "  {'id': 1565, 'logo_path': None, 'name': 'Avery Pix', 'origin_country': 'US'},\n",
       "  {'id': 2605,\n",
       "   'logo_path': None,\n",
       "   'name': 'Gran Via Productions',\n",
       "   'origin_country': 'US'}],\n",
       " 'production_countries': [{'iso_3166_1': 'US',\n",
       "   'name': 'United States of America'}],\n",
       " 'release_date': '2004-06-25',\n",
       " 'revenue': 115603229,\n",
       " 'runtime': 123,\n",
       " 'spoken_languages': [{'english_name': 'English',\n",
       "   'iso_639_1': 'en',\n",
       "   'name': 'English'}],\n",
       " 'status': 'Released',\n",
       " 'tagline': 'Behind every great love is a great story.',\n",
       " 'title': 'The Notebook',\n",
       " 'video': False,\n",
       " 'vote_average': 7.88,\n",
       " 'vote_count': 10650,\n",
       " 'certification': 'PG-13'}"
      ]
     },
     "execution_count": 7,
     "metadata": {},
     "output_type": "execute_result"
    }
   ],
   "source": [
    "get_movie_with_rating(\"tt0332280\")"
   ]
  },
  {
   "cell_type": "markdown",
   "id": "d30fc391-4075-4cfd-9574-d08b09a58263",
   "metadata": {},
   "source": [
    "# Load in Cleaned Title Basics"
   ]
  },
  {
   "cell_type": "code",
   "execution_count": 8,
   "id": "5e280180-f5db-49f7-92a7-daad8f69813a",
   "metadata": {},
   "outputs": [],
   "source": [
    "# Load in the dataframe from project part 1 as basics:\n",
    "basics = pd.read_csv('Data/Filtered_Title_Basics')"
   ]
  },
  {
   "cell_type": "markdown",
   "id": "9347275f-a781-4fb6-93ee-6ee76661e6bf",
   "metadata": {},
   "source": [
    "# Pre-processing for Loop"
   ]
  },
  {
   "cell_type": "code",
   "execution_count": 20,
   "id": "57e43d5e-4fc0-48dc-9451-5ce7ec8ad055",
   "metadata": {},
   "outputs": [
    {
     "data": {
      "text/plain": [
       "['.ipynb_checkpoints',\n",
       " 'Filtered_Title_Basics',\n",
       " 'Filtered_Title_Ratings',\n",
       " 'final_tmdb_data_2010.csv.gz',\n",
       " 'movies-png.png',\n",
       " 'movies.mwb',\n",
       " 'Movies.sql',\n",
       " 'title-akas-us-only.csv',\n",
       " 'title.basics.tsv.gz',\n",
       " 'title.ratings.tsv.gz',\n",
       " 'tmdb_api_results_2010.json']"
      ]
     },
     "execution_count": 20,
     "metadata": {},
     "output_type": "execute_result"
    }
   ],
   "source": [
    "# Create the folder for saving files (if it doesn't exist)\n",
    "FOLDER = \"Data/\"\n",
    "os.makedirs(FOLDER, exist_ok=True)\n",
    "os.listdir(FOLDER)"
   ]
  },
  {
   "cell_type": "code",
   "execution_count": 9,
   "id": "908eb84a-0e41-4ee9-9801-8a8eaed0ec15",
   "metadata": {},
   "outputs": [],
   "source": [
    "#define the test year\n",
    "YEAR = 2001"
   ]
  },
  {
   "cell_type": "code",
   "execution_count": 12,
   "id": "300319a4-d8dc-4b2e-bf7c-e9902e695367",
   "metadata": {},
   "outputs": [],
   "source": [
    "#Create a list for errors\n",
    "errors = [ ]"
   ]
  },
  {
   "cell_type": "code",
   "execution_count": 17,
   "id": "f1a2e9cc-ceef-4ffa-860c-750bf5a8d2bd",
   "metadata": {},
   "outputs": [],
   "source": [
    "YEARS_TO_GET=[2001,2002]"
   ]
  },
  {
   "cell_type": "markdown",
   "id": "a4d880d1-515c-4472-bfde-4faeb2e149ed",
   "metadata": {},
   "source": [
    "# Test For Loop"
   ]
  },
  {
   "cell_type": "code",
   "execution_count": 21,
   "id": "deefb851-e74e-4c02-bd88-297c7b63eaaa",
   "metadata": {},
   "outputs": [
    {
     "data": {
      "application/vnd.jupyter.widget-view+json": {
       "model_id": "96d9d91b8f87445494db33e7061a1471",
       "version_major": 2,
       "version_minor": 0
      },
      "text/plain": [
       "YEARS:   0%|          | 0/2 [00:00<?, ?it/s]"
      ]
     },
     "metadata": {},
     "output_type": "display_data"
    },
    {
     "name": "stdout",
     "output_type": "stream",
     "text": [
      "Creating Data/tmdb_api_results_2001.json for API results for 2001.\n"
     ]
    },
    {
     "data": {
      "application/vnd.jupyter.widget-view+json": {
       "model_id": "10362fa4ceb04cdca67c1842a762b9a8",
       "version_major": 2,
       "version_minor": 0
      },
      "text/plain": [
       "Movies from 2001:   0%|          | 0/1576 [00:00<?, ?it/s]"
      ]
     },
     "metadata": {},
     "output_type": "display_data"
    },
    {
     "name": "stdout",
     "output_type": "stream",
     "text": [
      "Creating Data/tmdb_api_results_2002.json for API results for 2002.\n"
     ]
    },
    {
     "data": {
      "application/vnd.jupyter.widget-view+json": {
       "model_id": "9f4d0c647f8141d18498c57a47da4b34",
       "version_major": 2,
       "version_minor": 0
      },
      "text/plain": [
       "Movies from 2002:   0%|          | 0/1572 [00:00<?, ?it/s]"
      ]
     },
     "metadata": {},
     "output_type": "display_data"
    }
   ],
   "source": [
    "# Start of OUTER loop\n",
    "for YEAR in tqdm_notebook(YEARS_TO_GET, desc='YEARS', position=0):\n",
    "    \n",
    "    #Defining the JSON file to store results for year\n",
    "    JSON_FILE = f'{FOLDER}tmdb_api_results_{YEAR}.json'\n",
    "    # Check if file exists\n",
    "    file_exists = os.path.isfile(JSON_FILE)\n",
    "\n",
    "    # If it does not exist: create it\n",
    "    if file_exists == False:\n",
    "        # Print a message indicating the file is being created \n",
    "        print(f\"Creating {JSON_FILE} for API results for {YEAR}.\")\n",
    "        # save an empty dict with just \"imdb_id\" to the new json file.\n",
    "        with open(JSON_FILE,'w') as f:\n",
    "            json.dump([{'imdb_id':0}],f)\n",
    "\n",
    "    #Saving new year as the current df\n",
    "    df = basics.loc[ basics['startYear'] == YEAR].copy()\n",
    "    # saving movie ids to separate variable\n",
    "    movie_ids = df['tconst'].copy()\n",
    "\n",
    "    # Load existing data from json into a dataframe called \"previous_df\"\n",
    "    previous_df = pd.read_json(JSON_FILE)\n",
    "\n",
    "    # filter out any ids that are already in the JSON_FILE\n",
    "    movie_ids_to_get = movie_ids[~movie_ids.isin(previous_df['imdb_id'])]\n",
    "\n",
    "    # Loop through movie_ids_to_get with a tqdm progress bar\n",
    "    for movie_id in tqdm_notebook(movie_ids_to_get, f\"Movies from {YEAR}\", position=1, leave=True):\n",
    "        #Get index and movie id from list\n",
    "        try:\n",
    "            # Retrieve then data for the movie id\n",
    "            temp = get_movie_with_rating(movie_id)  \n",
    "            # Append/extend results to existing file using a pre-made function\n",
    "            write_json(temp,JSON_FILE)\n",
    "            # Short 20 ms sleep to prevent overwhelming server\n",
    "            time.sleep(0.02)\n",
    "        \n",
    "        except Exception as e:\n",
    "            errors.append([movie_id, e])"
   ]
  },
  {
   "cell_type": "markdown",
   "id": "5085190c-1ab7-45a0-8269-e0a4a1f5cec2",
   "metadata": {},
   "source": [
    "# Run through all the years and save to one file"
   ]
  },
  {
   "cell_type": "code",
   "execution_count": 22,
   "id": "f3386568-a3c5-45de-ada8-83dd1aa1c997",
   "metadata": {},
   "outputs": [],
   "source": [
    "#redefine the year\n",
    "YEAR = 2000"
   ]
  },
  {
   "cell_type": "code",
   "execution_count": 27,
   "id": "aa806d97-e76c-4f2b-b139-0353e431c2bc",
   "metadata": {},
   "outputs": [],
   "source": [
    "#redefine the years to get\n",
    "YEARS_TO_GET=[2000,2001,2002,2003,2004,2005,2006,2007,2008,2009,2010,2011,2012,2013,2014,2015,2016,2017,2018,2019,2020,2021,2022]"
   ]
  },
  {
   "cell_type": "code",
   "execution_count": null,
   "id": "95446df2-5136-4761-a68a-48724b1e3d9d",
   "metadata": {},
   "outputs": [
    {
     "data": {
      "application/vnd.jupyter.widget-view+json": {
       "model_id": "76c21fe278c74b8bb6a00fd60ca65b61",
       "version_major": 2,
       "version_minor": 0
      },
      "text/plain": [
       "YEARS:   0%|          | 0/23 [00:00<?, ?it/s]"
      ]
     },
     "metadata": {},
     "output_type": "display_data"
    },
    {
     "data": {
      "application/vnd.jupyter.widget-view+json": {
       "model_id": "eeb9cc741c744c7795411b1bd6a89736",
       "version_major": 2,
       "version_minor": 0
      },
      "text/plain": [
       "Movies from 2000:   0%|          | 0/1384 [00:00<?, ?it/s]"
      ]
     },
     "metadata": {},
     "output_type": "display_data"
    },
    {
     "data": {
      "application/vnd.jupyter.widget-view+json": {
       "model_id": "b769ffe24c4d4261809725ff4674e4d2",
       "version_major": 2,
       "version_minor": 0
      },
      "text/plain": [
       "Movies from 2001:   0%|          | 0/225 [00:00<?, ?it/s]"
      ]
     },
     "metadata": {},
     "output_type": "display_data"
    },
    {
     "data": {
      "application/vnd.jupyter.widget-view+json": {
       "model_id": "2583cc8b196344a898b4ddc62a48aae4",
       "version_major": 2,
       "version_minor": 0
      },
      "text/plain": [
       "Movies from 2002:   0%|          | 0/280 [00:00<?, ?it/s]"
      ]
     },
     "metadata": {},
     "output_type": "display_data"
    },
    {
     "name": "stdout",
     "output_type": "stream",
     "text": [
      "Creating Data/tmdb_api_results_2003.json for API results for 2003.\n"
     ]
    },
    {
     "data": {
      "application/vnd.jupyter.widget-view+json": {
       "model_id": "8e7dbd30a819489d9c9e82989731a8ae",
       "version_major": 2,
       "version_minor": 0
      },
      "text/plain": [
       "Movies from 2003:   0%|          | 0/1687 [00:00<?, ?it/s]"
      ]
     },
     "metadata": {},
     "output_type": "display_data"
    },
    {
     "name": "stdout",
     "output_type": "stream",
     "text": [
      "Creating Data/tmdb_api_results_2004.json for API results for 2004.\n"
     ]
    },
    {
     "data": {
      "application/vnd.jupyter.widget-view+json": {
       "model_id": "31d910ee44aa42ae9d264bde360843d9",
       "version_major": 2,
       "version_minor": 0
      },
      "text/plain": [
       "Movies from 2004:   0%|          | 0/1904 [00:00<?, ?it/s]"
      ]
     },
     "metadata": {},
     "output_type": "display_data"
    }
   ],
   "source": [
    "# Start of OUTER loop\n",
    "for YEAR in tqdm_notebook(YEARS_TO_GET, desc='YEARS', position=0):\n",
    "    \n",
    "    #Defining the JSON file to store results for year\n",
    "    JSON_FILE = f'{FOLDER}tmdb_api_results_{YEAR}.json'\n",
    "    # Check if file exists\n",
    "    file_exists = os.path.isfile(JSON_FILE)\n",
    "\n",
    "    # If it does not exist: create it\n",
    "    if file_exists == False:\n",
    "        # Print a message indicating the file is being created \n",
    "        print(f\"Creating {JSON_FILE} for API results for {YEAR}.\")\n",
    "        # save an empty dict with just \"imdb_id\" to the new json file.\n",
    "        with open(JSON_FILE,'w') as f:\n",
    "            json.dump([{'imdb_id':0}],f)\n",
    "\n",
    "    #Saving new year as the current df\n",
    "    df = basics.loc[ basics['startYear'] == YEAR].copy()\n",
    "    # saving movie ids to separate variable\n",
    "    movie_ids = df['tconst'].copy()\n",
    "\n",
    "    # Load existing data from json into a dataframe called \"previous_df\"\n",
    "    previous_df = pd.read_json(JSON_FILE)\n",
    "\n",
    "    # filter out any ids that are already in the JSON_FILE\n",
    "    movie_ids_to_get = movie_ids[~movie_ids.isin(previous_df['imdb_id'])]\n",
    "\n",
    "    # Loop through movie_ids_to_get with a tqdm progress bar\n",
    "    for movie_id in tqdm_notebook(movie_ids_to_get, f\"Movies from {YEAR}\", position=1, leave=True):\n",
    "        #Get index and movie id from list\n",
    "        try:\n",
    "            # Retrieve then data for the movie id\n",
    "            temp = get_movie_with_rating(movie_id)  \n",
    "            # Append/extend results to existing file using a pre-made function\n",
    "            write_json(temp,JSON_FILE)\n",
    "            # Short 20 ms sleep to prevent overwhelming server\n",
    "            time.sleep(0.02)\n",
    "        \n",
    "        except Exception as e:\n",
    "            errors.append([movie_id, e])\n",
    "\n",
    "        final_year_df = pd.read_json(JSON_FILE)\n",
    "        final_year_df.to_csv(f\"{FOLDER}final_tmdb_data_{YEAR}.csv.gz\", compression=\"gzip\", index=False)"
   ]
  },
  {
   "cell_type": "markdown",
   "id": "567014cc-31b5-40ec-baab-092e3920ea2d",
   "metadata": {},
   "source": [
    "# Answer Stakeholder Questions"
   ]
  },
  {
   "cell_type": "code",
   "execution_count": null,
   "id": "4008832c-7e6d-404e-ae7c-57369ae98cd1",
   "metadata": {},
   "outputs": [],
   "source": []
  }
 ],
 "metadata": {
  "kernelspec": {
   "display_name": "Python (dojo-env)",
   "language": "python",
   "name": "dojo-env"
  },
  "language_info": {
   "codemirror_mode": {
    "name": "ipython",
    "version": 3
   },
   "file_extension": ".py",
   "mimetype": "text/x-python",
   "name": "python",
   "nbconvert_exporter": "python",
   "pygments_lexer": "ipython3",
   "version": "3.10.10"
  },
  "widgets": {
   "application/vnd.jupyter.widget-state+json": {
    "state": {
     "0119bc65128b423ebfe30f5b366e5898": {
      "model_module": "@jupyter-widgets/controls",
      "model_module_version": "2.0.0",
      "model_name": "HBoxModel",
      "state": {
       "children": [
        "IPY_MODEL_b44e0390ed004ea083cbe5e6289f6c73",
        "IPY_MODEL_8056a9a9ecb94528a814bdc3b8084717",
        "IPY_MODEL_2dd29d2ee9b3412dbb0ab0dc5832c536"
       ],
       "layout": "IPY_MODEL_d2c92b4929e24e7997135b4ce1ca53d6"
      }
     },
     "02be521b3b424e81a8b5465adccc4e06": {
      "model_module": "@jupyter-widgets/base",
      "model_module_version": "2.0.0",
      "model_name": "LayoutModel",
      "state": {}
     },
     "02d23ee428a34efea1d8cdf562f21296": {
      "model_module": "@jupyter-widgets/controls",
      "model_module_version": "2.0.0",
      "model_name": "HTMLStyleModel",
      "state": {
       "description_width": "",
       "font_size": null,
       "text_color": null
      }
     },
     "0526e9a290a9448585937ca0133851e9": {
      "model_module": "@jupyter-widgets/controls",
      "model_module_version": "2.0.0",
      "model_name": "ProgressStyleModel",
      "state": {
       "description_width": ""
      }
     },
     "06255c9727a44385a85b42fbe41d6633": {
      "model_module": "@jupyter-widgets/base",
      "model_module_version": "2.0.0",
      "model_name": "LayoutModel",
      "state": {}
     },
     "064ce6bc2f9e4ecd853447477f9f113a": {
      "model_module": "@jupyter-widgets/controls",
      "model_module_version": "2.0.0",
      "model_name": "FloatProgressModel",
      "state": {
       "layout": "IPY_MODEL_724b841d89404c16a365a070ce1b6e35",
       "max": 23,
       "style": "IPY_MODEL_0526e9a290a9448585937ca0133851e9",
       "value": 4
      }
     },
     "0756b669a904495cb0172578f1b6aabc": {
      "model_module": "@jupyter-widgets/controls",
      "model_module_version": "2.0.0",
      "model_name": "ProgressStyleModel",
      "state": {
       "description_width": ""
      }
     },
     "08604a630a334a9d802374c045cc73dc": {
      "model_module": "@jupyter-widgets/base",
      "model_module_version": "2.0.0",
      "model_name": "LayoutModel",
      "state": {}
     },
     "0b1a85bd8c0e414fa6c68a630229e9fe": {
      "model_module": "@jupyter-widgets/controls",
      "model_module_version": "2.0.0",
      "model_name": "ProgressStyleModel",
      "state": {
       "description_width": ""
      }
     },
     "10362fa4ceb04cdca67c1842a762b9a8": {
      "model_module": "@jupyter-widgets/controls",
      "model_module_version": "2.0.0",
      "model_name": "HBoxModel",
      "state": {
       "children": [
        "IPY_MODEL_b29320119e354ad3a4dd9a48475d78e9",
        "IPY_MODEL_b56105b5c7f54d6696cb61d31ec9f92f",
        "IPY_MODEL_ae80c2ed83bc46cda8ec31273f39dab7"
       ],
       "layout": "IPY_MODEL_eb90d98ad3fe4145b0d2d1b52780fe43"
      }
     },
     "14697921c14b4cb8a22f88c9b8f3b0b2": {
      "model_module": "@jupyter-widgets/base",
      "model_module_version": "2.0.0",
      "model_name": "LayoutModel",
      "state": {}
     },
     "1565d5d02bfc43ff9c03b21e98c36f21": {
      "model_module": "@jupyter-widgets/controls",
      "model_module_version": "2.0.0",
      "model_name": "HTMLModel",
      "state": {
       "layout": "IPY_MODEL_a6dae270810243c396e612c3236e92a8",
       "style": "IPY_MODEL_e76d487788ea4b18ad9d1325fb4a2ba9",
       "value": "YEARS: 100%"
      }
     },
     "163fbea9ade54b1ead18275c34699bce": {
      "model_module": "@jupyter-widgets/controls",
      "model_module_version": "2.0.0",
      "model_name": "HBoxModel",
      "state": {
       "children": [
        "IPY_MODEL_f4d18bed85594b7fbd799fb3843d346a",
        "IPY_MODEL_354c3fa029ee49da966412e92ae6c8c1",
        "IPY_MODEL_e0e5c25376074de287ea59cbb45719c2"
       ],
       "layout": "IPY_MODEL_e26655acfedc4d3e9b3ac67b1a17224a"
      }
     },
     "19eb0bb01393482486f252f6abd6477a": {
      "model_module": "@jupyter-widgets/controls",
      "model_module_version": "2.0.0",
      "model_name": "HTMLStyleModel",
      "state": {
       "description_width": "",
       "font_size": null,
       "text_color": null
      }
     },
     "1e0fe86408db499d854c568815f9c8e1": {
      "model_module": "@jupyter-widgets/base",
      "model_module_version": "2.0.0",
      "model_name": "LayoutModel",
      "state": {}
     },
     "1f0fde59b10b4255981d04fdfdf08910": {
      "model_module": "@jupyter-widgets/controls",
      "model_module_version": "2.0.0",
      "model_name": "HTMLStyleModel",
      "state": {
       "description_width": "",
       "font_size": null,
       "text_color": null
      }
     },
     "22a2c0fa0d0a46db92c5fbff4d2bf96a": {
      "model_module": "@jupyter-widgets/base",
      "model_module_version": "2.0.0",
      "model_name": "LayoutModel",
      "state": {}
     },
     "2583cc8b196344a898b4ddc62a48aae4": {
      "model_module": "@jupyter-widgets/controls",
      "model_module_version": "2.0.0",
      "model_name": "HBoxModel",
      "state": {
       "children": [
        "IPY_MODEL_2d348c3f051248339b88a2148ac813e9",
        "IPY_MODEL_a9a78600d34641ca99593562a0aff3a6",
        "IPY_MODEL_3f05e3db105042e9af76f098633f3b17"
       ],
       "layout": "IPY_MODEL_676606a869834b67bbc65b30cc149b66"
      }
     },
     "258ffa1a2992410dbcba6ca77dabbf95": {
      "model_module": "@jupyter-widgets/controls",
      "model_module_version": "2.0.0",
      "model_name": "HTMLModel",
      "state": {
       "layout": "IPY_MODEL_e199bc8cd98c4b9183065f8bd4034170",
       "style": "IPY_MODEL_44a95acdd43c413b91272e1768efb361",
       "value": " 1572/1572 [09:11&lt;00:00,  4.60it/s]"
      }
     },
     "2d348c3f051248339b88a2148ac813e9": {
      "model_module": "@jupyter-widgets/controls",
      "model_module_version": "2.0.0",
      "model_name": "HTMLModel",
      "state": {
       "layout": "IPY_MODEL_61c3819c288b4d4185300e6035460620",
       "style": "IPY_MODEL_829b029d2ac74a52b261fe395a6e3904",
       "value": "Movies from 2002: 100%"
      }
     },
     "2dd29d2ee9b3412dbb0ab0dc5832c536": {
      "model_module": "@jupyter-widgets/controls",
      "model_module_version": "2.0.0",
      "model_name": "HTMLModel",
      "state": {
       "layout": "IPY_MODEL_1e0fe86408db499d854c568815f9c8e1",
       "style": "IPY_MODEL_a2c54180b2624d45ad9c0fef4670eee2",
       "value": " 81/1457 [00:24&lt;07:15,  3.16it/s]"
      }
     },
     "2e363181d16b4110a1708382f4d33ab2": {
      "model_module": "@jupyter-widgets/controls",
      "model_module_version": "2.0.0",
      "model_name": "HTMLStyleModel",
      "state": {
       "description_width": "",
       "font_size": null,
       "text_color": null
      }
     },
     "2f23f7029df44a65b7dd7d1345232d24": {
      "model_module": "@jupyter-widgets/controls",
      "model_module_version": "2.0.0",
      "model_name": "HTMLModel",
      "state": {
       "layout": "IPY_MODEL_eb5afe35242441adb13557f479f2e32b",
       "style": "IPY_MODEL_b7d76cacdc194bffaf628fa27441b109",
       "value": "Movies from 2002: 100%"
      }
     },
     "3161c140057849d8b95381f7148e8218": {
      "model_module": "@jupyter-widgets/controls",
      "model_module_version": "2.0.0",
      "model_name": "HTMLModel",
      "state": {
       "layout": "IPY_MODEL_9685d090af8f447b991dcedb3577f31f",
       "style": "IPY_MODEL_3f824d13db6a4273860a6ac2326f4ee6",
       "value": " 0/2 [00:00&lt;?, ?it/s]"
      }
     },
     "31d910ee44aa42ae9d264bde360843d9": {
      "model_module": "@jupyter-widgets/controls",
      "model_module_version": "2.0.0",
      "model_name": "HBoxModel",
      "state": {
       "children": [
        "IPY_MODEL_e3c112e6d5a3442d9ea06f470a30a660",
        "IPY_MODEL_f771fcdceeb94d9d9eadcbb303321c6f",
        "IPY_MODEL_7794a3c4746346f78806f785b662bd0c"
       ],
       "layout": "IPY_MODEL_ee36bd8dfbc74f4bb4b2484fa3ded855"
      }
     },
     "324f367561e944aebb5d62b324323e63": {
      "model_module": "@jupyter-widgets/base",
      "model_module_version": "2.0.0",
      "model_name": "LayoutModel",
      "state": {}
     },
     "354c3fa029ee49da966412e92ae6c8c1": {
      "model_module": "@jupyter-widgets/controls",
      "model_module_version": "2.0.0",
      "model_name": "FloatProgressModel",
      "state": {
       "bar_style": "danger",
       "layout": "IPY_MODEL_b53930feb9a34c4da21c79d5e8e78c47",
       "max": 2,
       "style": "IPY_MODEL_0756b669a904495cb0172578f1b6aabc"
      }
     },
     "376c90becbbb41de8fbc47e13cafb94d": {
      "model_module": "@jupyter-widgets/controls",
      "model_module_version": "2.0.0",
      "model_name": "ProgressStyleModel",
      "state": {
       "description_width": ""
      }
     },
     "39e18db1f5404cf08b738b31ee1e7481": {
      "model_module": "@jupyter-widgets/controls",
      "model_module_version": "2.0.0",
      "model_name": "ProgressStyleModel",
      "state": {
       "description_width": ""
      }
     },
     "3c8609c5e96a40af9903cd5c77a1e1f0": {
      "model_module": "@jupyter-widgets/base",
      "model_module_version": "2.0.0",
      "model_name": "LayoutModel",
      "state": {}
     },
     "3cef523ee1e74968b2adf6d003094f7b": {
      "model_module": "@jupyter-widgets/controls",
      "model_module_version": "2.0.0",
      "model_name": "FloatProgressModel",
      "state": {
       "bar_style": "danger",
       "layout": "IPY_MODEL_a4bc3769dc1a4287aada56bab9627395",
       "max": 2,
       "style": "IPY_MODEL_4d9a9e755d944486a64f7066bf404b3d"
      }
     },
     "3f05e3db105042e9af76f098633f3b17": {
      "model_module": "@jupyter-widgets/controls",
      "model_module_version": "2.0.0",
      "model_name": "HTMLModel",
      "state": {
       "layout": "IPY_MODEL_6d2c89af60a149f6bf51a67b720d2248",
       "style": "IPY_MODEL_19eb0bb01393482486f252f6abd6477a",
       "value": " 280/280 [01:03&lt;00:00,  3.93it/s]"
      }
     },
     "3f824d13db6a4273860a6ac2326f4ee6": {
      "model_module": "@jupyter-widgets/controls",
      "model_module_version": "2.0.0",
      "model_name": "HTMLStyleModel",
      "state": {
       "description_width": "",
       "font_size": null,
       "text_color": null
      }
     },
     "427cdcbe082c41968a3eb96126b6192c": {
      "model_module": "@jupyter-widgets/base",
      "model_module_version": "2.0.0",
      "model_name": "LayoutModel",
      "state": {
       "width": "20px"
      }
     },
     "44a95acdd43c413b91272e1768efb361": {
      "model_module": "@jupyter-widgets/controls",
      "model_module_version": "2.0.0",
      "model_name": "HTMLStyleModel",
      "state": {
       "description_width": "",
       "font_size": null,
       "text_color": null
      }
     },
     "4abf9e8513664ac68c598a2d408c3d98": {
      "model_module": "@jupyter-widgets/controls",
      "model_module_version": "2.0.0",
      "model_name": "HTMLModel",
      "state": {
       "layout": "IPY_MODEL_6181a92a69e34eaaa1dea181f27b49ce",
       "style": "IPY_MODEL_f24fee39bf5744a095ef03918169c1ed",
       "value": "YEARS: 100%"
      }
     },
     "4b20212b47e9411988af12f1e4c05ba4": {
      "model_module": "@jupyter-widgets/controls",
      "model_module_version": "2.0.0",
      "model_name": "HTMLStyleModel",
      "state": {
       "description_width": "",
       "font_size": null,
       "text_color": null
      }
     },
     "4b4d090b49194d87b6ad9a7c9d64ce73": {
      "model_module": "@jupyter-widgets/controls",
      "model_module_version": "2.0.0",
      "model_name": "FloatProgressModel",
      "state": {
       "bar_style": "success",
       "layout": "IPY_MODEL_7e0cfdb5a0384e848d75eb3616c24e2d",
       "max": 1384,
       "style": "IPY_MODEL_b8f730c111b74ae4ab6a76294e058c12",
       "value": 1384
      }
     },
     "4d9a9e755d944486a64f7066bf404b3d": {
      "model_module": "@jupyter-widgets/controls",
      "model_module_version": "2.0.0",
      "model_name": "ProgressStyleModel",
      "state": {
       "description_width": ""
      }
     },
     "4f0bf1f1be1d4ea283e21fd5d066f5f7": {
      "model_module": "@jupyter-widgets/base",
      "model_module_version": "2.0.0",
      "model_name": "LayoutModel",
      "state": {}
     },
     "522264433200439fb17a802a560cb4d6": {
      "model_module": "@jupyter-widgets/controls",
      "model_module_version": "2.0.0",
      "model_name": "ProgressStyleModel",
      "state": {
       "description_width": ""
      }
     },
     "58293da7963044e0b8b92bf0d6dbae4c": {
      "model_module": "@jupyter-widgets/controls",
      "model_module_version": "2.0.0",
      "model_name": "HTMLModel",
      "state": {
       "layout": "IPY_MODEL_3c8609c5e96a40af9903cd5c77a1e1f0",
       "style": "IPY_MODEL_9e196996c3af4f1b9529dfa77355a97c",
       "value": " 0/0 [00:00&lt;?, ?it/s]"
      }
     },
     "5857c0812dc745dc9e1cb17d62b71c65": {
      "model_module": "@jupyter-widgets/controls",
      "model_module_version": "2.0.0",
      "model_name": "HTMLStyleModel",
      "state": {
       "description_width": "",
       "font_size": null,
       "text_color": null
      }
     },
     "5ac3cfbeeda84c2a95cd8726d79cffed": {
      "model_module": "@jupyter-widgets/controls",
      "model_module_version": "2.0.0",
      "model_name": "FloatProgressModel",
      "state": {
       "bar_style": "success",
       "layout": "IPY_MODEL_fb06eb0708f44e988728cdd285d129e0",
       "max": 1572,
       "style": "IPY_MODEL_0b1a85bd8c0e414fa6c68a630229e9fe",
       "value": 1572
      }
     },
     "6181a92a69e34eaaa1dea181f27b49ce": {
      "model_module": "@jupyter-widgets/base",
      "model_module_version": "2.0.0",
      "model_name": "LayoutModel",
      "state": {}
     },
     "61c3819c288b4d4185300e6035460620": {
      "model_module": "@jupyter-widgets/base",
      "model_module_version": "2.0.0",
      "model_name": "LayoutModel",
      "state": {}
     },
     "65c9d41b463045709a1c4ecbfaf4e1fd": {
      "model_module": "@jupyter-widgets/base",
      "model_module_version": "2.0.0",
      "model_name": "LayoutModel",
      "state": {}
     },
     "65d12f17bf814429ac3bd8a0140caea0": {
      "model_module": "@jupyter-widgets/base",
      "model_module_version": "2.0.0",
      "model_name": "LayoutModel",
      "state": {}
     },
     "660066c54bd449b7b0eab90ec569e3fe": {
      "model_module": "@jupyter-widgets/base",
      "model_module_version": "2.0.0",
      "model_name": "LayoutModel",
      "state": {}
     },
     "66075a8a5e554f13824a6d3f18aaeba2": {
      "model_module": "@jupyter-widgets/base",
      "model_module_version": "2.0.0",
      "model_name": "LayoutModel",
      "state": {}
     },
     "66478059bce6443d902a17358123c76a": {
      "model_module": "@jupyter-widgets/base",
      "model_module_version": "2.0.0",
      "model_name": "LayoutModel",
      "state": {}
     },
     "6675ed5041214635abdadb4e2fc42fa9": {
      "model_module": "@jupyter-widgets/controls",
      "model_module_version": "2.0.0",
      "model_name": "HTMLModel",
      "state": {
       "layout": "IPY_MODEL_d2bfdb747b5b4772a391b51104061753",
       "style": "IPY_MODEL_a37a0892fd774c518d4978b58ce832cc",
       "value": " 1/1 [00:00&lt;00:00, 39.19it/s]"
      }
     },
     "676606a869834b67bbc65b30cc149b66": {
      "model_module": "@jupyter-widgets/base",
      "model_module_version": "2.0.0",
      "model_name": "LayoutModel",
      "state": {}
     },
     "69b795f0ba1e4a1ab989e670557e34cc": {
      "model_module": "@jupyter-widgets/controls",
      "model_module_version": "2.0.0",
      "model_name": "ProgressStyleModel",
      "state": {
       "description_width": ""
      }
     },
     "6c3b95d4b82f46febd3037887008c6f3": {
      "model_module": "@jupyter-widgets/base",
      "model_module_version": "2.0.0",
      "model_name": "LayoutModel",
      "state": {}
     },
     "6cb99b5ef4ee4a4b9210615ca22444e2": {
      "model_module": "@jupyter-widgets/base",
      "model_module_version": "2.0.0",
      "model_name": "LayoutModel",
      "state": {}
     },
     "6d2c89af60a149f6bf51a67b720d2248": {
      "model_module": "@jupyter-widgets/base",
      "model_module_version": "2.0.0",
      "model_name": "LayoutModel",
      "state": {}
     },
     "6ee930902fe54b7198e302ffb5a3a34a": {
      "model_module": "@jupyter-widgets/controls",
      "model_module_version": "2.0.0",
      "model_name": "HTMLModel",
      "state": {
       "layout": "IPY_MODEL_faccc3d7d33a43a2afe3198e51e141cc",
       "style": "IPY_MODEL_e09931ac14214e02b13cb0a9084dabaf",
       "value": "Movies from 2003: 100%"
      }
     },
     "6f7fa82f24d54012b23851764d6202ed": {
      "model_module": "@jupyter-widgets/controls",
      "model_module_version": "2.0.0",
      "model_name": "ProgressStyleModel",
      "state": {
       "description_width": ""
      }
     },
     "703e15ed4b59496d81041789be164183": {
      "model_module": "@jupyter-widgets/controls",
      "model_module_version": "2.0.0",
      "model_name": "ProgressStyleModel",
      "state": {
       "description_width": ""
      }
     },
     "724b841d89404c16a365a070ce1b6e35": {
      "model_module": "@jupyter-widgets/base",
      "model_module_version": "2.0.0",
      "model_name": "LayoutModel",
      "state": {}
     },
     "7363812473db42ed8167087532b58929": {
      "model_module": "@jupyter-widgets/controls",
      "model_module_version": "2.0.0",
      "model_name": "HTMLStyleModel",
      "state": {
       "description_width": "",
       "font_size": null,
       "text_color": null
      }
     },
     "74e2fdfa8fef4a428da40c8306dc435c": {
      "model_module": "@jupyter-widgets/controls",
      "model_module_version": "2.0.0",
      "model_name": "HTMLStyleModel",
      "state": {
       "description_width": "",
       "font_size": null,
       "text_color": null
      }
     },
     "76c21fe278c74b8bb6a00fd60ca65b61": {
      "model_module": "@jupyter-widgets/controls",
      "model_module_version": "2.0.0",
      "model_name": "HBoxModel",
      "state": {
       "children": [
        "IPY_MODEL_c56978169e1842389c4826dcb64b0706",
        "IPY_MODEL_064ce6bc2f9e4ecd853447477f9f113a",
        "IPY_MODEL_7c660b4b9f444e179c4d7eb61ef70e10"
       ],
       "layout": "IPY_MODEL_d97ead38ac394de58b400dcc5fa963d1"
      }
     },
     "771d81dccae349eba4db76c30ed410dc": {
      "model_module": "@jupyter-widgets/controls",
      "model_module_version": "2.0.0",
      "model_name": "HBoxModel",
      "state": {
       "children": [
        "IPY_MODEL_c67fbd71e6a1499e9b89af0c0f70f2dd",
        "IPY_MODEL_3cef523ee1e74968b2adf6d003094f7b",
        "IPY_MODEL_3161c140057849d8b95381f7148e8218"
       ],
       "layout": "IPY_MODEL_08604a630a334a9d802374c045cc73dc"
      }
     },
     "7794a3c4746346f78806f785b662bd0c": {
      "model_module": "@jupyter-widgets/controls",
      "model_module_version": "2.0.0",
      "model_name": "HTMLModel",
      "state": {
       "layout": "IPY_MODEL_14697921c14b4cb8a22f88c9b8f3b0b2",
       "style": "IPY_MODEL_d7f6e2d32fcd4483b393b797d9795219",
       "value": " 298/1904 [01:35&lt;09:53,  2.71it/s]"
      }
     },
     "79279edd19db4992b0b1bbc2b25ef51d": {
      "model_module": "@jupyter-widgets/controls",
      "model_module_version": "2.0.0",
      "model_name": "FloatProgressModel",
      "state": {
       "bar_style": "success",
       "layout": "IPY_MODEL_97eecb7b707d4a64b2dbfe7fd9671913",
       "max": 225,
       "style": "IPY_MODEL_39e18db1f5404cf08b738b31ee1e7481",
       "value": 225
      }
     },
     "7c660b4b9f444e179c4d7eb61ef70e10": {
      "model_module": "@jupyter-widgets/controls",
      "model_module_version": "2.0.0",
      "model_name": "HTMLModel",
      "state": {
       "layout": "IPY_MODEL_4f0bf1f1be1d4ea283e21fd5d066f5f7",
       "style": "IPY_MODEL_1f0fde59b10b4255981d04fdfdf08910",
       "value": " 4/23 [23:15&lt;2:01:11, 382.73s/it]"
      }
     },
     "7e0cfdb5a0384e848d75eb3616c24e2d": {
      "model_module": "@jupyter-widgets/base",
      "model_module_version": "2.0.0",
      "model_name": "LayoutModel",
      "state": {}
     },
     "8056a9a9ecb94528a814bdc3b8084717": {
      "model_module": "@jupyter-widgets/controls",
      "model_module_version": "2.0.0",
      "model_name": "FloatProgressModel",
      "state": {
       "bar_style": "danger",
       "layout": "IPY_MODEL_bfb8955a0b4f46bd90178f8a5b1302b9",
       "max": 1457,
       "style": "IPY_MODEL_703e15ed4b59496d81041789be164183",
       "value": 81
      }
     },
     "805b2f2f26c54af997f76d631c1b53be": {
      "model_module": "@jupyter-widgets/base",
      "model_module_version": "2.0.0",
      "model_name": "LayoutModel",
      "state": {}
     },
     "829b029d2ac74a52b261fe395a6e3904": {
      "model_module": "@jupyter-widgets/controls",
      "model_module_version": "2.0.0",
      "model_name": "HTMLStyleModel",
      "state": {
       "description_width": "",
       "font_size": null,
       "text_color": null
      }
     },
     "8e7dbd30a819489d9c9e82989731a8ae": {
      "model_module": "@jupyter-widgets/controls",
      "model_module_version": "2.0.0",
      "model_name": "HBoxModel",
      "state": {
       "children": [
        "IPY_MODEL_6ee930902fe54b7198e302ffb5a3a34a",
        "IPY_MODEL_a7fd537f59144a728bf0e1e7d967ec77",
        "IPY_MODEL_a089d619b5c243aebe44369822ad44a1"
       ],
       "layout": "IPY_MODEL_66075a8a5e554f13824a6d3f18aaeba2"
      }
     },
     "91872e09643648aa952cfcf1db45cd61": {
      "model_module": "@jupyter-widgets/controls",
      "model_module_version": "2.0.0",
      "model_name": "HTMLModel",
      "state": {
       "layout": "IPY_MODEL_65c9d41b463045709a1c4ecbfaf4e1fd",
       "style": "IPY_MODEL_d21650b70da3451c93c5a59ebc2d8f58",
       "value": " 2/2 [18:37&lt;00:00, 557.58s/it]"
      }
     },
     "949b8b4bdcc44c28979c94939fc159d0": {
      "model_module": "@jupyter-widgets/controls",
      "model_module_version": "2.0.0",
      "model_name": "HTMLStyleModel",
      "state": {
       "description_width": "",
       "font_size": null,
       "text_color": null
      }
     },
     "95e09e4a445643bc8de10d8a606c9cd1": {
      "model_module": "@jupyter-widgets/base",
      "model_module_version": "2.0.0",
      "model_name": "LayoutModel",
      "state": {}
     },
     "9685d090af8f447b991dcedb3577f31f": {
      "model_module": "@jupyter-widgets/base",
      "model_module_version": "2.0.0",
      "model_name": "LayoutModel",
      "state": {}
     },
     "96d9d91b8f87445494db33e7061a1471": {
      "model_module": "@jupyter-widgets/controls",
      "model_module_version": "2.0.0",
      "model_name": "HBoxModel",
      "state": {
       "children": [
        "IPY_MODEL_4abf9e8513664ac68c598a2d408c3d98",
        "IPY_MODEL_e549040b78664156aa54966e9ccac454",
        "IPY_MODEL_91872e09643648aa952cfcf1db45cd61"
       ],
       "layout": "IPY_MODEL_a755489ca95d4bf6b3f9094769fa5c7a"
      }
     },
     "96e887ee646b424cb8b54691b8a27180": {
      "model_module": "@jupyter-widgets/controls",
      "model_module_version": "2.0.0",
      "model_name": "FloatProgressModel",
      "state": {
       "bar_style": "success",
       "layout": "IPY_MODEL_427cdcbe082c41968a3eb96126b6192c",
       "max": 1,
       "style": "IPY_MODEL_f59e58f0d35d47f8a7b89728c0b7fdf5"
      }
     },
     "97eecb7b707d4a64b2dbfe7fd9671913": {
      "model_module": "@jupyter-widgets/base",
      "model_module_version": "2.0.0",
      "model_name": "LayoutModel",
      "state": {}
     },
     "9aa2970f2add4b5ea7a0bcd5c05958c3": {
      "model_module": "@jupyter-widgets/controls",
      "model_module_version": "2.0.0",
      "model_name": "HTMLStyleModel",
      "state": {
       "description_width": "",
       "font_size": null,
       "text_color": null
      }
     },
     "9d25b5da9cee4c02bbc465f8a73a8a4b": {
      "model_module": "@jupyter-widgets/controls",
      "model_module_version": "2.0.0",
      "model_name": "HTMLStyleModel",
      "state": {
       "description_width": "",
       "font_size": null,
       "text_color": null
      }
     },
     "9e196996c3af4f1b9529dfa77355a97c": {
      "model_module": "@jupyter-widgets/controls",
      "model_module_version": "2.0.0",
      "model_name": "HTMLStyleModel",
      "state": {
       "description_width": "",
       "font_size": null,
       "text_color": null
      }
     },
     "9f4d0c647f8141d18498c57a47da4b34": {
      "model_module": "@jupyter-widgets/controls",
      "model_module_version": "2.0.0",
      "model_name": "HBoxModel",
      "state": {
       "children": [
        "IPY_MODEL_2f23f7029df44a65b7dd7d1345232d24",
        "IPY_MODEL_5ac3cfbeeda84c2a95cd8726d79cffed",
        "IPY_MODEL_258ffa1a2992410dbcba6ca77dabbf95"
       ],
       "layout": "IPY_MODEL_b591a5fb0b21475e90b0619a173e4a6f"
      }
     },
     "a089d619b5c243aebe44369822ad44a1": {
      "model_module": "@jupyter-widgets/controls",
      "model_module_version": "2.0.0",
      "model_name": "HTMLModel",
      "state": {
       "layout": "IPY_MODEL_6c3b95d4b82f46febd3037887008c6f3",
       "style": "IPY_MODEL_2e363181d16b4110a1708382f4d33ab2",
       "value": " 1687/1687 [11:40&lt;00:00,  3.04it/s]"
      }
     },
     "a0d25c2d744a4787bc868d9515cfff88": {
      "model_module": "@jupyter-widgets/controls",
      "model_module_version": "2.0.0",
      "model_name": "ProgressStyleModel",
      "state": {
       "description_width": ""
      }
     },
     "a2c54180b2624d45ad9c0fef4670eee2": {
      "model_module": "@jupyter-widgets/controls",
      "model_module_version": "2.0.0",
      "model_name": "HTMLStyleModel",
      "state": {
       "description_width": "",
       "font_size": null,
       "text_color": null
      }
     },
     "a37a0892fd774c518d4978b58ce832cc": {
      "model_module": "@jupyter-widgets/controls",
      "model_module_version": "2.0.0",
      "model_name": "HTMLStyleModel",
      "state": {
       "description_width": "",
       "font_size": null,
       "text_color": null
      }
     },
     "a4bc3769dc1a4287aada56bab9627395": {
      "model_module": "@jupyter-widgets/base",
      "model_module_version": "2.0.0",
      "model_name": "LayoutModel",
      "state": {}
     },
     "a501de9550a74908b737482d24ec0eeb": {
      "model_module": "@jupyter-widgets/base",
      "model_module_version": "2.0.0",
      "model_name": "LayoutModel",
      "state": {}
     },
     "a6dae270810243c396e612c3236e92a8": {
      "model_module": "@jupyter-widgets/base",
      "model_module_version": "2.0.0",
      "model_name": "LayoutModel",
      "state": {}
     },
     "a755489ca95d4bf6b3f9094769fa5c7a": {
      "model_module": "@jupyter-widgets/base",
      "model_module_version": "2.0.0",
      "model_name": "LayoutModel",
      "state": {}
     },
     "a7fd537f59144a728bf0e1e7d967ec77": {
      "model_module": "@jupyter-widgets/controls",
      "model_module_version": "2.0.0",
      "model_name": "FloatProgressModel",
      "state": {
       "bar_style": "success",
       "layout": "IPY_MODEL_d7be0c6867674c71bb67dffa0c0f1b0e",
       "max": 1687,
       "style": "IPY_MODEL_69b795f0ba1e4a1ab989e670557e34cc",
       "value": 1687
      }
     },
     "a8fd519b24bf4206bfc26e00da29e4a4": {
      "model_module": "@jupyter-widgets/base",
      "model_module_version": "2.0.0",
      "model_name": "LayoutModel",
      "state": {}
     },
     "a9a78600d34641ca99593562a0aff3a6": {
      "model_module": "@jupyter-widgets/controls",
      "model_module_version": "2.0.0",
      "model_name": "FloatProgressModel",
      "state": {
       "bar_style": "success",
       "layout": "IPY_MODEL_6cb99b5ef4ee4a4b9210615ca22444e2",
       "max": 280,
       "style": "IPY_MODEL_a0d25c2d744a4787bc868d9515cfff88",
       "value": 280
      }
     },
     "abf2a7238e77464eadb47cf5d1e38437": {
      "model_module": "@jupyter-widgets/controls",
      "model_module_version": "2.0.0",
      "model_name": "HTMLModel",
      "state": {
       "layout": "IPY_MODEL_da3ca1c648684de99e1e61bfdadb4a9a",
       "style": "IPY_MODEL_74e2fdfa8fef4a428da40c8306dc435c",
       "value": "Movies from -22: "
      }
     },
     "adc21eb27e2540afbf54d0e8358a3835": {
      "model_module": "@jupyter-widgets/controls",
      "model_module_version": "2.0.0",
      "model_name": "HTMLStyleModel",
      "state": {
       "description_width": "",
       "font_size": null,
       "text_color": null
      }
     },
     "ae80c2ed83bc46cda8ec31273f39dab7": {
      "model_module": "@jupyter-widgets/controls",
      "model_module_version": "2.0.0",
      "model_name": "HTMLModel",
      "state": {
       "layout": "IPY_MODEL_d102be7a25d448049addb35e50d2312b",
       "style": "IPY_MODEL_b98cce5b605a45eb8f5211f74931bff6",
       "value": " 1576/1576 [09:26&lt;00:00,  4.37it/s]"
      }
     },
     "b29320119e354ad3a4dd9a48475d78e9": {
      "model_module": "@jupyter-widgets/controls",
      "model_module_version": "2.0.0",
      "model_name": "HTMLModel",
      "state": {
       "layout": "IPY_MODEL_fc5be8ba1d884d45926c5c110c02f153",
       "style": "IPY_MODEL_02d23ee428a34efea1d8cdf562f21296",
       "value": "Movies from 2001: 100%"
      }
     },
     "b44e0390ed004ea083cbe5e6289f6c73": {
      "model_module": "@jupyter-widgets/controls",
      "model_module_version": "2.0.0",
      "model_name": "HTMLModel",
      "state": {
       "layout": "IPY_MODEL_02be521b3b424e81a8b5465adccc4e06",
       "style": "IPY_MODEL_bc8b7c0c7a8b4151b693ba4679fa112e",
       "value": "Movies from 2000:   6%"
      }
     },
     "b53930feb9a34c4da21c79d5e8e78c47": {
      "model_module": "@jupyter-widgets/base",
      "model_module_version": "2.0.0",
      "model_name": "LayoutModel",
      "state": {}
     },
     "b56105b5c7f54d6696cb61d31ec9f92f": {
      "model_module": "@jupyter-widgets/controls",
      "model_module_version": "2.0.0",
      "model_name": "FloatProgressModel",
      "state": {
       "bar_style": "success",
       "layout": "IPY_MODEL_95e09e4a445643bc8de10d8a606c9cd1",
       "max": 1576,
       "style": "IPY_MODEL_c84beb3777564445ad0f29fc6939de85",
       "value": 1576
      }
     },
     "b591a5fb0b21475e90b0619a173e4a6f": {
      "model_module": "@jupyter-widgets/base",
      "model_module_version": "2.0.0",
      "model_name": "LayoutModel",
      "state": {}
     },
     "b769ffe24c4d4261809725ff4674e4d2": {
      "model_module": "@jupyter-widgets/controls",
      "model_module_version": "2.0.0",
      "model_name": "HBoxModel",
      "state": {
       "children": [
        "IPY_MODEL_c6d67e3d4e7449de9e1e82c631711a01",
        "IPY_MODEL_79279edd19db4992b0b1bbc2b25ef51d",
        "IPY_MODEL_f674a4e8fbd14f7bba82a68c6d2897e5"
       ],
       "layout": "IPY_MODEL_a501de9550a74908b737482d24ec0eeb"
      }
     },
     "b77ca592a337490ca7b115037d572307": {
      "model_module": "@jupyter-widgets/controls",
      "model_module_version": "2.0.0",
      "model_name": "HTMLModel",
      "state": {
       "layout": "IPY_MODEL_66478059bce6443d902a17358123c76a",
       "style": "IPY_MODEL_4b20212b47e9411988af12f1e4c05ba4",
       "value": "Movies from 2000: 100%"
      }
     },
     "b7d76cacdc194bffaf628fa27441b109": {
      "model_module": "@jupyter-widgets/controls",
      "model_module_version": "2.0.0",
      "model_name": "HTMLStyleModel",
      "state": {
       "description_width": "",
       "font_size": null,
       "text_color": null
      }
     },
     "b86b954c6e7242278dc0dc4683768a57": {
      "model_module": "@jupyter-widgets/base",
      "model_module_version": "2.0.0",
      "model_name": "LayoutModel",
      "state": {}
     },
     "b8f730c111b74ae4ab6a76294e058c12": {
      "model_module": "@jupyter-widgets/controls",
      "model_module_version": "2.0.0",
      "model_name": "ProgressStyleModel",
      "state": {
       "description_width": ""
      }
     },
     "b926eea1b4274c38b98ecfcb406e67e9": {
      "model_module": "@jupyter-widgets/base",
      "model_module_version": "2.0.0",
      "model_name": "LayoutModel",
      "state": {}
     },
     "b98cce5b605a45eb8f5211f74931bff6": {
      "model_module": "@jupyter-widgets/controls",
      "model_module_version": "2.0.0",
      "model_name": "HTMLStyleModel",
      "state": {
       "description_width": "",
       "font_size": null,
       "text_color": null
      }
     },
     "bbbe252fd0e44a43b613b9dc2d7cc202": {
      "model_module": "@jupyter-widgets/base",
      "model_module_version": "2.0.0",
      "model_name": "LayoutModel",
      "state": {}
     },
     "bc8b7c0c7a8b4151b693ba4679fa112e": {
      "model_module": "@jupyter-widgets/controls",
      "model_module_version": "2.0.0",
      "model_name": "HTMLStyleModel",
      "state": {
       "description_width": "",
       "font_size": null,
       "text_color": null
      }
     },
     "bdfcaee1436c4c9b9f45e9e6a8b6eb5a": {
      "model_module": "@jupyter-widgets/base",
      "model_module_version": "2.0.0",
      "model_name": "LayoutModel",
      "state": {}
     },
     "bfb8955a0b4f46bd90178f8a5b1302b9": {
      "model_module": "@jupyter-widgets/base",
      "model_module_version": "2.0.0",
      "model_name": "LayoutModel",
      "state": {}
     },
     "c56978169e1842389c4826dcb64b0706": {
      "model_module": "@jupyter-widgets/controls",
      "model_module_version": "2.0.0",
      "model_name": "HTMLModel",
      "state": {
       "layout": "IPY_MODEL_22a2c0fa0d0a46db92c5fbff4d2bf96a",
       "style": "IPY_MODEL_9aa2970f2add4b5ea7a0bcd5c05958c3",
       "value": "YEARS:  17%"
      }
     },
     "c67fbd71e6a1499e9b89af0c0f70f2dd": {
      "model_module": "@jupyter-widgets/controls",
      "model_module_version": "2.0.0",
      "model_name": "HTMLModel",
      "state": {
       "layout": "IPY_MODEL_d643d50865a14ccf8dd5af1f3492606d",
       "style": "IPY_MODEL_949b8b4bdcc44c28979c94939fc159d0",
       "value": "YEARS:   0%"
      }
     },
     "c6d67e3d4e7449de9e1e82c631711a01": {
      "model_module": "@jupyter-widgets/controls",
      "model_module_version": "2.0.0",
      "model_name": "HTMLModel",
      "state": {
       "layout": "IPY_MODEL_bdfcaee1436c4c9b9f45e9e6a8b6eb5a",
       "style": "IPY_MODEL_ef9b4378b86645feb7a121daae707a22",
       "value": "Movies from 2001: 100%"
      }
     },
     "c84beb3777564445ad0f29fc6939de85": {
      "model_module": "@jupyter-widgets/controls",
      "model_module_version": "2.0.0",
      "model_name": "ProgressStyleModel",
      "state": {
       "description_width": ""
      }
     },
     "c87eab9fecf24d888d56aae50eec4e48": {
      "model_module": "@jupyter-widgets/controls",
      "model_module_version": "2.0.0",
      "model_name": "HBoxModel",
      "state": {
       "children": [
        "IPY_MODEL_1565d5d02bfc43ff9c03b21e98c36f21",
        "IPY_MODEL_f34d0aded0b94e859a8a7b0f726ef81b",
        "IPY_MODEL_6675ed5041214635abdadb4e2fc42fa9"
       ],
       "layout": "IPY_MODEL_324f367561e944aebb5d62b324323e63"
      }
     },
     "cc44f3c9eb0c4917b75bfd3e54393809": {
      "model_module": "@jupyter-widgets/base",
      "model_module_version": "2.0.0",
      "model_name": "LayoutModel",
      "state": {}
     },
     "d102be7a25d448049addb35e50d2312b": {
      "model_module": "@jupyter-widgets/base",
      "model_module_version": "2.0.0",
      "model_name": "LayoutModel",
      "state": {}
     },
     "d21650b70da3451c93c5a59ebc2d8f58": {
      "model_module": "@jupyter-widgets/controls",
      "model_module_version": "2.0.0",
      "model_name": "HTMLStyleModel",
      "state": {
       "description_width": "",
       "font_size": null,
       "text_color": null
      }
     },
     "d2bfdb747b5b4772a391b51104061753": {
      "model_module": "@jupyter-widgets/base",
      "model_module_version": "2.0.0",
      "model_name": "LayoutModel",
      "state": {}
     },
     "d2c92b4929e24e7997135b4ce1ca53d6": {
      "model_module": "@jupyter-widgets/base",
      "model_module_version": "2.0.0",
      "model_name": "LayoutModel",
      "state": {}
     },
     "d643d50865a14ccf8dd5af1f3492606d": {
      "model_module": "@jupyter-widgets/base",
      "model_module_version": "2.0.0",
      "model_name": "LayoutModel",
      "state": {}
     },
     "d7be0c6867674c71bb67dffa0c0f1b0e": {
      "model_module": "@jupyter-widgets/base",
      "model_module_version": "2.0.0",
      "model_name": "LayoutModel",
      "state": {}
     },
     "d7f6e2d32fcd4483b393b797d9795219": {
      "model_module": "@jupyter-widgets/controls",
      "model_module_version": "2.0.0",
      "model_name": "HTMLStyleModel",
      "state": {
       "description_width": "",
       "font_size": null,
       "text_color": null
      }
     },
     "d97ead38ac394de58b400dcc5fa963d1": {
      "model_module": "@jupyter-widgets/base",
      "model_module_version": "2.0.0",
      "model_name": "LayoutModel",
      "state": {}
     },
     "d98b0520770e4f3dbb64fa49cc2598c4": {
      "model_module": "@jupyter-widgets/controls",
      "model_module_version": "2.0.0",
      "model_name": "HTMLStyleModel",
      "state": {
       "description_width": "",
       "font_size": null,
       "text_color": null
      }
     },
     "d9bd90d660d74bef9035a0677ba9e058": {
      "model_module": "@jupyter-widgets/controls",
      "model_module_version": "2.0.0",
      "model_name": "HTMLModel",
      "state": {
       "layout": "IPY_MODEL_a8fd519b24bf4206bfc26e00da29e4a4",
       "style": "IPY_MODEL_5857c0812dc745dc9e1cb17d62b71c65",
       "value": " 1384/1384 [09:39&lt;00:00,  3.60it/s]"
      }
     },
     "d9cf78cf08c741fcae846f82e8f9925e": {
      "model_module": "@jupyter-widgets/base",
      "model_module_version": "2.0.0",
      "model_name": "LayoutModel",
      "state": {}
     },
     "da3ca1c648684de99e1e61bfdadb4a9a": {
      "model_module": "@jupyter-widgets/base",
      "model_module_version": "2.0.0",
      "model_name": "LayoutModel",
      "state": {}
     },
     "e09931ac14214e02b13cb0a9084dabaf": {
      "model_module": "@jupyter-widgets/controls",
      "model_module_version": "2.0.0",
      "model_name": "HTMLStyleModel",
      "state": {
       "description_width": "",
       "font_size": null,
       "text_color": null
      }
     },
     "e0e5c25376074de287ea59cbb45719c2": {
      "model_module": "@jupyter-widgets/controls",
      "model_module_version": "2.0.0",
      "model_name": "HTMLModel",
      "state": {
       "layout": "IPY_MODEL_805b2f2f26c54af997f76d631c1b53be",
       "style": "IPY_MODEL_7363812473db42ed8167087532b58929",
       "value": " 0/2 [00:24&lt;?, ?it/s]"
      }
     },
     "e199bc8cd98c4b9183065f8bd4034170": {
      "model_module": "@jupyter-widgets/base",
      "model_module_version": "2.0.0",
      "model_name": "LayoutModel",
      "state": {}
     },
     "e26655acfedc4d3e9b3ac67b1a17224a": {
      "model_module": "@jupyter-widgets/base",
      "model_module_version": "2.0.0",
      "model_name": "LayoutModel",
      "state": {}
     },
     "e33c74de0cdf49cfb15b3d21aa0c1021": {
      "model_module": "@jupyter-widgets/controls",
      "model_module_version": "2.0.0",
      "model_name": "HBoxModel",
      "state": {
       "children": [
        "IPY_MODEL_abf2a7238e77464eadb47cf5d1e38437",
        "IPY_MODEL_96e887ee646b424cb8b54691b8a27180",
        "IPY_MODEL_58293da7963044e0b8b92bf0d6dbae4c"
       ],
       "layout": "IPY_MODEL_65d12f17bf814429ac3bd8a0140caea0"
      }
     },
     "e3c112e6d5a3442d9ea06f470a30a660": {
      "model_module": "@jupyter-widgets/controls",
      "model_module_version": "2.0.0",
      "model_name": "HTMLModel",
      "state": {
       "layout": "IPY_MODEL_b926eea1b4274c38b98ecfcb406e67e9",
       "style": "IPY_MODEL_9d25b5da9cee4c02bbc465f8a73a8a4b",
       "value": "Movies from 2004:  16%"
      }
     },
     "e549040b78664156aa54966e9ccac454": {
      "model_module": "@jupyter-widgets/controls",
      "model_module_version": "2.0.0",
      "model_name": "FloatProgressModel",
      "state": {
       "bar_style": "success",
       "layout": "IPY_MODEL_bbbe252fd0e44a43b613b9dc2d7cc202",
       "max": 2,
       "style": "IPY_MODEL_6f7fa82f24d54012b23851764d6202ed",
       "value": 2
      }
     },
     "e76d487788ea4b18ad9d1325fb4a2ba9": {
      "model_module": "@jupyter-widgets/controls",
      "model_module_version": "2.0.0",
      "model_name": "HTMLStyleModel",
      "state": {
       "description_width": "",
       "font_size": null,
       "text_color": null
      }
     },
     "eb5afe35242441adb13557f479f2e32b": {
      "model_module": "@jupyter-widgets/base",
      "model_module_version": "2.0.0",
      "model_name": "LayoutModel",
      "state": {}
     },
     "eb90d98ad3fe4145b0d2d1b52780fe43": {
      "model_module": "@jupyter-widgets/base",
      "model_module_version": "2.0.0",
      "model_name": "LayoutModel",
      "state": {}
     },
     "ee36bd8dfbc74f4bb4b2484fa3ded855": {
      "model_module": "@jupyter-widgets/base",
      "model_module_version": "2.0.0",
      "model_name": "LayoutModel",
      "state": {}
     },
     "eeb9cc741c744c7795411b1bd6a89736": {
      "model_module": "@jupyter-widgets/controls",
      "model_module_version": "2.0.0",
      "model_name": "HBoxModel",
      "state": {
       "children": [
        "IPY_MODEL_b77ca592a337490ca7b115037d572307",
        "IPY_MODEL_4b4d090b49194d87b6ad9a7c9d64ce73",
        "IPY_MODEL_d9bd90d660d74bef9035a0677ba9e058"
       ],
       "layout": "IPY_MODEL_660066c54bd449b7b0eab90ec569e3fe"
      }
     },
     "ef9b4378b86645feb7a121daae707a22": {
      "model_module": "@jupyter-widgets/controls",
      "model_module_version": "2.0.0",
      "model_name": "HTMLStyleModel",
      "state": {
       "description_width": "",
       "font_size": null,
       "text_color": null
      }
     },
     "f24fee39bf5744a095ef03918169c1ed": {
      "model_module": "@jupyter-widgets/controls",
      "model_module_version": "2.0.0",
      "model_name": "HTMLStyleModel",
      "state": {
       "description_width": "",
       "font_size": null,
       "text_color": null
      }
     },
     "f34d0aded0b94e859a8a7b0f726ef81b": {
      "model_module": "@jupyter-widgets/controls",
      "model_module_version": "2.0.0",
      "model_name": "FloatProgressModel",
      "state": {
       "bar_style": "success",
       "layout": "IPY_MODEL_cc44f3c9eb0c4917b75bfd3e54393809",
       "max": 1,
       "style": "IPY_MODEL_522264433200439fb17a802a560cb4d6",
       "value": 1
      }
     },
     "f4d18bed85594b7fbd799fb3843d346a": {
      "model_module": "@jupyter-widgets/controls",
      "model_module_version": "2.0.0",
      "model_name": "HTMLModel",
      "state": {
       "layout": "IPY_MODEL_d9cf78cf08c741fcae846f82e8f9925e",
       "style": "IPY_MODEL_d98b0520770e4f3dbb64fa49cc2598c4",
       "value": "YEARS:   0%"
      }
     },
     "f59e58f0d35d47f8a7b89728c0b7fdf5": {
      "model_module": "@jupyter-widgets/controls",
      "model_module_version": "2.0.0",
      "model_name": "ProgressStyleModel",
      "state": {
       "description_width": ""
      }
     },
     "f674a4e8fbd14f7bba82a68c6d2897e5": {
      "model_module": "@jupyter-widgets/controls",
      "model_module_version": "2.0.0",
      "model_name": "HTMLModel",
      "state": {
       "layout": "IPY_MODEL_06255c9727a44385a85b42fbe41d6633",
       "style": "IPY_MODEL_adc21eb27e2540afbf54d0e8358a3835",
       "value": " 225/225 [00:51&lt;00:00,  4.63it/s]"
      }
     },
     "f771fcdceeb94d9d9eadcbb303321c6f": {
      "model_module": "@jupyter-widgets/controls",
      "model_module_version": "2.0.0",
      "model_name": "FloatProgressModel",
      "state": {
       "layout": "IPY_MODEL_b86b954c6e7242278dc0dc4683768a57",
       "max": 1904,
       "style": "IPY_MODEL_376c90becbbb41de8fbc47e13cafb94d",
       "value": 298
      }
     },
     "faccc3d7d33a43a2afe3198e51e141cc": {
      "model_module": "@jupyter-widgets/base",
      "model_module_version": "2.0.0",
      "model_name": "LayoutModel",
      "state": {}
     },
     "fb06eb0708f44e988728cdd285d129e0": {
      "model_module": "@jupyter-widgets/base",
      "model_module_version": "2.0.0",
      "model_name": "LayoutModel",
      "state": {}
     },
     "fc5be8ba1d884d45926c5c110c02f153": {
      "model_module": "@jupyter-widgets/base",
      "model_module_version": "2.0.0",
      "model_name": "LayoutModel",
      "state": {}
     }
    },
    "version_major": 2,
    "version_minor": 0
   }
  }
 },
 "nbformat": 4,
 "nbformat_minor": 5
}
