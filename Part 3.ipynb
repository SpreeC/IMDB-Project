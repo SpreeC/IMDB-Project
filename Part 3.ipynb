{
 "cells": [
  {
   "cell_type": "markdown",
   "id": "7c428f94-9a11-413e-9ea8-78a45e15340b",
   "metadata": {},
   "source": [
    "# Imports"
   ]
  },
  {
   "cell_type": "code",
   "execution_count": 1,
   "id": "765ab231-9e7b-4a3d-8f88-e0a9941cb6be",
   "metadata": {},
   "outputs": [],
   "source": [
    "# Import packages\n",
    "import os, time, json\n",
    "import tmdbsimple as tmdb \n",
    "import pandas as pd\n",
    "from tqdm.notebook import tqdm_notebook"
   ]
  },
  {
   "cell_type": "code",
   "execution_count": 2,
   "id": "d9426c53-b93b-40de-8160-d4a2fe1c5733",
   "metadata": {},
   "outputs": [],
   "source": [
    "#load API Credentials\n",
    "with open('/Users/17175/.secret/tmdb_api.json','r') as f:\n",
    "    login = json.load(f)"
   ]
  },
  {
   "cell_type": "code",
   "execution_count": 3,
   "id": "2e0a0d32-2c6a-4daa-97cd-890532275530",
   "metadata": {},
   "outputs": [],
   "source": [
    "#instantiate tmdbapi variable\n",
    "tmdb.API_KEY = login['api-key']"
   ]
  },
  {
   "cell_type": "markdown",
   "id": "e7066099-f5f4-430e-babc-892bf21ee866",
   "metadata": {},
   "source": [
    "# Define Custom Functions"
   ]
  },
  {
   "cell_type": "code",
   "execution_count": 4,
   "id": "3d046933-5ba1-4bcf-bda2-920ace453ebb",
   "metadata": {},
   "outputs": [],
   "source": [
    "def get_movie_with_rating(movie_id):\n",
    "    \"\"\"Adapted from source = https://github.com/celiao/tmdbsimpl\"\"\"\n",
    "    #Get the movie object for the current id\n",
    "    movie = tmdb.Movies(movie_id)\n",
    "\n",
    "    #Save the .info .releases dictionaries\n",
    "    info = movie.info()\n",
    "\n",
    "    releases = movie.releases()\n",
    "    #Loop through countries in releases\n",
    "    for c in releases['countries']:\n",
    "        #If the country abbreviation==US\n",
    "        if c['iso_3166_1'] =='US':\n",
    "            ##Save a 'certification' key in info with the certification\n",
    "            info['certification'] = c['certification']\n",
    "\n",
    "    return info"
   ]
  },
  {
   "cell_type": "code",
   "execution_count": 5,
   "id": "86759099-53d4-4e45-a1e6-28a26d89466d",
   "metadata": {},
   "outputs": [],
   "source": [
    "def write_json(new_data, filename): \n",
    "    \"\"\"Appends a list of records (new_data) to a json file (filename). \n",
    "    Adapted from: https://www.geeksforgeeks.org/append-to-json-file-using-python/\"\"\"  \n",
    "    \n",
    "    with open(filename,'r+') as file:\n",
    "        # First we load existing data into a dict.\n",
    "        file_data = json.load(file)\n",
    "        ## Choose extend or append\n",
    "        if (type(new_data) == list) & (type(file_data) == list):\n",
    "            file_data.extend(new_data)\n",
    "        else:\n",
    "             file_data.append(new_data)\n",
    "        # Sets file's current position at offset.\n",
    "        file.seek(0)\n",
    "        # convert back to json.\n",
    "        json.dump(file_data, file)"
   ]
  },
  {
   "cell_type": "markdown",
   "id": "e24affa7-dc35-4fb8-be0d-91ced2b5e36c",
   "metadata": {},
   "source": [
    "# Test TMDB Extraction Works"
   ]
  },
  {
   "cell_type": "code",
   "execution_count": 6,
   "id": "4d8afd6e-a457-4f39-a87d-d75787362eee",
   "metadata": {},
   "outputs": [
    {
     "data": {
      "text/plain": [
       "{'adult': False,\n",
       " 'backdrop_path': '/9BBTo63ANSmhC4e6r62OJFuK2GL.jpg',\n",
       " 'belongs_to_collection': {'id': 86311,\n",
       "  'name': 'The Avengers Collection',\n",
       "  'poster_path': '/yFSIUVTCvgYrpalUktulvk3Gi5Y.jpg',\n",
       "  'backdrop_path': '/zuW6fOiusv4X9nnW3paHGfXcSll.jpg'},\n",
       " 'budget': 220000000,\n",
       " 'genres': [{'id': 878, 'name': 'Science Fiction'},\n",
       "  {'id': 28, 'name': 'Action'},\n",
       "  {'id': 12, 'name': 'Adventure'}],\n",
       " 'homepage': 'https://www.marvel.com/movies/the-avengers',\n",
       " 'id': 24428,\n",
       " 'imdb_id': 'tt0848228',\n",
       " 'original_language': 'en',\n",
       " 'original_title': 'The Avengers',\n",
       " 'overview': 'When an unexpected enemy emerges and threatens global safety and security, Nick Fury, director of the international peacekeeping agency known as S.H.I.E.L.D., finds himself in need of a team to pull the world back from the brink of disaster. Spanning the globe, a daring recruitment effort begins!',\n",
       " 'popularity': 109.201,\n",
       " 'poster_path': '/RYMX2wcKCBAr24UyPD7xwmjaTn.jpg',\n",
       " 'production_companies': [{'id': 420,\n",
       "   'logo_path': '/hUzeosd33nzE5MCNsZxCGEKTXaQ.png',\n",
       "   'name': 'Marvel Studios',\n",
       "   'origin_country': 'US'}],\n",
       " 'production_countries': [{'iso_3166_1': 'US',\n",
       "   'name': 'United States of America'}],\n",
       " 'release_date': '2012-04-25',\n",
       " 'revenue': 1518815515,\n",
       " 'runtime': 143,\n",
       " 'spoken_languages': [{'english_name': 'English',\n",
       "   'iso_639_1': 'en',\n",
       "   'name': 'English'},\n",
       "  {'english_name': 'Hindi', 'iso_639_1': 'hi', 'name': 'हिन्दी'},\n",
       "  {'english_name': 'Russian', 'iso_639_1': 'ru', 'name': 'Pусский'}],\n",
       " 'status': 'Released',\n",
       " 'tagline': 'Some assembly required.',\n",
       " 'title': 'The Avengers',\n",
       " 'video': False,\n",
       " 'vote_average': 7.71,\n",
       " 'vote_count': 29197,\n",
       " 'certification': 'PG-13'}"
      ]
     },
     "execution_count": 6,
     "metadata": {},
     "output_type": "execute_result"
    }
   ],
   "source": [
    "get_movie_with_rating(\"tt0848228\")"
   ]
  },
  {
   "cell_type": "code",
   "execution_count": 7,
   "id": "14931ae4-6acb-4552-8ed5-105a3851393b",
   "metadata": {},
   "outputs": [
    {
     "data": {
      "text/plain": [
       "{'adult': False,\n",
       " 'backdrop_path': '/qom1SZSENdmHFNZBXbtJAU0WTlC.jpg',\n",
       " 'belongs_to_collection': None,\n",
       " 'budget': 29000000,\n",
       " 'genres': [{'id': 10749, 'name': 'Romance'}, {'id': 18, 'name': 'Drama'}],\n",
       " 'homepage': 'http://www.newline.com/properties/notebookthe.html',\n",
       " 'id': 11036,\n",
       " 'imdb_id': 'tt0332280',\n",
       " 'original_language': 'en',\n",
       " 'original_title': 'The Notebook',\n",
       " 'overview': \"An epic love story centered around an older man who reads aloud to a woman with Alzheimer's. From a faded notebook, the old man's words bring to life the story about a couple who is separated by World War II, and is then passionately reunited, seven years later, after they have taken different paths.\",\n",
       " 'popularity': 60.303,\n",
       " 'poster_path': '/rNzQyW4f8B8cQeg7Dgj3n6eT5k9.jpg',\n",
       " 'production_companies': [{'id': 12,\n",
       "   'logo_path': '/mevhneWSqbjU22D1MXNd4H9x0r0.png',\n",
       "   'name': 'New Line Cinema',\n",
       "   'origin_country': 'US'},\n",
       "  {'id': 1565, 'logo_path': None, 'name': 'Avery Pix', 'origin_country': 'US'},\n",
       "  {'id': 2605,\n",
       "   'logo_path': None,\n",
       "   'name': 'Gran Via Productions',\n",
       "   'origin_country': 'US'}],\n",
       " 'production_countries': [{'iso_3166_1': 'US',\n",
       "   'name': 'United States of America'}],\n",
       " 'release_date': '2004-06-25',\n",
       " 'revenue': 115603229,\n",
       " 'runtime': 123,\n",
       " 'spoken_languages': [{'english_name': 'English',\n",
       "   'iso_639_1': 'en',\n",
       "   'name': 'English'}],\n",
       " 'status': 'Released',\n",
       " 'tagline': 'Behind every great love is a great story.',\n",
       " 'title': 'The Notebook',\n",
       " 'video': False,\n",
       " 'vote_average': 7.88,\n",
       " 'vote_count': 10650,\n",
       " 'certification': 'PG-13'}"
      ]
     },
     "execution_count": 7,
     "metadata": {},
     "output_type": "execute_result"
    }
   ],
   "source": [
    "get_movie_with_rating(\"tt0332280\")"
   ]
  },
  {
   "cell_type": "markdown",
   "id": "d30fc391-4075-4cfd-9574-d08b09a58263",
   "metadata": {},
   "source": [
    "# Load in Cleaned Title Basics"
   ]
  },
  {
   "cell_type": "code",
   "execution_count": 6,
   "id": "5e280180-f5db-49f7-92a7-daad8f69813a",
   "metadata": {},
   "outputs": [],
   "source": [
    "# Load in the dataframe from project part 1 as basics:\n",
    "basics = pd.read_csv('Data/Filtered_Title_Basics')"
   ]
  },
  {
   "cell_type": "markdown",
   "id": "9347275f-a781-4fb6-93ee-6ee76661e6bf",
   "metadata": {},
   "source": [
    "# Pre-processing for Loop"
   ]
  },
  {
   "cell_type": "code",
   "execution_count": 7,
   "id": "57e43d5e-4fc0-48dc-9451-5ce7ec8ad055",
   "metadata": {},
   "outputs": [
    {
     "data": {
      "text/plain": [
       "['.ipynb_checkpoints',\n",
       " 'Filtered_Title_Basics',\n",
       " 'Filtered_Title_Ratings',\n",
       " 'final_tmdb_data_2000.csv.gz',\n",
       " 'final_tmdb_data_2001.csv.gz',\n",
       " 'final_tmdb_data_2002.csv.gz',\n",
       " 'final_tmdb_data_2003.csv.gz',\n",
       " 'final_tmdb_data_2004.csv.gz',\n",
       " 'final_tmdb_data_2010.csv.gz',\n",
       " 'movies-png.png',\n",
       " 'movies.mwb',\n",
       " 'Movies.sql',\n",
       " 'title-akas-us-only.csv',\n",
       " 'title.basics.tsv.gz',\n",
       " 'title.ratings.tsv.gz',\n",
       " 'tmdb_api_results_-22.json',\n",
       " 'tmdb_api_results_2000.json',\n",
       " 'tmdb_api_results_2001.json',\n",
       " 'tmdb_api_results_2002.json',\n",
       " 'tmdb_api_results_2003.json',\n",
       " 'tmdb_api_results_2004.json',\n",
       " 'tmdb_api_results_2010.json']"
      ]
     },
     "execution_count": 7,
     "metadata": {},
     "output_type": "execute_result"
    }
   ],
   "source": [
    "# Create the folder for saving files (if it doesn't exist)\n",
    "FOLDER = \"Data/\"\n",
    "os.makedirs(FOLDER, exist_ok=True)\n",
    "os.listdir(FOLDER)"
   ]
  },
  {
   "cell_type": "code",
   "execution_count": 9,
   "id": "908eb84a-0e41-4ee9-9801-8a8eaed0ec15",
   "metadata": {},
   "outputs": [],
   "source": [
    "#define the test year\n",
    "YEAR = 2001"
   ]
  },
  {
   "cell_type": "code",
   "execution_count": 11,
   "id": "300319a4-d8dc-4b2e-bf7c-e9902e695367",
   "metadata": {},
   "outputs": [],
   "source": [
    "#Create a list for errors\n",
    "errors = [ ]"
   ]
  },
  {
   "cell_type": "code",
   "execution_count": 17,
   "id": "f1a2e9cc-ceef-4ffa-860c-750bf5a8d2bd",
   "metadata": {},
   "outputs": [],
   "source": [
    "YEARS_TO_GET=[2001,2002]"
   ]
  },
  {
   "cell_type": "markdown",
   "id": "a4d880d1-515c-4472-bfde-4faeb2e149ed",
   "metadata": {},
   "source": [
    "# Test For Loop"
   ]
  },
  {
   "cell_type": "code",
   "execution_count": 21,
   "id": "deefb851-e74e-4c02-bd88-297c7b63eaaa",
   "metadata": {},
   "outputs": [
    {
     "data": {
      "application/vnd.jupyter.widget-view+json": {
       "model_id": "96d9d91b8f87445494db33e7061a1471",
       "version_major": 2,
       "version_minor": 0
      },
      "text/plain": [
       "YEARS:   0%|          | 0/2 [00:00<?, ?it/s]"
      ]
     },
     "metadata": {},
     "output_type": "display_data"
    },
    {
     "name": "stdout",
     "output_type": "stream",
     "text": [
      "Creating Data/tmdb_api_results_2001.json for API results for 2001.\n"
     ]
    },
    {
     "data": {
      "application/vnd.jupyter.widget-view+json": {
       "model_id": "10362fa4ceb04cdca67c1842a762b9a8",
       "version_major": 2,
       "version_minor": 0
      },
      "text/plain": [
       "Movies from 2001:   0%|          | 0/1576 [00:00<?, ?it/s]"
      ]
     },
     "metadata": {},
     "output_type": "display_data"
    },
    {
     "name": "stdout",
     "output_type": "stream",
     "text": [
      "Creating Data/tmdb_api_results_2002.json for API results for 2002.\n"
     ]
    },
    {
     "data": {
      "application/vnd.jupyter.widget-view+json": {
       "model_id": "9f4d0c647f8141d18498c57a47da4b34",
       "version_major": 2,
       "version_minor": 0
      },
      "text/plain": [
       "Movies from 2002:   0%|          | 0/1572 [00:00<?, ?it/s]"
      ]
     },
     "metadata": {},
     "output_type": "display_data"
    }
   ],
   "source": [
    "# Start of OUTER loop\n",
    "for YEAR in tqdm_notebook(YEARS_TO_GET, desc='YEARS', position=0):\n",
    "    \n",
    "    #Defining the JSON file to store results for year\n",
    "    JSON_FILE = f'{FOLDER}tmdb_api_results_{YEAR}.json'\n",
    "    # Check if file exists\n",
    "    file_exists = os.path.isfile(JSON_FILE)\n",
    "\n",
    "    # If it does not exist: create it\n",
    "    if file_exists == False:\n",
    "        # Print a message indicating the file is being created \n",
    "        print(f\"Creating {JSON_FILE} for API results for {YEAR}.\")\n",
    "        # save an empty dict with just \"imdb_id\" to the new json file.\n",
    "        with open(JSON_FILE,'w') as f:\n",
    "            json.dump([{'imdb_id':0}],f)\n",
    "\n",
    "    #Saving new year as the current df\n",
    "    df = basics.loc[ basics['startYear'] == YEAR].copy()\n",
    "    # saving movie ids to separate variable\n",
    "    movie_ids = df['tconst'].copy()\n",
    "\n",
    "    # Load existing data from json into a dataframe called \"previous_df\"\n",
    "    previous_df = pd.read_json(JSON_FILE)\n",
    "\n",
    "    # filter out any ids that are already in the JSON_FILE\n",
    "    movie_ids_to_get = movie_ids[~movie_ids.isin(previous_df['imdb_id'])]\n",
    "\n",
    "    # Loop through movie_ids_to_get with a tqdm progress bar\n",
    "    for movie_id in tqdm_notebook(movie_ids_to_get, f\"Movies from {YEAR}\", position=1, leave=True):\n",
    "        #Get index and movie id from list\n",
    "        try:\n",
    "            # Retrieve then data for the movie id\n",
    "            temp = get_movie_with_rating(movie_id)  \n",
    "            # Append/extend results to existing file using a pre-made function\n",
    "            write_json(temp,JSON_FILE)\n",
    "            # Short 20 ms sleep to prevent overwhelming server\n",
    "            time.sleep(0.02)\n",
    "        \n",
    "        except Exception as e:\n",
    "            errors.append([movie_id, e])"
   ]
  },
  {
   "cell_type": "markdown",
   "id": "5085190c-1ab7-45a0-8269-e0a4a1f5cec2",
   "metadata": {},
   "source": [
    "# Run through all the years and save to one file"
   ]
  },
  {
   "cell_type": "code",
   "execution_count": 8,
   "id": "f3386568-a3c5-45de-ada8-83dd1aa1c997",
   "metadata": {},
   "outputs": [],
   "source": [
    "#redefine the year\n",
    "YEAR = 2000"
   ]
  },
  {
   "cell_type": "code",
   "execution_count": 13,
   "id": "aa806d97-e76c-4f2b-b139-0353e431c2bc",
   "metadata": {},
   "outputs": [],
   "source": [
    "#redefine the years to get\n",
    "YEARS_TO_GET=[2019,2020]"
   ]
  },
  {
   "cell_type": "code",
   "execution_count": 14,
   "id": "95446df2-5136-4761-a68a-48724b1e3d9d",
   "metadata": {},
   "outputs": [
    {
     "data": {
      "application/vnd.jupyter.widget-view+json": {
       "model_id": "1553cd48e03e413d9af55cb9ce65b9fe",
       "version_major": 2,
       "version_minor": 0
      },
      "text/plain": [
       "YEARS:   0%|          | 0/2 [00:00<?, ?it/s]"
      ]
     },
     "metadata": {},
     "output_type": "display_data"
    },
    {
     "data": {
      "application/vnd.jupyter.widget-view+json": {
       "model_id": "7b99a7019b7a47e6afd531874b1fc61c",
       "version_major": 2,
       "version_minor": 0
      },
      "text/plain": [
       "Movies from 2019:   0%|          | 0/5290 [00:00<?, ?it/s]"
      ]
     },
     "metadata": {},
     "output_type": "display_data"
    },
    {
     "name": "stdout",
     "output_type": "stream",
     "text": [
      "Creating Data/tmdb_api_results_2020.json for API results for 2020.\n"
     ]
    },
    {
     "data": {
      "application/vnd.jupyter.widget-view+json": {
       "model_id": "36d6e77a8e6e420aae0be7941c718457",
       "version_major": 2,
       "version_minor": 0
      },
      "text/plain": [
       "Movies from 2020:   0%|          | 0/5010 [00:00<?, ?it/s]"
      ]
     },
     "metadata": {},
     "output_type": "display_data"
    }
   ],
   "source": [
    "# Start of OUTER loop\n",
    "for YEAR in tqdm_notebook(YEARS_TO_GET, desc='YEARS', position=0):\n",
    "    \n",
    "    #Defining the JSON file to store results for year\n",
    "    JSON_FILE = f'{FOLDER}tmdb_api_results_{YEAR}.json'\n",
    "    # Check if file exists\n",
    "    file_exists = os.path.isfile(JSON_FILE)\n",
    "\n",
    "    # If it does not exist: create it\n",
    "    if file_exists == False:\n",
    "        # Print a message indicating the file is being created \n",
    "        print(f\"Creating {JSON_FILE} for API results for {YEAR}.\")\n",
    "        # save an empty dict with just \"imdb_id\" to the new json file.\n",
    "        with open(JSON_FILE,'w') as f:\n",
    "            json.dump([{'imdb_id':0}],f)\n",
    "\n",
    "    #Saving new year as the current df\n",
    "    df = basics.loc[ basics['startYear'] == YEAR].copy()\n",
    "    # saving movie ids to separate variable\n",
    "    movie_ids = df['tconst'].copy()\n",
    "\n",
    "    # Load existing data from json into a dataframe called \"previous_df\"\n",
    "    previous_df = pd.read_json(JSON_FILE)\n",
    "\n",
    "    # filter out any ids that are already in the JSON_FILE\n",
    "    movie_ids_to_get = movie_ids[~movie_ids.isin(previous_df['imdb_id'])]\n",
    "\n",
    "    # Loop through movie_ids_to_get with a tqdm progress bar\n",
    "    for movie_id in tqdm_notebook(movie_ids_to_get, f\"Movies from {YEAR}\", position=1, leave=True):\n",
    "        #Get index and movie id from list\n",
    "        try:\n",
    "            # Retrieve then data for the movie id\n",
    "            temp = get_movie_with_rating(movie_id)  \n",
    "            # Append/extend results to existing file using a pre-made function\n",
    "            write_json(temp,JSON_FILE)\n",
    "            # Short 20 ms sleep to prevent overwhelming server\n",
    "            time.sleep(0.02)\n",
    "        \n",
    "        except Exception as e:\n",
    "            errors.append([movie_id, e])\n",
    "\n",
    "        final_year_df = pd.read_json(JSON_FILE)\n",
    "        final_year_df.to_csv(f\"{FOLDER}final_tmdb_data_{YEAR}.csv.gz\", compression=\"gzip\", index=False)"
   ]
  },
  {
   "cell_type": "code",
   "execution_count": null,
   "id": "77078a9c-b3eb-46b4-97e1-396440ca31bc",
   "metadata": {},
   "outputs": [],
   "source": [
    "import glob\n",
    "# Use glob to get all filepaths that match the pattern (*=wildcard)\n",
    "tmdb_files = sorted(glob.glob(\"Data/final_tmdb_data*.csv.gz\"))\n",
    "tmdb_files"
   ]
  },
  {
   "cell_type": "code",
   "execution_count": null,
   "id": "6f115fd3-86c7-418c-9fd4-7ea7dbd2811a",
   "metadata": {},
   "outputs": [],
   "source": [
    "# Use read_csv in a list comprehension and combine with concat to load all files\n",
    "df = pd.concat([pd.read_csv(f) for f in tmdb_files] )\n",
    "df"
   ]
  },
  {
   "cell_type": "code",
   "execution_count": null,
   "id": "cd958695-5460-4f10-874c-c8124fad92d1",
   "metadata": {},
   "outputs": [],
   "source": [
    "## Saving the final combined dataframe\n",
    "final_fname ='Data/tmdb_results_combined.csv.gz'\n",
    "df.to_csv(final_fname, compression='gzip', index=False)"
   ]
  },
  {
   "cell_type": "markdown",
   "id": "567014cc-31b5-40ec-baab-092e3920ea2d",
   "metadata": {},
   "source": [
    "# Answer Stakeholder Questions"
   ]
  },
  {
   "cell_type": "code",
   "execution_count": null,
   "id": "a1b7d9fd-1406-4d76-9b7d-b36f8836c37b",
   "metadata": {},
   "outputs": [],
   "source": [
    "import matplotlib.pyplot as plt\n",
    "import seaborn as sns\n",
    "import numpy as np"
   ]
  },
  {
   "cell_type": "markdown",
   "id": "01bb7331-1514-4752-b687-e9d786373d20",
   "metadata": {},
   "source": [
    "### How many movies had at least some valid financial information (values > 0 for budget OR revenue)?\n",
    "### \n",
    "Please exclude any movies with 0's for budget AND revenue from the remaining visualizations."
   ]
  },
  {
   "cell_type": "code",
   "execution_count": null,
   "id": "34fd2853-5069-460f-aaab-c3db7b63e0ab",
   "metadata": {},
   "outputs": [],
   "source": [
    "#revenue above $0\n",
    "ax=sns.histplot(data=df, x='revenue')\n",
    "ax.set_xlim(0,NONE)"
   ]
  },
  {
   "cell_type": "markdown",
   "id": "d149ca42-5b9f-4e32-ad35-fec65b74e2df",
   "metadata": {},
   "source": [
    "### How many movies are there in each of the certification categories (G/PG/PG-13/R)?"
   ]
  },
  {
   "cell_type": "code",
   "execution_count": null,
   "id": "c8dcdff7-57ec-4181-a7f4-570f1c737cae",
   "metadata": {},
   "outputs": [],
   "source": [
    "#find the cerification category column name\n",
    "cat_cols = df.select_dtypes('object').columns\n",
    "cat_cols"
   ]
  },
  {
   "cell_type": "code",
   "execution_count": null,
   "id": "634c5b69-485d-43eb-a784-afc04b382eaa",
   "metadata": {},
   "outputs": [],
   "source": [
    "#saving the value counts of each category\n",
    "val_counts = df['certification'].value_counts()\n",
    "val_counts"
   ]
  },
  {
   "cell_type": "code",
   "execution_count": null,
   "id": "abdacc15-cd6b-4bfd-adaa-7ba3655b6a90",
   "metadata": {},
   "outputs": [],
   "source": [
    "#Plot the answer to the question\n",
    "ax = val_counts.plot(kind='bar')\n",
    "ax.set_ylabel(\"Number of Movies\");\n",
    "ax.set_xlabel(\"Certification Categories\")"
   ]
  },
  {
   "cell_type": "markdown",
   "id": "2cdddc86-d8ae-4918-8e23-0a1ac8ae1478",
   "metadata": {},
   "source": [
    "### What is the average revenue per certification category?"
   ]
  },
  {
   "cell_type": "code",
   "execution_count": null,
   "id": "ce6e0c0c-89fc-4d62-b2d6-2ebb2bfc9af1",
   "metadata": {},
   "outputs": [],
   "source": [
    "#Plot the average revenue of all certifications\n",
    "ax = sns.barplot(data=df, x='certification', y='revenue')"
   ]
  },
  {
   "cell_type": "markdown",
   "id": "815dbde6-ad82-4e7c-ba4d-0b53e0e23c47",
   "metadata": {},
   "source": [
    "### What is the average budget per certification category?"
   ]
  },
  {
   "cell_type": "code",
   "execution_count": null,
   "id": "82445adc-cdb2-4d9a-85e5-b17b8bcc11a0",
   "metadata": {},
   "outputs": [],
   "source": [
    "#Plot the average budget of all certifications\n",
    "ax = sns.barplot(data=df, x='certification', y='budget')"
   ]
  }
 ],
 "metadata": {
  "kernelspec": {
   "display_name": "Python (dojo-env)",
   "language": "python",
   "name": "dojo-env"
  },
  "language_info": {
   "codemirror_mode": {
    "name": "ipython",
    "version": 3
   },
   "file_extension": ".py",
   "mimetype": "text/x-python",
   "name": "python",
   "nbconvert_exporter": "python",
   "pygments_lexer": "ipython3",
   "version": "3.10.10"
  },
  "widgets": {
   "application/vnd.jupyter.widget-state+json": {
    "state": {
     "0049c721af8d43bbad3a3e5fbf80d7da": {
      "model_module": "@jupyter-widgets/base",
      "model_module_version": "2.0.0",
      "model_name": "LayoutModel",
      "state": {}
     },
     "00eb5bb77bd94a779efe51ae54c48795": {
      "model_module": "@jupyter-widgets/base",
      "model_module_version": "2.0.0",
      "model_name": "LayoutModel",
      "state": {}
     },
     "0221fd1b45464dfd81bd1860775dcea1": {
      "model_module": "@jupyter-widgets/base",
      "model_module_version": "2.0.0",
      "model_name": "LayoutModel",
      "state": {}
     },
     "03d6079a7b90494a8f2bf3a4de15e637": {
      "model_module": "@jupyter-widgets/base",
      "model_module_version": "2.0.0",
      "model_name": "LayoutModel",
      "state": {}
     },
     "03e99ef5053f4d449004476ea95c0bc6": {
      "model_module": "@jupyter-widgets/controls",
      "model_module_version": "2.0.0",
      "model_name": "HTMLStyleModel",
      "state": {
       "description_width": "",
       "font_size": null,
       "text_color": null
      }
     },
     "04c2a914a5f648a7b3556f71b3420116": {
      "model_module": "@jupyter-widgets/controls",
      "model_module_version": "2.0.0",
      "model_name": "HBoxModel",
      "state": {
       "children": [
        "IPY_MODEL_a89bf29120624dc788448c9f06f213ef",
        "IPY_MODEL_68697222e0e44e99b6df369c74817e2d",
        "IPY_MODEL_bb18c1dbb4e84fc8a0356b1dedbfa9f3"
       ],
       "layout": "IPY_MODEL_240d5a5f8f814e0e8a70047bd9bfcc5c"
      }
     },
     "052291b59a3949f187eec7d464db76a8": {
      "model_module": "@jupyter-widgets/controls",
      "model_module_version": "2.0.0",
      "model_name": "HTMLStyleModel",
      "state": {
       "description_width": "",
       "font_size": null,
       "text_color": null
      }
     },
     "0551c3e08aca498a84290928cd399df5": {
      "model_module": "@jupyter-widgets/controls",
      "model_module_version": "2.0.0",
      "model_name": "HTMLModel",
      "state": {
       "layout": "IPY_MODEL_a89485a213624c738a30f5050ca92ceb",
       "style": "IPY_MODEL_50544365658243018668d38e74fa6ddb",
       "value": "Movies from 2013: 100%"
      }
     },
     "0707d1b34a4f4ed1af524604233bb679": {
      "model_module": "@jupyter-widgets/base",
      "model_module_version": "2.0.0",
      "model_name": "LayoutModel",
      "state": {}
     },
     "07c23aa0f34a4d9a8379b33fed2fc648": {
      "model_module": "@jupyter-widgets/base",
      "model_module_version": "2.0.0",
      "model_name": "LayoutModel",
      "state": {}
     },
     "09121e4676104a4292e7e3608e6b9e1b": {
      "model_module": "@jupyter-widgets/controls",
      "model_module_version": "2.0.0",
      "model_name": "HTMLModel",
      "state": {
       "layout": "IPY_MODEL_0f334ee4bd62440181ff1a641b0bb62a",
       "style": "IPY_MODEL_d4e2b2c316d448fa8bffe3f4d68a37bc",
       "value": "Movies from 2011: 100%"
      }
     },
     "0a861509f95844d9825b8c459c977ae4": {
      "model_module": "@jupyter-widgets/base",
      "model_module_version": "2.0.0",
      "model_name": "LayoutModel",
      "state": {}
     },
     "0c2e024c524444eab9f746b0966347f0": {
      "model_module": "@jupyter-widgets/base",
      "model_module_version": "2.0.0",
      "model_name": "LayoutModel",
      "state": {}
     },
     "0dc475df09a748fb9c2b57e04f258122": {
      "model_module": "@jupyter-widgets/controls",
      "model_module_version": "2.0.0",
      "model_name": "HTMLStyleModel",
      "state": {
       "description_width": "",
       "font_size": null,
       "text_color": null
      }
     },
     "0e5be613f61e468b8c37c04b06b6d0ab": {
      "model_module": "@jupyter-widgets/base",
      "model_module_version": "2.0.0",
      "model_name": "LayoutModel",
      "state": {}
     },
     "0ebf62fd6e69453ebd2a98ec718870ba": {
      "model_module": "@jupyter-widgets/controls",
      "model_module_version": "2.0.0",
      "model_name": "HTMLModel",
      "state": {
       "layout": "IPY_MODEL_3bf5c7a3fe324c4abc5cf83bdc2281ee",
       "style": "IPY_MODEL_e58c6c7da335433c9245175d2c945023",
       "value": " 724/5877 [04:28&lt;36:48,  2.33it/s]"
      }
     },
     "0f334ee4bd62440181ff1a641b0bb62a": {
      "model_module": "@jupyter-widgets/base",
      "model_module_version": "2.0.0",
      "model_name": "LayoutModel",
      "state": {}
     },
     "10dc86343f61436a9026c3fe203372ba": {
      "model_module": "@jupyter-widgets/controls",
      "model_module_version": "2.0.0",
      "model_name": "HBoxModel",
      "state": {
       "children": [
        "IPY_MODEL_47d91d7de6f24861be3f3b47da01dd47",
        "IPY_MODEL_a02296c8a8a44a1a99cc1d9a0b9b646c",
        "IPY_MODEL_79977ad766364e0cb44f6d49a9f51a23"
       ],
       "layout": "IPY_MODEL_9e181d380d4546f08227ce516f53aa47"
      }
     },
     "118ab1287bd44a9883c52589418ba47b": {
      "model_module": "@jupyter-widgets/controls",
      "model_module_version": "2.0.0",
      "model_name": "FloatProgressModel",
      "state": {
       "bar_style": "success",
       "layout": "IPY_MODEL_491d1be5e51e4b2f94e1fa01ba68c01d",
       "max": 5785,
       "style": "IPY_MODEL_94f395ad575c473fbe3e73d6b793c289",
       "value": 5785
      }
     },
     "120cfde1607d49aab1e7504e37d0e12c": {
      "model_module": "@jupyter-widgets/controls",
      "model_module_version": "2.0.0",
      "model_name": "HTMLStyleModel",
      "state": {
       "description_width": "",
       "font_size": null,
       "text_color": null
      }
     },
     "146880c664914b08bfb17b5ab9823fe2": {
      "model_module": "@jupyter-widgets/base",
      "model_module_version": "2.0.0",
      "model_name": "LayoutModel",
      "state": {}
     },
     "14d915f2a7604c9dacab6c29b859ba02": {
      "model_module": "@jupyter-widgets/base",
      "model_module_version": "2.0.0",
      "model_name": "LayoutModel",
      "state": {}
     },
     "1553cd48e03e413d9af55cb9ce65b9fe": {
      "model_module": "@jupyter-widgets/controls",
      "model_module_version": "2.0.0",
      "model_name": "HBoxModel",
      "state": {
       "children": [
        "IPY_MODEL_d6119778f5df4dbf8cdc1e882d168fad",
        "IPY_MODEL_b4b8d8a42fff4fd7b278fa535945c27f",
        "IPY_MODEL_89a15528fcd842ddad1a7a573f78ce57"
       ],
       "layout": "IPY_MODEL_0221fd1b45464dfd81bd1860775dcea1"
      }
     },
     "175eff9681344d0c80e786b9f3ad390c": {
      "model_module": "@jupyter-widgets/base",
      "model_module_version": "2.0.0",
      "model_name": "LayoutModel",
      "state": {}
     },
     "17877756ca7e4b79920a8e13f7986915": {
      "model_module": "@jupyter-widgets/base",
      "model_module_version": "2.0.0",
      "model_name": "LayoutModel",
      "state": {}
     },
     "1799ebc174934e91bbbc436a8c393617": {
      "model_module": "@jupyter-widgets/controls",
      "model_module_version": "2.0.0",
      "model_name": "HTMLModel",
      "state": {
       "layout": "IPY_MODEL_46f8bdb3867c47b0b4c8d063abbba00d",
       "style": "IPY_MODEL_557e4237e4b947ec9929e42062499a89",
       "value": " 5785/5785 [1:12:38&lt;00:00,  1.26it/s]"
      }
     },
     "17be28fb2d1d4f01adf635b136d5aad7": {
      "model_module": "@jupyter-widgets/base",
      "model_module_version": "2.0.0",
      "model_name": "LayoutModel",
      "state": {}
     },
     "191b5e83b01b4abd9fadc93d3a395d1e": {
      "model_module": "@jupyter-widgets/base",
      "model_module_version": "2.0.0",
      "model_name": "LayoutModel",
      "state": {}
     },
     "19680df58ffb4ac3ad4d6950b2ceacd4": {
      "model_module": "@jupyter-widgets/base",
      "model_module_version": "2.0.0",
      "model_name": "LayoutModel",
      "state": {}
     },
     "1b963124b7ff43b38a8312e998a92afe": {
      "model_module": "@jupyter-widgets/controls",
      "model_module_version": "2.0.0",
      "model_name": "HTMLModel",
      "state": {
       "layout": "IPY_MODEL_ef4ffef57657446ebdbe8d7575f9e81b",
       "style": "IPY_MODEL_d8de820bc3594dab9070baed14d49217",
       "value": "YEARS:  78%"
      }
     },
     "1c24f418fb0f4046934d7b9dce9c77f5": {
      "model_module": "@jupyter-widgets/controls",
      "model_module_version": "2.0.0",
      "model_name": "HTMLModel",
      "state": {
       "layout": "IPY_MODEL_8621d19f7471486396c14f63c5a7c4bd",
       "style": "IPY_MODEL_e091aa8c29b94e74a30457c0aa0b2ecc",
       "value": "Movies from 2007: 100%"
      }
     },
     "1cdd4c06cb5e4ed2bdd4f952a21255e4": {
      "model_module": "@jupyter-widgets/controls",
      "model_module_version": "2.0.0",
      "model_name": "HBoxModel",
      "state": {
       "children": [
        "IPY_MODEL_1b963124b7ff43b38a8312e998a92afe",
        "IPY_MODEL_e17fa63c4c5a4507ad5384660975eb12",
        "IPY_MODEL_643ad08a143045f9863ed64644e1f613"
       ],
       "layout": "IPY_MODEL_f3132639050a4c4482cebc563d8faf64"
      }
     },
     "1d08a711bc8a43ac92d8d8d67dc92703": {
      "model_module": "@jupyter-widgets/controls",
      "model_module_version": "2.0.0",
      "model_name": "ProgressStyleModel",
      "state": {
       "description_width": ""
      }
     },
     "1d356c248a864ce384f0effd700ab18f": {
      "model_module": "@jupyter-widgets/controls",
      "model_module_version": "2.0.0",
      "model_name": "HTMLStyleModel",
      "state": {
       "description_width": "",
       "font_size": null,
       "text_color": null
      }
     },
     "1e4fe7af903b4388a35d594a1373a77b": {
      "model_module": "@jupyter-widgets/controls",
      "model_module_version": "2.0.0",
      "model_name": "ProgressStyleModel",
      "state": {
       "description_width": ""
      }
     },
     "20272e56311d499c9c5a61b0f199169d": {
      "model_module": "@jupyter-widgets/controls",
      "model_module_version": "2.0.0",
      "model_name": "HTMLStyleModel",
      "state": {
       "description_width": "",
       "font_size": null,
       "text_color": null
      }
     },
     "20da85569e964695a4106755fedcdbf1": {
      "model_module": "@jupyter-widgets/base",
      "model_module_version": "2.0.0",
      "model_name": "LayoutModel",
      "state": {}
     },
     "2211894e726b48b7922e35406b83b764": {
      "model_module": "@jupyter-widgets/controls",
      "model_module_version": "2.0.0",
      "model_name": "HTMLModel",
      "state": {
       "layout": "IPY_MODEL_622e3b85e8274ce0b69bd3f2275e8f32",
       "style": "IPY_MODEL_c860e59af1574579ac2804bf40c590ca",
       "value": " 2579/2579 [20:08&lt;00:00,  1.74it/s]"
      }
     },
     "224dfe7bfbaf4c6e82a8b0039c7cc316": {
      "model_module": "@jupyter-widgets/base",
      "model_module_version": "2.0.0",
      "model_name": "LayoutModel",
      "state": {}
     },
     "22b5b1cb03d74d19aff0bab5fbc0ebaf": {
      "model_module": "@jupyter-widgets/controls",
      "model_module_version": "2.0.0",
      "model_name": "HTMLStyleModel",
      "state": {
       "description_width": "",
       "font_size": null,
       "text_color": null
      }
     },
     "240d5a5f8f814e0e8a70047bd9bfcc5c": {
      "model_module": "@jupyter-widgets/base",
      "model_module_version": "2.0.0",
      "model_name": "LayoutModel",
      "state": {}
     },
     "24b6fa01005b45acbf533d2bde6b0045": {
      "model_module": "@jupyter-widgets/controls",
      "model_module_version": "2.0.0",
      "model_name": "ProgressStyleModel",
      "state": {
       "description_width": ""
      }
     },
     "29de582938874095817f2f76e526b266": {
      "model_module": "@jupyter-widgets/controls",
      "model_module_version": "2.0.0",
      "model_name": "FloatProgressModel",
      "state": {
       "bar_style": "success",
       "layout": "IPY_MODEL_ee212fe82499404fb5e7b30ba9fc0bd0",
       "max": 5010,
       "style": "IPY_MODEL_2afda26839824fa897aefdd81311672f",
       "value": 5010
      }
     },
     "2afda26839824fa897aefdd81311672f": {
      "model_module": "@jupyter-widgets/controls",
      "model_module_version": "2.0.0",
      "model_name": "ProgressStyleModel",
      "state": {
       "description_width": ""
      }
     },
     "2cb3b8c16bd34b83aadf266c81ffd4fa": {
      "model_module": "@jupyter-widgets/controls",
      "model_module_version": "2.0.0",
      "model_name": "HTMLModel",
      "state": {
       "layout": "IPY_MODEL_3429f064419f4822b6c35bc69ba76b30",
       "style": "IPY_MODEL_c1e29c105c5348b4be70458955c3f8e3",
       "value": "Movies from 2012: 100%"
      }
     },
     "2d9a8a87a7f348c0af78c0ccfc567ded": {
      "model_module": "@jupyter-widgets/base",
      "model_module_version": "2.0.0",
      "model_name": "LayoutModel",
      "state": {}
     },
     "2db452b1cffe425d820d3fc3b6053ab4": {
      "model_module": "@jupyter-widgets/controls",
      "model_module_version": "2.0.0",
      "model_name": "HTMLModel",
      "state": {
       "layout": "IPY_MODEL_df83b4a348134ebba23dce27797f0948",
       "style": "IPY_MODEL_22b5b1cb03d74d19aff0bab5fbc0ebaf",
       "value": "Movies from 2016: 100%"
      }
     },
     "2ddb2f2b83ec4e2a8acccc41c618dedd": {
      "model_module": "@jupyter-widgets/controls",
      "model_module_version": "2.0.0",
      "model_name": "HTMLModel",
      "state": {
       "layout": "IPY_MODEL_96ba8b9c9e1148f1826d4b07229bdc0e",
       "style": "IPY_MODEL_54eabe4ba526485c91bd792f3936183d",
       "value": "Movies from 2017: 100%"
      }
     },
     "2f982a28d40f4ba4ac4f5f7f4f563e0b": {
      "model_module": "@jupyter-widgets/base",
      "model_module_version": "2.0.0",
      "model_name": "LayoutModel",
      "state": {}
     },
     "3053a99ab8fb4fce9f1d453acaab29c3": {
      "model_module": "@jupyter-widgets/base",
      "model_module_version": "2.0.0",
      "model_name": "LayoutModel",
      "state": {}
     },
     "3266f45c27d04c598acf8e8828a64708": {
      "model_module": "@jupyter-widgets/controls",
      "model_module_version": "2.0.0",
      "model_name": "FloatProgressModel",
      "state": {
       "bar_style": "success",
       "layout": "IPY_MODEL_cf04b49d14c4479583d9cb375fe0cc9b",
       "max": 5643,
       "style": "IPY_MODEL_4cfe7eff9987491099f6ef0c76a2faf5",
       "value": 5643
      }
     },
     "3429f064419f4822b6c35bc69ba76b30": {
      "model_module": "@jupyter-widgets/base",
      "model_module_version": "2.0.0",
      "model_name": "LayoutModel",
      "state": {}
     },
     "3464ae9521f14ff296715bef4699913f": {
      "model_module": "@jupyter-widgets/controls",
      "model_module_version": "2.0.0",
      "model_name": "HBoxModel",
      "state": {
       "children": [
        "IPY_MODEL_bb41254ad29c427fac2bd16a05ed8259",
        "IPY_MODEL_fd51892d621d4970b807bd202b6b48d9",
        "IPY_MODEL_54ddb49d60c24a8fb5313a6965b96f14"
       ],
       "layout": "IPY_MODEL_eb99c98f9e334c099bdc99be1672add8"
      }
     },
     "36d6e77a8e6e420aae0be7941c718457": {
      "model_module": "@jupyter-widgets/controls",
      "model_module_version": "2.0.0",
      "model_name": "HBoxModel",
      "state": {
       "children": [
        "IPY_MODEL_86bb6073c8ad48e7bdeb230395f36af4",
        "IPY_MODEL_29de582938874095817f2f76e526b266",
        "IPY_MODEL_7d604db7608c4bf3b558637282a59193"
       ],
       "layout": "IPY_MODEL_9db74a5483364bebbc778d3de1cbe63c"
      }
     },
     "3bf5c7a3fe324c4abc5cf83bdc2281ee": {
      "model_module": "@jupyter-widgets/base",
      "model_module_version": "2.0.0",
      "model_name": "LayoutModel",
      "state": {}
     },
     "3c035a4cbad74740afda8e956a892ecc": {
      "model_module": "@jupyter-widgets/base",
      "model_module_version": "2.0.0",
      "model_name": "LayoutModel",
      "state": {}
     },
     "3d227d8f8bcf417f9574b7cdbced7dac": {
      "model_module": "@jupyter-widgets/base",
      "model_module_version": "2.0.0",
      "model_name": "LayoutModel",
      "state": {}
     },
     "3d33e01b67c743d1a8cc2046cb69da63": {
      "model_module": "@jupyter-widgets/base",
      "model_module_version": "2.0.0",
      "model_name": "LayoutModel",
      "state": {}
     },
     "3d7b8ea5e06047d09a0d8bac62a9f15f": {
      "model_module": "@jupyter-widgets/base",
      "model_module_version": "2.0.0",
      "model_name": "LayoutModel",
      "state": {}
     },
     "3e000e250d6145ddb81afafede1f0279": {
      "model_module": "@jupyter-widgets/controls",
      "model_module_version": "2.0.0",
      "model_name": "HBoxModel",
      "state": {
       "children": [
        "IPY_MODEL_09121e4676104a4292e7e3608e6b9e1b",
        "IPY_MODEL_f6c88f8acac74458a65796071d1779af",
        "IPY_MODEL_4e4a854c50b54e8ab74684c7bd806771"
       ],
       "layout": "IPY_MODEL_e9301021933d4d2a99debaae6a9f8fc7"
      }
     },
     "411b73d0d765466f87c8d019330583f5": {
      "model_module": "@jupyter-widgets/controls",
      "model_module_version": "2.0.0",
      "model_name": "ProgressStyleModel",
      "state": {
       "description_width": ""
      }
     },
     "4242feb656084734a04733ed3633f0d1": {
      "model_module": "@jupyter-widgets/controls",
      "model_module_version": "2.0.0",
      "model_name": "HTMLStyleModel",
      "state": {
       "description_width": "",
       "font_size": null,
       "text_color": null
      }
     },
     "459543e85b774d7bb76761c586cc8a8c": {
      "model_module": "@jupyter-widgets/controls",
      "model_module_version": "2.0.0",
      "model_name": "HTMLModel",
      "state": {
       "layout": "IPY_MODEL_3053a99ab8fb4fce9f1d453acaab29c3",
       "style": "IPY_MODEL_4242feb656084734a04733ed3633f0d1",
       "value": " 2440/2440 [19:24&lt;00:00,  2.21it/s]"
      }
     },
     "45cb0d65960947919468355fe3904229": {
      "model_module": "@jupyter-widgets/base",
      "model_module_version": "2.0.0",
      "model_name": "LayoutModel",
      "state": {}
     },
     "46f8bdb3867c47b0b4c8d063abbba00d": {
      "model_module": "@jupyter-widgets/base",
      "model_module_version": "2.0.0",
      "model_name": "LayoutModel",
      "state": {}
     },
     "478e4e18af7e43ff8ca3b2419ea037fc": {
      "model_module": "@jupyter-widgets/controls",
      "model_module_version": "2.0.0",
      "model_name": "HBoxModel",
      "state": {
       "children": [
        "IPY_MODEL_4d39b4086e3b46d0bc1a84e9a80afa71",
        "IPY_MODEL_118ab1287bd44a9883c52589418ba47b",
        "IPY_MODEL_1799ebc174934e91bbbc436a8c393617"
       ],
       "layout": "IPY_MODEL_0c2e024c524444eab9f746b0966347f0"
      }
     },
     "47d91d7de6f24861be3f3b47da01dd47": {
      "model_module": "@jupyter-widgets/controls",
      "model_module_version": "2.0.0",
      "model_name": "HTMLModel",
      "state": {
       "layout": "IPY_MODEL_2f982a28d40f4ba4ac4f5f7f4f563e0b",
       "style": "IPY_MODEL_0dc475df09a748fb9c2b57e04f258122",
       "value": "Movies from 2010: 100%"
      }
     },
     "4822c0143b1a4448bdce932886fde7d5": {
      "model_module": "@jupyter-widgets/controls",
      "model_module_version": "2.0.0",
      "model_name": "ProgressStyleModel",
      "state": {
       "description_width": ""
      }
     },
     "4901553c352e4cdca2098c8e3deda133": {
      "model_module": "@jupyter-widgets/base",
      "model_module_version": "2.0.0",
      "model_name": "LayoutModel",
      "state": {}
     },
     "491d1be5e51e4b2f94e1fa01ba68c01d": {
      "model_module": "@jupyter-widgets/base",
      "model_module_version": "2.0.0",
      "model_name": "LayoutModel",
      "state": {}
     },
     "4cfe7eff9987491099f6ef0c76a2faf5": {
      "model_module": "@jupyter-widgets/controls",
      "model_module_version": "2.0.0",
      "model_name": "ProgressStyleModel",
      "state": {
       "description_width": ""
      }
     },
     "4d39b4086e3b46d0bc1a84e9a80afa71": {
      "model_module": "@jupyter-widgets/controls",
      "model_module_version": "2.0.0",
      "model_name": "HTMLModel",
      "state": {
       "layout": "IPY_MODEL_17be28fb2d1d4f01adf635b136d5aad7",
       "style": "IPY_MODEL_4eab50087dcf44c9b13c7e636268bf50",
       "value": "Movies from 2018: 100%"
      }
     },
     "4d4b783985de4345a32ea7a722f20f7a": {
      "model_module": "@jupyter-widgets/controls",
      "model_module_version": "2.0.0",
      "model_name": "HTMLModel",
      "state": {
       "layout": "IPY_MODEL_6716c4f1d3d04a57a546f27a80ec2cce",
       "style": "IPY_MODEL_f697e137bcf34a21ba19e6111a45e5b5",
       "value": "YEARS:   0%"
      }
     },
     "4d4ba921137649138637578d086e656f": {
      "model_module": "@jupyter-widgets/controls",
      "model_module_version": "2.0.0",
      "model_name": "HBoxModel",
      "state": {
       "children": [
        "IPY_MODEL_f74ea1153038471d98fc6e301c10ad64",
        "IPY_MODEL_4ecb1112692d45f3ab7af5d52d46db89",
        "IPY_MODEL_a8c20326616a4beea1584a0aaba9483b"
       ],
       "layout": "IPY_MODEL_146880c664914b08bfb17b5ab9823fe2"
      }
     },
     "4d667604914241a3921ebe8090af0280": {
      "model_module": "@jupyter-widgets/controls",
      "model_module_version": "2.0.0",
      "model_name": "ProgressStyleModel",
      "state": {
       "description_width": ""
      }
     },
     "4e4a854c50b54e8ab74684c7bd806771": {
      "model_module": "@jupyter-widgets/controls",
      "model_module_version": "2.0.0",
      "model_name": "HTMLModel",
      "state": {
       "layout": "IPY_MODEL_4901553c352e4cdca2098c8e3deda133",
       "style": "IPY_MODEL_669978d5fad94446a2d52d35b1b27e3e",
       "value": " 4229/4229 [46:07&lt;00:00,  1.77it/s]"
      }
     },
     "4eab50087dcf44c9b13c7e636268bf50": {
      "model_module": "@jupyter-widgets/controls",
      "model_module_version": "2.0.0",
      "model_name": "HTMLStyleModel",
      "state": {
       "description_width": "",
       "font_size": null,
       "text_color": null
      }
     },
     "4ecb1112692d45f3ab7af5d52d46db89": {
      "model_module": "@jupyter-widgets/controls",
      "model_module_version": "2.0.0",
      "model_name": "FloatProgressModel",
      "state": {
       "bar_style": "success",
       "layout": "IPY_MODEL_afabee187b2f4fd89ee69df08d39b1f7",
       "max": 4917,
       "style": "IPY_MODEL_e3289c4d4d024f89853a569efe31f63c",
       "value": 4917
      }
     },
     "4f05fc38cf6447719c2f18b71f0246bb": {
      "model_module": "@jupyter-widgets/controls",
      "model_module_version": "2.0.0",
      "model_name": "HTMLModel",
      "state": {
       "layout": "IPY_MODEL_ea0546c7dda84a1093ec8bd8b541f7f2",
       "style": "IPY_MODEL_b955667afb474b6795a5972e78a5a7cd",
       "value": "Movies from 2019: 100%"
      }
     },
     "4f651d6571704ad09a8e909bf753cd2b": {
      "model_module": "@jupyter-widgets/controls",
      "model_module_version": "2.0.0",
      "model_name": "HTMLModel",
      "state": {
       "layout": "IPY_MODEL_88f91bc6087b46b6b39045b80735aac4",
       "style": "IPY_MODEL_20272e56311d499c9c5a61b0f199169d",
       "value": "Movies from 2005:   0%"
      }
     },
     "4f979ee05c3146d1a4f7c16cdd55704f": {
      "model_module": "@jupyter-widgets/controls",
      "model_module_version": "2.0.0",
      "model_name": "HTMLStyleModel",
      "state": {
       "description_width": "",
       "font_size": null,
       "text_color": null
      }
     },
     "500bc928274546ecbf6746b6807b3702": {
      "model_module": "@jupyter-widgets/controls",
      "model_module_version": "2.0.0",
      "model_name": "ProgressStyleModel",
      "state": {
       "description_width": ""
      }
     },
     "50544365658243018668d38e74fa6ddb": {
      "model_module": "@jupyter-widgets/controls",
      "model_module_version": "2.0.0",
      "model_name": "HTMLStyleModel",
      "state": {
       "description_width": "",
       "font_size": null,
       "text_color": null
      }
     },
     "51722aa6b8a446c9868faf0b25f6e600": {
      "model_module": "@jupyter-widgets/controls",
      "model_module_version": "2.0.0",
      "model_name": "ProgressStyleModel",
      "state": {
       "description_width": ""
      }
     },
     "5242b98d5ca44e22b575fa8e308567b3": {
      "model_module": "@jupyter-widgets/base",
      "model_module_version": "2.0.0",
      "model_name": "LayoutModel",
      "state": {}
     },
     "5312e853499446299af8e06c5eb14d2e": {
      "model_module": "@jupyter-widgets/base",
      "model_module_version": "2.0.0",
      "model_name": "LayoutModel",
      "state": {}
     },
     "54ddb49d60c24a8fb5313a6965b96f14": {
      "model_module": "@jupyter-widgets/controls",
      "model_module_version": "2.0.0",
      "model_name": "HTMLModel",
      "state": {
       "layout": "IPY_MODEL_5b6e8f8807644b47bb915fd6589be370",
       "style": "IPY_MODEL_6a08dcc10e77479bac70daba1f2a9a36",
       "value": " 5056/5056 [55:48&lt;00:00,  1.56it/s]"
      }
     },
     "54eabe4ba526485c91bd792f3936183d": {
      "model_module": "@jupyter-widgets/controls",
      "model_module_version": "2.0.0",
      "model_name": "HTMLStyleModel",
      "state": {
       "description_width": "",
       "font_size": null,
       "text_color": null
      }
     },
     "557e4237e4b947ec9929e42062499a89": {
      "model_module": "@jupyter-widgets/controls",
      "model_module_version": "2.0.0",
      "model_name": "HTMLStyleModel",
      "state": {
       "description_width": "",
       "font_size": null,
       "text_color": null
      }
     },
     "58e5dee188714557a734dccce4e4cb36": {
      "model_module": "@jupyter-widgets/base",
      "model_module_version": "2.0.0",
      "model_name": "LayoutModel",
      "state": {}
     },
     "5b6a6f6d30234cd783760dcd2afa0cb5": {
      "model_module": "@jupyter-widgets/controls",
      "model_module_version": "2.0.0",
      "model_name": "HTMLStyleModel",
      "state": {
       "description_width": "",
       "font_size": null,
       "text_color": null
      }
     },
     "5b6e8f8807644b47bb915fd6589be370": {
      "model_module": "@jupyter-widgets/base",
      "model_module_version": "2.0.0",
      "model_name": "LayoutModel",
      "state": {}
     },
     "5bc7c7bbd965462f9c2ebb707dcdd5f5": {
      "model_module": "@jupyter-widgets/controls",
      "model_module_version": "2.0.0",
      "model_name": "FloatProgressModel",
      "state": {
       "bar_style": "success",
       "layout": "IPY_MODEL_5312e853499446299af8e06c5eb14d2e",
       "max": 5290,
       "style": "IPY_MODEL_cd4b65bccf6a448bbee757a5b557433b",
       "value": 5290
      }
     },
     "607b40784cb84e96afbf7f8984c7137f": {
      "model_module": "@jupyter-widgets/controls",
      "model_module_version": "2.0.0",
      "model_name": "FloatProgressModel",
      "state": {
       "bar_style": "danger",
       "layout": "IPY_MODEL_c201146bddbd43a2821f953d3c05338e",
       "max": 2185,
       "style": "IPY_MODEL_1d08a711bc8a43ac92d8d8d67dc92703",
       "value": 6
      }
     },
     "622e3b85e8274ce0b69bd3f2275e8f32": {
      "model_module": "@jupyter-widgets/base",
      "model_module_version": "2.0.0",
      "model_name": "LayoutModel",
      "state": {}
     },
     "643ad08a143045f9863ed64644e1f613": {
      "model_module": "@jupyter-widgets/controls",
      "model_module_version": "2.0.0",
      "model_name": "HTMLModel",
      "state": {
       "layout": "IPY_MODEL_a6799d70e4b94d5b9b6dc2291f865a92",
       "style": "IPY_MODEL_e327bb25d7b848a7ab1c9b5de2aa1a8e",
       "value": " 14/18 [9:47:57&lt;4:06:27, 3696.88s/it]"
      }
     },
     "65c3c35a4d674edc9f8ae1e35828d2b7": {
      "model_module": "@jupyter-widgets/controls",
      "model_module_version": "2.0.0",
      "model_name": "FloatProgressModel",
      "state": {
       "bar_style": "success",
       "layout": "IPY_MODEL_e0584210eafe4e00b2af480d2ec7fdd6",
       "max": 5256,
       "style": "IPY_MODEL_eec67328c157422abd95ee8b49fef632",
       "value": 5256
      }
     },
     "669978d5fad94446a2d52d35b1b27e3e": {
      "model_module": "@jupyter-widgets/controls",
      "model_module_version": "2.0.0",
      "model_name": "HTMLStyleModel",
      "state": {
       "description_width": "",
       "font_size": null,
       "text_color": null
      }
     },
     "6716c4f1d3d04a57a546f27a80ec2cce": {
      "model_module": "@jupyter-widgets/base",
      "model_module_version": "2.0.0",
      "model_name": "LayoutModel",
      "state": {}
     },
     "68697222e0e44e99b6df369c74817e2d": {
      "model_module": "@jupyter-widgets/controls",
      "model_module_version": "2.0.0",
      "model_name": "FloatProgressModel",
      "state": {
       "bar_style": "success",
       "layout": "IPY_MODEL_0a861509f95844d9825b8c459c977ae4",
       "max": 3560,
       "style": "IPY_MODEL_c03df707f867488e91338c404890026a",
       "value": 3560
      }
     },
     "69fe2fd748914d8aa69b79128e791358": {
      "model_module": "@jupyter-widgets/controls",
      "model_module_version": "2.0.0",
      "model_name": "HBoxModel",
      "state": {
       "children": [
        "IPY_MODEL_2cb3b8c16bd34b83aadf266c81ffd4fa",
        "IPY_MODEL_c16a1d3879954b519ee3c2eb07431c15",
        "IPY_MODEL_7d6afaf862b9420d9e6a30f6a7c9a8ad"
       ],
       "layout": "IPY_MODEL_ecc99928fb5549c69eb36197903ba68e"
      }
     },
     "6a08dcc10e77479bac70daba1f2a9a36": {
      "model_module": "@jupyter-widgets/controls",
      "model_module_version": "2.0.0",
      "model_name": "HTMLStyleModel",
      "state": {
       "description_width": "",
       "font_size": null,
       "text_color": null
      }
     },
     "6acea1f95a1d4e55ad3eef6945a4ac0b": {
      "model_module": "@jupyter-widgets/base",
      "model_module_version": "2.0.0",
      "model_name": "LayoutModel",
      "state": {}
     },
     "6af5ea35c6ae431fab6b19f8cbf38b1d": {
      "model_module": "@jupyter-widgets/controls",
      "model_module_version": "2.0.0",
      "model_name": "HTMLModel",
      "state": {
       "layout": "IPY_MODEL_00eb5bb77bd94a779efe51ae54c48795",
       "style": "IPY_MODEL_7452e3d40f054ef786e0a5f16e1cc042",
       "value": "Movies from 2008: 100%"
      }
     },
     "6defd749c881410cb7612b0cb328d579": {
      "model_module": "@jupyter-widgets/base",
      "model_module_version": "2.0.0",
      "model_name": "LayoutModel",
      "state": {}
     },
     "6ff8572293e644b0ace1e2dd6e59ce6b": {
      "model_module": "@jupyter-widgets/controls",
      "model_module_version": "2.0.0",
      "model_name": "HTMLStyleModel",
      "state": {
       "description_width": "",
       "font_size": null,
       "text_color": null
      }
     },
     "7452e3d40f054ef786e0a5f16e1cc042": {
      "model_module": "@jupyter-widgets/controls",
      "model_module_version": "2.0.0",
      "model_name": "HTMLStyleModel",
      "state": {
       "description_width": "",
       "font_size": null,
       "text_color": null
      }
     },
     "77cbcab3e2ca4d3ab6f4d089b28c36a5": {
      "model_module": "@jupyter-widgets/base",
      "model_module_version": "2.0.0",
      "model_name": "LayoutModel",
      "state": {}
     },
     "797c4ab02ecb49e9af738f2f7b5de6a3": {
      "model_module": "@jupyter-widgets/controls",
      "model_module_version": "2.0.0",
      "model_name": "HBoxModel",
      "state": {
       "children": [
        "IPY_MODEL_6af5ea35c6ae431fab6b19f8cbf38b1d",
        "IPY_MODEL_fa2ba1d48e704aa6bc5d4fe713171c13",
        "IPY_MODEL_d5a38cd70bac458794a92619600378be"
       ],
       "layout": "IPY_MODEL_d61b97d1ff8d451fb1ade07b964d975e"
      }
     },
     "7986ddaf8ef14879aefe39d893b62067": {
      "model_module": "@jupyter-widgets/controls",
      "model_module_version": "2.0.0",
      "model_name": "HTMLStyleModel",
      "state": {
       "description_width": "",
       "font_size": null,
       "text_color": null
      }
     },
     "79977ad766364e0cb44f6d49a9f51a23": {
      "model_module": "@jupyter-widgets/controls",
      "model_module_version": "2.0.0",
      "model_name": "HTMLModel",
      "state": {
       "layout": "IPY_MODEL_19680df58ffb4ac3ad4d6950b2ceacd4",
       "style": "IPY_MODEL_4f979ee05c3146d1a4f7c16cdd55704f",
       "value": " 1131/1131 [10:21&lt;00:00,  2.16it/s]"
      }
     },
     "7b99a7019b7a47e6afd531874b1fc61c": {
      "model_module": "@jupyter-widgets/controls",
      "model_module_version": "2.0.0",
      "model_name": "HBoxModel",
      "state": {
       "children": [
        "IPY_MODEL_4f05fc38cf6447719c2f18b71f0246bb",
        "IPY_MODEL_5bc7c7bbd965462f9c2ebb707dcdd5f5",
        "IPY_MODEL_f7d1b4b16d0e4d3f8ce6fcbd2aced39a"
       ],
       "layout": "IPY_MODEL_5242b98d5ca44e22b575fa8e308567b3"
      }
     },
     "7c97f3a7fc02477ea899ae8f0a546e63": {
      "model_module": "@jupyter-widgets/controls",
      "model_module_version": "2.0.0",
      "model_name": "HBoxModel",
      "state": {
       "children": [
        "IPY_MODEL_4f651d6571704ad09a8e909bf753cd2b",
        "IPY_MODEL_607b40784cb84e96afbf7f8984c7137f",
        "IPY_MODEL_9c0c4a3a12ef431b8f11da8c0a67b13a"
       ],
       "layout": "IPY_MODEL_224dfe7bfbaf4c6e82a8b0039c7cc316"
      }
     },
     "7d15876162d748319adf9104582bc5f6": {
      "model_module": "@jupyter-widgets/controls",
      "model_module_version": "2.0.0",
      "model_name": "HBoxModel",
      "state": {
       "children": [
        "IPY_MODEL_e8f96fb318fd4d97a2ba63c353437503",
        "IPY_MODEL_c81e0051565b46d993d8eb0626044e60",
        "IPY_MODEL_459543e85b774d7bb76761c586cc8a8c"
       ],
       "layout": "IPY_MODEL_ffe00e687d244f59b7590298d1c2746f"
      }
     },
     "7d604db7608c4bf3b558637282a59193": {
      "model_module": "@jupyter-widgets/controls",
      "model_module_version": "2.0.0",
      "model_name": "HTMLModel",
      "state": {
       "layout": "IPY_MODEL_0e5be613f61e468b8c37c04b06b6d0ab",
       "style": "IPY_MODEL_f09fee695c76406ea2fc59a6631ae61c",
       "value": " 5010/5010 [56:56&lt;00:00,  1.16s/it]"
      }
     },
     "7d6afaf862b9420d9e6a30f6a7c9a8ad": {
      "model_module": "@jupyter-widgets/controls",
      "model_module_version": "2.0.0",
      "model_name": "HTMLModel",
      "state": {
       "layout": "IPY_MODEL_45cb0d65960947919468355fe3904229",
       "style": "IPY_MODEL_faad95b9ba1b440390f8e191cbd3681d",
       "value": " 4522/4522 [45:46&lt;00:00,  1.68it/s]"
      }
     },
     "7d9d0758803f477996a942db59bffa1b": {
      "model_module": "@jupyter-widgets/base",
      "model_module_version": "2.0.0",
      "model_name": "LayoutModel",
      "state": {}
     },
     "7da8ec257fe043b9b8cbf4b4575eb9b5": {
      "model_module": "@jupyter-widgets/base",
      "model_module_version": "2.0.0",
      "model_name": "LayoutModel",
      "state": {}
     },
     "8266938ae8654dda9da6b89242cd3514": {
      "model_module": "@jupyter-widgets/base",
      "model_module_version": "2.0.0",
      "model_name": "LayoutModel",
      "state": {}
     },
     "8380a09354754dbba61d27e2f0ea2a2b": {
      "model_module": "@jupyter-widgets/controls",
      "model_module_version": "2.0.0",
      "model_name": "HTMLModel",
      "state": {
       "layout": "IPY_MODEL_7d9d0758803f477996a942db59bffa1b",
       "style": "IPY_MODEL_bc7c4053364e425885f34e6322bf3a43",
       "value": " 4714/4714 [50:09&lt;00:00,  1.64it/s]"
      }
     },
     "839ba46488294b99a989becdef5160f7": {
      "model_module": "@jupyter-widgets/controls",
      "model_module_version": "2.0.0",
      "model_name": "HTMLStyleModel",
      "state": {
       "description_width": "",
       "font_size": null,
       "text_color": null
      }
     },
     "8470bc50d9094abc90dd14bb61514189": {
      "model_module": "@jupyter-widgets/base",
      "model_module_version": "2.0.0",
      "model_name": "LayoutModel",
      "state": {}
     },
     "8621d19f7471486396c14f63c5a7c4bd": {
      "model_module": "@jupyter-widgets/base",
      "model_module_version": "2.0.0",
      "model_name": "LayoutModel",
      "state": {}
     },
     "8638c28d18e74187a00625da0931027e": {
      "model_module": "@jupyter-widgets/controls",
      "model_module_version": "2.0.0",
      "model_name": "ProgressStyleModel",
      "state": {
       "description_width": ""
      }
     },
     "86bb6073c8ad48e7bdeb230395f36af4": {
      "model_module": "@jupyter-widgets/controls",
      "model_module_version": "2.0.0",
      "model_name": "HTMLModel",
      "state": {
       "layout": "IPY_MODEL_3d7b8ea5e06047d09a0d8bac62a9f15f",
       "style": "IPY_MODEL_e625d50ae5234fefad0bb8c3564647c0",
       "value": "Movies from 2020: 100%"
      }
     },
     "87776d5694e24767a86e91898616745e": {
      "model_module": "@jupyter-widgets/controls",
      "model_module_version": "2.0.0",
      "model_name": "HTMLModel",
      "state": {
       "layout": "IPY_MODEL_8dbc8acac79e434480362ca01e3f6148",
       "style": "IPY_MODEL_e6a5064c91e84fc189b10cdc0b64cd16",
       "value": "Movies from 2005: 100%"
      }
     },
     "87aa503b4b784dca88f44061812680f1": {
      "model_module": "@jupyter-widgets/controls",
      "model_module_version": "2.0.0",
      "model_name": "HBoxModel",
      "state": {
       "children": [
        "IPY_MODEL_2db452b1cffe425d820d3fc3b6053ab4",
        "IPY_MODEL_65c3c35a4d674edc9f8ae1e35828d2b7",
        "IPY_MODEL_c0f9e6ec32844c4d813bb738ab6b7d94"
       ],
       "layout": "IPY_MODEL_b8bd16ddf0214f6ab220be9c2efcc8ba"
      }
     },
     "88f91bc6087b46b6b39045b80735aac4": {
      "model_module": "@jupyter-widgets/base",
      "model_module_version": "2.0.0",
      "model_name": "LayoutModel",
      "state": {}
     },
     "892fa4cbfdd841d89abb4c37420cc6a8": {
      "model_module": "@jupyter-widgets/controls",
      "model_module_version": "2.0.0",
      "model_name": "ProgressStyleModel",
      "state": {
       "description_width": ""
      }
     },
     "89a15528fcd842ddad1a7a573f78ce57": {
      "model_module": "@jupyter-widgets/controls",
      "model_module_version": "2.0.0",
      "model_name": "HTMLModel",
      "state": {
       "layout": "IPY_MODEL_0707d1b34a4f4ed1af524604233bb679",
       "style": "IPY_MODEL_fbc5d952b26b499184ffdcfe2b9ce9ee",
       "value": " 2/2 [2:13:10&lt;00:00, 3893.23s/it]"
      }
     },
     "8a9e0ab835a348efa661701a81b47c7f": {
      "model_module": "@jupyter-widgets/base",
      "model_module_version": "2.0.0",
      "model_name": "LayoutModel",
      "state": {}
     },
     "8ba160e5203a4f128f142396d3089811": {
      "model_module": "@jupyter-widgets/controls",
      "model_module_version": "2.0.0",
      "model_name": "ProgressStyleModel",
      "state": {
       "description_width": ""
      }
     },
     "8dbc8acac79e434480362ca01e3f6148": {
      "model_module": "@jupyter-widgets/base",
      "model_module_version": "2.0.0",
      "model_name": "LayoutModel",
      "state": {}
     },
     "8efc4ec4fba14490950275acfbb76cc4": {
      "model_module": "@jupyter-widgets/controls",
      "model_module_version": "2.0.0",
      "model_name": "ProgressStyleModel",
      "state": {
       "description_width": ""
      }
     },
     "94f395ad575c473fbe3e73d6b793c289": {
      "model_module": "@jupyter-widgets/controls",
      "model_module_version": "2.0.0",
      "model_name": "ProgressStyleModel",
      "state": {
       "description_width": ""
      }
     },
     "955d91de420b49b187d79adbf2bbe791": {
      "model_module": "@jupyter-widgets/controls",
      "model_module_version": "2.0.0",
      "model_name": "FloatProgressModel",
      "state": {
       "bar_style": "success",
       "layout": "IPY_MODEL_bec8d75d0aa74686a6b852d71e4ed45e",
       "max": 4714,
       "style": "IPY_MODEL_4822c0143b1a4448bdce932886fde7d5",
       "value": 4714
      }
     },
     "96ba8b9c9e1148f1826d4b07229bdc0e": {
      "model_module": "@jupyter-widgets/base",
      "model_module_version": "2.0.0",
      "model_name": "LayoutModel",
      "state": {}
     },
     "96bcfe6bae1a4ce5b91091826321aadb": {
      "model_module": "@jupyter-widgets/base",
      "model_module_version": "2.0.0",
      "model_name": "LayoutModel",
      "state": {}
     },
     "9b1e997d38994655bd619a356c8842e8": {
      "model_module": "@jupyter-widgets/controls",
      "model_module_version": "2.0.0",
      "model_name": "ProgressStyleModel",
      "state": {
       "description_width": ""
      }
     },
     "9b657d5c637a4f2699acb0497c57e70a": {
      "model_module": "@jupyter-widgets/base",
      "model_module_version": "2.0.0",
      "model_name": "LayoutModel",
      "state": {}
     },
     "9c0c4a3a12ef431b8f11da8c0a67b13a": {
      "model_module": "@jupyter-widgets/controls",
      "model_module_version": "2.0.0",
      "model_name": "HTMLModel",
      "state": {
       "layout": "IPY_MODEL_191b5e83b01b4abd9fadc93d3a395d1e",
       "style": "IPY_MODEL_dedaee48ac394de19f4dcfcdfaac107c",
       "value": " 6/2185 [00:02&lt;11:52,  3.06it/s]"
      }
     },
     "9db74a5483364bebbc778d3de1cbe63c": {
      "model_module": "@jupyter-widgets/base",
      "model_module_version": "2.0.0",
      "model_name": "LayoutModel",
      "state": {}
     },
     "9e181d380d4546f08227ce516f53aa47": {
      "model_module": "@jupyter-widgets/base",
      "model_module_version": "2.0.0",
      "model_name": "LayoutModel",
      "state": {}
     },
     "a02296c8a8a44a1a99cc1d9a0b9b646c": {
      "model_module": "@jupyter-widgets/controls",
      "model_module_version": "2.0.0",
      "model_name": "FloatProgressModel",
      "state": {
       "bar_style": "success",
       "layout": "IPY_MODEL_b39edd8a77f74b77b6ac018105e019c0",
       "max": 1131,
       "style": "IPY_MODEL_9b1e997d38994655bd619a356c8842e8",
       "value": 1131
      }
     },
     "a0d8c944de0541daa2748412e2618d3c": {
      "model_module": "@jupyter-widgets/base",
      "model_module_version": "2.0.0",
      "model_name": "LayoutModel",
      "state": {}
     },
     "a27ec2de54164e51a0ac9f9a0eb31d36": {
      "model_module": "@jupyter-widgets/base",
      "model_module_version": "2.0.0",
      "model_name": "LayoutModel",
      "state": {}
     },
     "a56b2934bbc14d7b8468f4aeef3998d9": {
      "model_module": "@jupyter-widgets/controls",
      "model_module_version": "2.0.0",
      "model_name": "HTMLStyleModel",
      "state": {
       "description_width": "",
       "font_size": null,
       "text_color": null
      }
     },
     "a6799d70e4b94d5b9b6dc2291f865a92": {
      "model_module": "@jupyter-widgets/base",
      "model_module_version": "2.0.0",
      "model_name": "LayoutModel",
      "state": {}
     },
     "a7f012ad31ba4119bf724b99174a1e86": {
      "model_module": "@jupyter-widgets/controls",
      "model_module_version": "2.0.0",
      "model_name": "HTMLModel",
      "state": {
       "layout": "IPY_MODEL_3d227d8f8bcf417f9574b7cdbced7dac",
       "style": "IPY_MODEL_7986ddaf8ef14879aefe39d893b62067",
       "value": " 5643/5643 [1:08:23&lt;00:00,  1.63it/s]"
      }
     },
     "a89485a213624c738a30f5050ca92ceb": {
      "model_module": "@jupyter-widgets/base",
      "model_module_version": "2.0.0",
      "model_name": "LayoutModel",
      "state": {}
     },
     "a89bf29120624dc788448c9f06f213ef": {
      "model_module": "@jupyter-widgets/controls",
      "model_module_version": "2.0.0",
      "model_name": "HTMLModel",
      "state": {
       "layout": "IPY_MODEL_77cbcab3e2ca4d3ab6f4d089b28c36a5",
       "style": "IPY_MODEL_1d356c248a864ce384f0effd700ab18f",
       "value": "Movies from 2009: 100%"
      }
     },
     "a8c20326616a4beea1584a0aaba9483b": {
      "model_module": "@jupyter-widgets/controls",
      "model_module_version": "2.0.0",
      "model_name": "HTMLModel",
      "state": {
       "layout": "IPY_MODEL_8470bc50d9094abc90dd14bb61514189",
       "style": "IPY_MODEL_fe4b2e34082a49d99931d289ce3e7147",
       "value": " 4917/4917 [54:13&lt;00:00,  1.68it/s]"
      }
     },
     "a99dc750405b471586c70e83c2661d11": {
      "model_module": "@jupyter-widgets/controls",
      "model_module_version": "2.0.0",
      "model_name": "HBoxModel",
      "state": {
       "children": [
        "IPY_MODEL_0551c3e08aca498a84290928cd399df5",
        "IPY_MODEL_955d91de420b49b187d79adbf2bbe791",
        "IPY_MODEL_8380a09354754dbba61d27e2f0ea2a2b"
       ],
       "layout": "IPY_MODEL_d42cd20d8b47422998ee53cc70490b5d"
      }
     },
     "aa29df10be5d4ebf87d92cee6dab5930": {
      "model_module": "@jupyter-widgets/base",
      "model_module_version": "2.0.0",
      "model_name": "LayoutModel",
      "state": {}
     },
     "afabee187b2f4fd89ee69df08d39b1f7": {
      "model_module": "@jupyter-widgets/base",
      "model_module_version": "2.0.0",
      "model_name": "LayoutModel",
      "state": {}
     },
     "b39edd8a77f74b77b6ac018105e019c0": {
      "model_module": "@jupyter-widgets/base",
      "model_module_version": "2.0.0",
      "model_name": "LayoutModel",
      "state": {}
     },
     "b4b8d8a42fff4fd7b278fa535945c27f": {
      "model_module": "@jupyter-widgets/controls",
      "model_module_version": "2.0.0",
      "model_name": "FloatProgressModel",
      "state": {
       "bar_style": "success",
       "layout": "IPY_MODEL_a0d8c944de0541daa2748412e2618d3c",
       "max": 2,
       "style": "IPY_MODEL_24b6fa01005b45acbf533d2bde6b0045",
       "value": 2
      }
     },
     "b4dd98b62df1471a9b861ecc5b13f050": {
      "model_module": "@jupyter-widgets/controls",
      "model_module_version": "2.0.0",
      "model_name": "HBoxModel",
      "state": {
       "children": [
        "IPY_MODEL_d5c15313c1994acb8d8e86cec18b75b9",
        "IPY_MODEL_fd964535375d4c27baf15f721e52fad4",
        "IPY_MODEL_0ebf62fd6e69453ebd2a98ec718870ba"
       ],
       "layout": "IPY_MODEL_6acea1f95a1d4e55ad3eef6945a4ac0b"
      }
     },
     "b8bd16ddf0214f6ab220be9c2efcc8ba": {
      "model_module": "@jupyter-widgets/base",
      "model_module_version": "2.0.0",
      "model_name": "LayoutModel",
      "state": {}
     },
     "b955667afb474b6795a5972e78a5a7cd": {
      "model_module": "@jupyter-widgets/controls",
      "model_module_version": "2.0.0",
      "model_name": "HTMLStyleModel",
      "state": {
       "description_width": "",
       "font_size": null,
       "text_color": null
      }
     },
     "bb18c1dbb4e84fc8a0356b1dedbfa9f3": {
      "model_module": "@jupyter-widgets/controls",
      "model_module_version": "2.0.0",
      "model_name": "HTMLModel",
      "state": {
       "layout": "IPY_MODEL_9b657d5c637a4f2699acb0497c57e70a",
       "style": "IPY_MODEL_c58837613d0f485f9e870613764f4a90",
       "value": " 3560/3560 [37:53&lt;00:00,  1.80it/s]"
      }
     },
     "bb41254ad29c427fac2bd16a05ed8259": {
      "model_module": "@jupyter-widgets/controls",
      "model_module_version": "2.0.0",
      "model_name": "HTMLModel",
      "state": {
       "layout": "IPY_MODEL_58e5dee188714557a734dccce4e4cb36",
       "style": "IPY_MODEL_c7fa153adfea43ddb77573b585f7145b",
       "value": "Movies from 2015: 100%"
      }
     },
     "bc7c4053364e425885f34e6322bf3a43": {
      "model_module": "@jupyter-widgets/controls",
      "model_module_version": "2.0.0",
      "model_name": "HTMLStyleModel",
      "state": {
       "description_width": "",
       "font_size": null,
       "text_color": null
      }
     },
     "bec8d75d0aa74686a6b852d71e4ed45e": {
      "model_module": "@jupyter-widgets/base",
      "model_module_version": "2.0.0",
      "model_name": "LayoutModel",
      "state": {}
     },
     "c03df707f867488e91338c404890026a": {
      "model_module": "@jupyter-widgets/controls",
      "model_module_version": "2.0.0",
      "model_name": "ProgressStyleModel",
      "state": {
       "description_width": ""
      }
     },
     "c0f9e6ec32844c4d813bb738ab6b7d94": {
      "model_module": "@jupyter-widgets/controls",
      "model_module_version": "2.0.0",
      "model_name": "HTMLModel",
      "state": {
       "layout": "IPY_MODEL_96bcfe6bae1a4ce5b91091826321aadb",
       "style": "IPY_MODEL_f7dde10a19a74265882d1d70cfb48a7c",
       "value": " 5256/5256 [1:01:19&lt;00:00,  1.05s/it]"
      }
     },
     "c16a1d3879954b519ee3c2eb07431c15": {
      "model_module": "@jupyter-widgets/controls",
      "model_module_version": "2.0.0",
      "model_name": "FloatProgressModel",
      "state": {
       "bar_style": "success",
       "layout": "IPY_MODEL_0049c721af8d43bbad3a3e5fbf80d7da",
       "max": 4522,
       "style": "IPY_MODEL_1e4fe7af903b4388a35d594a1373a77b",
       "value": 4522
      }
     },
     "c1e29c105c5348b4be70458955c3f8e3": {
      "model_module": "@jupyter-widgets/controls",
      "model_module_version": "2.0.0",
      "model_name": "HTMLStyleModel",
      "state": {
       "description_width": "",
       "font_size": null,
       "text_color": null
      }
     },
     "c201146bddbd43a2821f953d3c05338e": {
      "model_module": "@jupyter-widgets/base",
      "model_module_version": "2.0.0",
      "model_name": "LayoutModel",
      "state": {}
     },
     "c53a05c5804e4fe4b325dc6e2c8ceed4": {
      "model_module": "@jupyter-widgets/base",
      "model_module_version": "2.0.0",
      "model_name": "LayoutModel",
      "state": {}
     },
     "c58837613d0f485f9e870613764f4a90": {
      "model_module": "@jupyter-widgets/controls",
      "model_module_version": "2.0.0",
      "model_name": "HTMLStyleModel",
      "state": {
       "description_width": "",
       "font_size": null,
       "text_color": null
      }
     },
     "c63b68a3a0b14b80b1facd036bc803cd": {
      "model_module": "@jupyter-widgets/controls",
      "model_module_version": "2.0.0",
      "model_name": "FloatProgressModel",
      "state": {
       "bar_style": "danger",
       "layout": "IPY_MODEL_8266938ae8654dda9da6b89242cd3514",
       "max": 18,
       "style": "IPY_MODEL_500bc928274546ecbf6746b6807b3702"
      }
     },
     "c693f41477fc4c33bf2faa9292b0e0d9": {
      "model_module": "@jupyter-widgets/controls",
      "model_module_version": "2.0.0",
      "model_name": "HTMLModel",
      "state": {
       "layout": "IPY_MODEL_2d9a8a87a7f348c0af78c0ccfc567ded",
       "style": "IPY_MODEL_052291b59a3949f187eec7d464db76a8",
       "value": " 2179/2179 [16:52&lt;00:00,  3.15it/s]"
      }
     },
     "c768a6e84d94471cb7b077422ec53a8e": {
      "model_module": "@jupyter-widgets/base",
      "model_module_version": "2.0.0",
      "model_name": "LayoutModel",
      "state": {}
     },
     "c7fa153adfea43ddb77573b585f7145b": {
      "model_module": "@jupyter-widgets/controls",
      "model_module_version": "2.0.0",
      "model_name": "HTMLStyleModel",
      "state": {
       "description_width": "",
       "font_size": null,
       "text_color": null
      }
     },
     "c81e0051565b46d993d8eb0626044e60": {
      "model_module": "@jupyter-widgets/controls",
      "model_module_version": "2.0.0",
      "model_name": "FloatProgressModel",
      "state": {
       "bar_style": "success",
       "layout": "IPY_MODEL_cc7fc3f786fa4482bdf4f9e6af3795cf",
       "max": 2440,
       "style": "IPY_MODEL_4d667604914241a3921ebe8090af0280",
       "value": 2440
      }
     },
     "c860e59af1574579ac2804bf40c590ca": {
      "model_module": "@jupyter-widgets/controls",
      "model_module_version": "2.0.0",
      "model_name": "HTMLStyleModel",
      "state": {
       "description_width": "",
       "font_size": null,
       "text_color": null
      }
     },
     "c952e9cc96434c3db4752207d46de563": {
      "model_module": "@jupyter-widgets/controls",
      "model_module_version": "2.0.0",
      "model_name": "FloatProgressModel",
      "state": {
       "bar_style": "success",
       "layout": "IPY_MODEL_3c035a4cbad74740afda8e956a892ecc",
       "max": 2579,
       "style": "IPY_MODEL_8efc4ec4fba14490950275acfbb76cc4",
       "value": 2579
      }
     },
     "cc7fc3f786fa4482bdf4f9e6af3795cf": {
      "model_module": "@jupyter-widgets/base",
      "model_module_version": "2.0.0",
      "model_name": "LayoutModel",
      "state": {}
     },
     "cd4b65bccf6a448bbee757a5b557433b": {
      "model_module": "@jupyter-widgets/controls",
      "model_module_version": "2.0.0",
      "model_name": "ProgressStyleModel",
      "state": {
       "description_width": ""
      }
     },
     "cec6ee2ae40241d4981b7a04f81aeb49": {
      "model_module": "@jupyter-widgets/controls",
      "model_module_version": "2.0.0",
      "model_name": "HTMLModel",
      "state": {
       "layout": "IPY_MODEL_17877756ca7e4b79920a8e13f7986915",
       "style": "IPY_MODEL_03e99ef5053f4d449004476ea95c0bc6",
       "value": " 0/18 [00:02&lt;?, ?it/s]"
      }
     },
     "cf04b49d14c4479583d9cb375fe0cc9b": {
      "model_module": "@jupyter-widgets/base",
      "model_module_version": "2.0.0",
      "model_name": "LayoutModel",
      "state": {}
     },
     "d0ffb4b1e928417ab263b0e1dc9ea0e6": {
      "model_module": "@jupyter-widgets/base",
      "model_module_version": "2.0.0",
      "model_name": "LayoutModel",
      "state": {}
     },
     "d42cd20d8b47422998ee53cc70490b5d": {
      "model_module": "@jupyter-widgets/base",
      "model_module_version": "2.0.0",
      "model_name": "LayoutModel",
      "state": {}
     },
     "d4e2b2c316d448fa8bffe3f4d68a37bc": {
      "model_module": "@jupyter-widgets/controls",
      "model_module_version": "2.0.0",
      "model_name": "HTMLStyleModel",
      "state": {
       "description_width": "",
       "font_size": null,
       "text_color": null
      }
     },
     "d5a38cd70bac458794a92619600378be": {
      "model_module": "@jupyter-widgets/controls",
      "model_module_version": "2.0.0",
      "model_name": "HTMLModel",
      "state": {
       "layout": "IPY_MODEL_f7d3760a3c304a69b52434dfd8bd044e",
       "style": "IPY_MODEL_120cfde1607d49aab1e7504e37d0e12c",
       "value": " 2912/2912 [24:22&lt;00:00,  2.74it/s]"
      }
     },
     "d5c15313c1994acb8d8e86cec18b75b9": {
      "model_module": "@jupyter-widgets/controls",
      "model_module_version": "2.0.0",
      "model_name": "HTMLModel",
      "state": {
       "layout": "IPY_MODEL_6defd749c881410cb7612b0cb328d579",
       "style": "IPY_MODEL_a56b2934bbc14d7b8468f4aeef3998d9",
       "value": "Movies from 2019:  12%"
      }
     },
     "d6119778f5df4dbf8cdc1e882d168fad": {
      "model_module": "@jupyter-widgets/controls",
      "model_module_version": "2.0.0",
      "model_name": "HTMLModel",
      "state": {
       "layout": "IPY_MODEL_e0b920c77aa14ec4b2a266e52d05ec51",
       "style": "IPY_MODEL_e6383ef785a4457e94b57e8c2d49fac1",
       "value": "YEARS: 100%"
      }
     },
     "d61b97d1ff8d451fb1ade07b964d975e": {
      "model_module": "@jupyter-widgets/base",
      "model_module_version": "2.0.0",
      "model_name": "LayoutModel",
      "state": {}
     },
     "d8de820bc3594dab9070baed14d49217": {
      "model_module": "@jupyter-widgets/controls",
      "model_module_version": "2.0.0",
      "model_name": "HTMLStyleModel",
      "state": {
       "description_width": "",
       "font_size": null,
       "text_color": null
      }
     },
     "dedaee48ac394de19f4dcfcdfaac107c": {
      "model_module": "@jupyter-widgets/controls",
      "model_module_version": "2.0.0",
      "model_name": "HTMLStyleModel",
      "state": {
       "description_width": "",
       "font_size": null,
       "text_color": null
      }
     },
     "df83b4a348134ebba23dce27797f0948": {
      "model_module": "@jupyter-widgets/base",
      "model_module_version": "2.0.0",
      "model_name": "LayoutModel",
      "state": {}
     },
     "df8f043e56444be5bfac88e57fcb4bb7": {
      "model_module": "@jupyter-widgets/controls",
      "model_module_version": "2.0.0",
      "model_name": "FloatProgressModel",
      "state": {
       "bar_style": "success",
       "layout": "IPY_MODEL_20da85569e964695a4106755fedcdbf1",
       "max": 2179,
       "style": "IPY_MODEL_411b73d0d765466f87c8d019330583f5",
       "value": 2179
      }
     },
     "e0584210eafe4e00b2af480d2ec7fdd6": {
      "model_module": "@jupyter-widgets/base",
      "model_module_version": "2.0.0",
      "model_name": "LayoutModel",
      "state": {}
     },
     "e091aa8c29b94e74a30457c0aa0b2ecc": {
      "model_module": "@jupyter-widgets/controls",
      "model_module_version": "2.0.0",
      "model_name": "HTMLStyleModel",
      "state": {
       "description_width": "",
       "font_size": null,
       "text_color": null
      }
     },
     "e0b920c77aa14ec4b2a266e52d05ec51": {
      "model_module": "@jupyter-widgets/base",
      "model_module_version": "2.0.0",
      "model_name": "LayoutModel",
      "state": {}
     },
     "e17fa63c4c5a4507ad5384660975eb12": {
      "model_module": "@jupyter-widgets/controls",
      "model_module_version": "2.0.0",
      "model_name": "FloatProgressModel",
      "state": {
       "bar_style": "danger",
       "layout": "IPY_MODEL_3d33e01b67c743d1a8cc2046cb69da63",
       "max": 18,
       "style": "IPY_MODEL_892fa4cbfdd841d89abb4c37420cc6a8",
       "value": 14
      }
     },
     "e327bb25d7b848a7ab1c9b5de2aa1a8e": {
      "model_module": "@jupyter-widgets/controls",
      "model_module_version": "2.0.0",
      "model_name": "HTMLStyleModel",
      "state": {
       "description_width": "",
       "font_size": null,
       "text_color": null
      }
     },
     "e3289c4d4d024f89853a569efe31f63c": {
      "model_module": "@jupyter-widgets/controls",
      "model_module_version": "2.0.0",
      "model_name": "ProgressStyleModel",
      "state": {
       "description_width": ""
      }
     },
     "e58c6c7da335433c9245175d2c945023": {
      "model_module": "@jupyter-widgets/controls",
      "model_module_version": "2.0.0",
      "model_name": "HTMLStyleModel",
      "state": {
       "description_width": "",
       "font_size": null,
       "text_color": null
      }
     },
     "e625d50ae5234fefad0bb8c3564647c0": {
      "model_module": "@jupyter-widgets/controls",
      "model_module_version": "2.0.0",
      "model_name": "HTMLStyleModel",
      "state": {
       "description_width": "",
       "font_size": null,
       "text_color": null
      }
     },
     "e6383ef785a4457e94b57e8c2d49fac1": {
      "model_module": "@jupyter-widgets/controls",
      "model_module_version": "2.0.0",
      "model_name": "HTMLStyleModel",
      "state": {
       "description_width": "",
       "font_size": null,
       "text_color": null
      }
     },
     "e6a5064c91e84fc189b10cdc0b64cd16": {
      "model_module": "@jupyter-widgets/controls",
      "model_module_version": "2.0.0",
      "model_name": "HTMLStyleModel",
      "state": {
       "description_width": "",
       "font_size": null,
       "text_color": null
      }
     },
     "e795014ef7e54b1282c43176374b94a2": {
      "model_module": "@jupyter-widgets/controls",
      "model_module_version": "2.0.0",
      "model_name": "HBoxModel",
      "state": {
       "children": [
        "IPY_MODEL_4d4b783985de4345a32ea7a722f20f7a",
        "IPY_MODEL_c63b68a3a0b14b80b1facd036bc803cd",
        "IPY_MODEL_cec6ee2ae40241d4981b7a04f81aeb49"
       ],
       "layout": "IPY_MODEL_14d915f2a7604c9dacab6c29b859ba02"
      }
     },
     "e8f96fb318fd4d97a2ba63c353437503": {
      "model_module": "@jupyter-widgets/controls",
      "model_module_version": "2.0.0",
      "model_name": "HTMLModel",
      "state": {
       "layout": "IPY_MODEL_07c23aa0f34a4d9a8379b33fed2fc648",
       "style": "IPY_MODEL_5b6a6f6d30234cd783760dcd2afa0cb5",
       "value": "Movies from 2006: 100%"
      }
     },
     "e9301021933d4d2a99debaae6a9f8fc7": {
      "model_module": "@jupyter-widgets/base",
      "model_module_version": "2.0.0",
      "model_name": "LayoutModel",
      "state": {}
     },
     "e9ed7bf4ae1443b6b26adec6f9874734": {
      "model_module": "@jupyter-widgets/controls",
      "model_module_version": "2.0.0",
      "model_name": "HBoxModel",
      "state": {
       "children": [
        "IPY_MODEL_87776d5694e24767a86e91898616745e",
        "IPY_MODEL_df8f043e56444be5bfac88e57fcb4bb7",
        "IPY_MODEL_c693f41477fc4c33bf2faa9292b0e0d9"
       ],
       "layout": "IPY_MODEL_7da8ec257fe043b9b8cbf4b4575eb9b5"
      }
     },
     "ea0546c7dda84a1093ec8bd8b541f7f2": {
      "model_module": "@jupyter-widgets/base",
      "model_module_version": "2.0.0",
      "model_name": "LayoutModel",
      "state": {}
     },
     "eb99c98f9e334c099bdc99be1672add8": {
      "model_module": "@jupyter-widgets/base",
      "model_module_version": "2.0.0",
      "model_name": "LayoutModel",
      "state": {}
     },
     "ecc99928fb5549c69eb36197903ba68e": {
      "model_module": "@jupyter-widgets/base",
      "model_module_version": "2.0.0",
      "model_name": "LayoutModel",
      "state": {}
     },
     "ee212fe82499404fb5e7b30ba9fc0bd0": {
      "model_module": "@jupyter-widgets/base",
      "model_module_version": "2.0.0",
      "model_name": "LayoutModel",
      "state": {}
     },
     "eec67328c157422abd95ee8b49fef632": {
      "model_module": "@jupyter-widgets/controls",
      "model_module_version": "2.0.0",
      "model_name": "ProgressStyleModel",
      "state": {
       "description_width": ""
      }
     },
     "ef4ffef57657446ebdbe8d7575f9e81b": {
      "model_module": "@jupyter-widgets/base",
      "model_module_version": "2.0.0",
      "model_name": "LayoutModel",
      "state": {}
     },
     "f09fee695c76406ea2fc59a6631ae61c": {
      "model_module": "@jupyter-widgets/controls",
      "model_module_version": "2.0.0",
      "model_name": "HTMLStyleModel",
      "state": {
       "description_width": "",
       "font_size": null,
       "text_color": null
      }
     },
     "f3132639050a4c4482cebc563d8faf64": {
      "model_module": "@jupyter-widgets/base",
      "model_module_version": "2.0.0",
      "model_name": "LayoutModel",
      "state": {}
     },
     "f5e00df8f1514f2a88929ec590bd45b4": {
      "model_module": "@jupyter-widgets/controls",
      "model_module_version": "2.0.0",
      "model_name": "HBoxModel",
      "state": {
       "children": [
        "IPY_MODEL_2ddb2f2b83ec4e2a8acccc41c618dedd",
        "IPY_MODEL_3266f45c27d04c598acf8e8828a64708",
        "IPY_MODEL_a7f012ad31ba4119bf724b99174a1e86"
       ],
       "layout": "IPY_MODEL_c768a6e84d94471cb7b077422ec53a8e"
      }
     },
     "f697e137bcf34a21ba19e6111a45e5b5": {
      "model_module": "@jupyter-widgets/controls",
      "model_module_version": "2.0.0",
      "model_name": "HTMLStyleModel",
      "state": {
       "description_width": "",
       "font_size": null,
       "text_color": null
      }
     },
     "f6c88f8acac74458a65796071d1779af": {
      "model_module": "@jupyter-widgets/controls",
      "model_module_version": "2.0.0",
      "model_name": "FloatProgressModel",
      "state": {
       "bar_style": "success",
       "layout": "IPY_MODEL_c53a05c5804e4fe4b325dc6e2c8ceed4",
       "max": 4229,
       "style": "IPY_MODEL_51722aa6b8a446c9868faf0b25f6e600",
       "value": 4229
      }
     },
     "f6f817d432f94e38b7c91fe2a649417a": {
      "model_module": "@jupyter-widgets/controls",
      "model_module_version": "2.0.0",
      "model_name": "ProgressStyleModel",
      "state": {
       "description_width": ""
      }
     },
     "f74ea1153038471d98fc6e301c10ad64": {
      "model_module": "@jupyter-widgets/controls",
      "model_module_version": "2.0.0",
      "model_name": "HTMLModel",
      "state": {
       "layout": "IPY_MODEL_d0ffb4b1e928417ab263b0e1dc9ea0e6",
       "style": "IPY_MODEL_839ba46488294b99a989becdef5160f7",
       "value": "Movies from 2014: 100%"
      }
     },
     "f7d1b4b16d0e4d3f8ce6fcbd2aced39a": {
      "model_module": "@jupyter-widgets/controls",
      "model_module_version": "2.0.0",
      "model_name": "HTMLModel",
      "state": {
       "layout": "IPY_MODEL_175eff9681344d0c80e786b9f3ad390c",
       "style": "IPY_MODEL_6ff8572293e644b0ace1e2dd6e59ce6b",
       "value": " 5290/5290 [1:16:13&lt;00:00,  1.23s/it]"
      }
     },
     "f7d3760a3c304a69b52434dfd8bd044e": {
      "model_module": "@jupyter-widgets/base",
      "model_module_version": "2.0.0",
      "model_name": "LayoutModel",
      "state": {}
     },
     "f7dde10a19a74265882d1d70cfb48a7c": {
      "model_module": "@jupyter-widgets/controls",
      "model_module_version": "2.0.0",
      "model_name": "HTMLStyleModel",
      "state": {
       "description_width": "",
       "font_size": null,
       "text_color": null
      }
     },
     "f9cfbe1fa65f47d78228d28ec670d29a": {
      "model_module": "@jupyter-widgets/controls",
      "model_module_version": "2.0.0",
      "model_name": "HBoxModel",
      "state": {
       "children": [
        "IPY_MODEL_1c24f418fb0f4046934d7b9dce9c77f5",
        "IPY_MODEL_c952e9cc96434c3db4752207d46de563",
        "IPY_MODEL_2211894e726b48b7922e35406b83b764"
       ],
       "layout": "IPY_MODEL_8a9e0ab835a348efa661701a81b47c7f"
      }
     },
     "fa2ba1d48e704aa6bc5d4fe713171c13": {
      "model_module": "@jupyter-widgets/controls",
      "model_module_version": "2.0.0",
      "model_name": "FloatProgressModel",
      "state": {
       "bar_style": "success",
       "layout": "IPY_MODEL_03d6079a7b90494a8f2bf3a4de15e637",
       "max": 2912,
       "style": "IPY_MODEL_f6f817d432f94e38b7c91fe2a649417a",
       "value": 2912
      }
     },
     "faad95b9ba1b440390f8e191cbd3681d": {
      "model_module": "@jupyter-widgets/controls",
      "model_module_version": "2.0.0",
      "model_name": "HTMLStyleModel",
      "state": {
       "description_width": "",
       "font_size": null,
       "text_color": null
      }
     },
     "fbc5d952b26b499184ffdcfe2b9ce9ee": {
      "model_module": "@jupyter-widgets/controls",
      "model_module_version": "2.0.0",
      "model_name": "HTMLStyleModel",
      "state": {
       "description_width": "",
       "font_size": null,
       "text_color": null
      }
     },
     "fd51892d621d4970b807bd202b6b48d9": {
      "model_module": "@jupyter-widgets/controls",
      "model_module_version": "2.0.0",
      "model_name": "FloatProgressModel",
      "state": {
       "bar_style": "success",
       "layout": "IPY_MODEL_a27ec2de54164e51a0ac9f9a0eb31d36",
       "max": 5056,
       "style": "IPY_MODEL_8ba160e5203a4f128f142396d3089811",
       "value": 5056
      }
     },
     "fd964535375d4c27baf15f721e52fad4": {
      "model_module": "@jupyter-widgets/controls",
      "model_module_version": "2.0.0",
      "model_name": "FloatProgressModel",
      "state": {
       "bar_style": "danger",
       "layout": "IPY_MODEL_aa29df10be5d4ebf87d92cee6dab5930",
       "max": 5877,
       "style": "IPY_MODEL_8638c28d18e74187a00625da0931027e",
       "value": 724
      }
     },
     "fe4b2e34082a49d99931d289ce3e7147": {
      "model_module": "@jupyter-widgets/controls",
      "model_module_version": "2.0.0",
      "model_name": "HTMLStyleModel",
      "state": {
       "description_width": "",
       "font_size": null,
       "text_color": null
      }
     },
     "ffe00e687d244f59b7590298d1c2746f": {
      "model_module": "@jupyter-widgets/base",
      "model_module_version": "2.0.0",
      "model_name": "LayoutModel",
      "state": {}
     }
    },
    "version_major": 2,
    "version_minor": 0
   }
  }
 },
 "nbformat": 4,
 "nbformat_minor": 5
}
