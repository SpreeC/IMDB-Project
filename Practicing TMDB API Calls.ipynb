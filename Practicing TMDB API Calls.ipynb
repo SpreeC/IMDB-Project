{
 "cells": [
  {
   "cell_type": "markdown",
   "id": "e1991372-c99b-41bc-a06b-ec438e0a1760",
   "metadata": {},
   "source": [
    "# Imports"
   ]
  },
  {
   "cell_type": "code",
   "execution_count": 1,
   "id": "203001d2-5e0b-4c76-96b2-41fd161dd6db",
   "metadata": {},
   "outputs": [],
   "source": [
    "# Import packages\n",
    "import os, time, json\n",
    "import tmdbsimple as tmdb \n",
    "import pandas as pd\n",
    "from tqdm.notebook import tqdm_notebook"
   ]
  },
  {
   "cell_type": "code",
   "execution_count": 2,
   "id": "7e44c294-aec1-4c9b-ae1c-2f59bed88579",
   "metadata": {},
   "outputs": [
    {
     "data": {
      "text/plain": [
       "['.ipynb_checkpoints',\n",
       " 'Filtered_Title_Basics',\n",
       " 'Filtered_Title_Ratings',\n",
       " 'movies-png.png',\n",
       " 'movies.mwb',\n",
       " 'Movies.sql',\n",
       " 'title-akas-us-only.csv',\n",
       " 'title.basics.tsv.gz',\n",
       " 'title.ratings.tsv.gz']"
      ]
     },
     "execution_count": 2,
     "metadata": {},
     "output_type": "execute_result"
    }
   ],
   "source": [
    "# Create the folder for saving files (if it doesn't exist)\n",
    "FOLDER = \"Data/\"\n",
    "os.makedirs(FOLDER, exist_ok=True)\n",
    "os.listdir(FOLDER)"
   ]
  },
  {
   "cell_type": "code",
   "execution_count": 7,
   "id": "068f1d8e-c3c1-404f-84ed-f966fddeb906",
   "metadata": {},
   "outputs": [],
   "source": [
    "#load API Credentials\n",
    "with open('/Users/17175/.secret/tmdb_api.json','r') as f:\n",
    "    login = json.load(f)"
   ]
  },
  {
   "cell_type": "code",
   "execution_count": 8,
   "id": "cae9e2df-f9cc-42b7-adf4-7d7f02d57aaa",
   "metadata": {},
   "outputs": [
    {
     "data": {
      "text/plain": [
       "dict_keys(['tmdb-api', 'api-key'])"
      ]
     },
     "execution_count": 8,
     "metadata": {},
     "output_type": "execute_result"
    }
   ],
   "source": [
    "login.keys()"
   ]
  },
  {
   "cell_type": "code",
   "execution_count": 10,
   "id": "ac3356d8-5d04-4749-a721-32042be4fb77",
   "metadata": {},
   "outputs": [],
   "source": [
    "#instantiate tmdbapi variable\n",
    "tmdb.API_KEY = login['api-key']"
   ]
  },
  {
   "cell_type": "markdown",
   "id": "650ff185-26d1-4960-9bfb-db4c59ee27ac",
   "metadata": {},
   "source": [
    "# Custom Functions"
   ]
  },
  {
   "cell_type": "code",
   "execution_count": 4,
   "id": "66d0ab36-8c71-449a-b81b-3fd340e86253",
   "metadata": {},
   "outputs": [],
   "source": [
    "def get_movie_with_rating(movie_id):\n",
    "    \"\"\"Adapted from source = https://github.com/celiao/tmdbsimpl\"\"\"\n",
    "    #Get the movie object for the current id\n",
    "    movie = tmdb.Movies(movie_id)\n",
    "\n",
    "    #Save the .info .releases dictionaries\n",
    "    info = movie.info()\n",
    "\n",
    "    releases = movie.releases()\n",
    "    #Loop through countries in releases\n",
    "    for c in releases['countries']:\n",
    "        #If the country abbreviation==US\n",
    "        if c['iso_3166_1'] =='US':\n",
    "            ##Save a 'certification' key in info with the certification\n",
    "            info['certification'] = c['certification']\n",
    "\n",
    "    return info"
   ]
  },
  {
   "cell_type": "code",
   "execution_count": 5,
   "id": "5cab1d97-1426-4ca9-bbe6-3ab101aeb894",
   "metadata": {},
   "outputs": [],
   "source": [
    "def write_json(new_data, filename): \n",
    "    \"\"\"Appends a list of records (new_data) to a json file (filename). \n",
    "    Adapted from: https://www.geeksforgeeks.org/append-to-json-file-using-python/\"\"\"  \n",
    "    \n",
    "    with open(filename,'r+') as file:\n",
    "        # First we load existing data into a dict.\n",
    "        file_data = json.load(file)\n",
    "        ## Choose extend or append\n",
    "        if (type(new_data) == list) & (type(file_data) == list):\n",
    "            file_data.extend(new_data)\n",
    "        else:\n",
    "             file_data.append(new_data)\n",
    "        # Sets file's current position at offset.\n",
    "        file.seek(0)\n",
    "        # convert back to json.\n",
    "        json.dump(file_data, file)"
   ]
  },
  {
   "cell_type": "markdown",
   "id": "6c7c2895-6be7-4921-9427-58a5866ef99e",
   "metadata": {},
   "source": [
    "# Test function"
   ]
  },
  {
   "cell_type": "code",
   "execution_count": 11,
   "id": "a35eb071-24c4-4b6d-a42f-3039eb47a9d7",
   "metadata": {},
   "outputs": [
    {
     "data": {
      "text/plain": [
       "{'adult': False,\n",
       " 'backdrop_path': '/9BBTo63ANSmhC4e6r62OJFuK2GL.jpg',\n",
       " 'belongs_to_collection': {'id': 86311,\n",
       "  'name': 'The Avengers Collection',\n",
       "  'poster_path': '/yFSIUVTCvgYrpalUktulvk3Gi5Y.jpg',\n",
       "  'backdrop_path': '/zuW6fOiusv4X9nnW3paHGfXcSll.jpg'},\n",
       " 'budget': 220000000,\n",
       " 'genres': [{'id': 878, 'name': 'Science Fiction'},\n",
       "  {'id': 28, 'name': 'Action'},\n",
       "  {'id': 12, 'name': 'Adventure'}],\n",
       " 'homepage': 'https://www.marvel.com/movies/the-avengers',\n",
       " 'id': 24428,\n",
       " 'imdb_id': 'tt0848228',\n",
       " 'original_language': 'en',\n",
       " 'original_title': 'The Avengers',\n",
       " 'overview': 'When an unexpected enemy emerges and threatens global safety and security, Nick Fury, director of the international peacekeeping agency known as S.H.I.E.L.D., finds himself in need of a team to pull the world back from the brink of disaster. Spanning the globe, a daring recruitment effort begins!',\n",
       " 'popularity': 120.65,\n",
       " 'poster_path': '/RYMX2wcKCBAr24UyPD7xwmjaTn.jpg',\n",
       " 'production_companies': [{'id': 420,\n",
       "   'logo_path': '/hUzeosd33nzE5MCNsZxCGEKTXaQ.png',\n",
       "   'name': 'Marvel Studios',\n",
       "   'origin_country': 'US'}],\n",
       " 'production_countries': [{'iso_3166_1': 'US',\n",
       "   'name': 'United States of America'}],\n",
       " 'release_date': '2012-04-25',\n",
       " 'revenue': 1518815515,\n",
       " 'runtime': 143,\n",
       " 'spoken_languages': [{'english_name': 'English',\n",
       "   'iso_639_1': 'en',\n",
       "   'name': 'English'},\n",
       "  {'english_name': 'Hindi', 'iso_639_1': 'hi', 'name': 'हिन्दी'},\n",
       "  {'english_name': 'Russian', 'iso_639_1': 'ru', 'name': 'Pусский'}],\n",
       " 'status': 'Released',\n",
       " 'tagline': 'Some assembly required.',\n",
       " 'title': 'The Avengers',\n",
       " 'video': False,\n",
       " 'vote_average': 7.7,\n",
       " 'vote_count': 29196,\n",
       " 'certification': 'PG-13'}"
      ]
     },
     "execution_count": 11,
     "metadata": {},
     "output_type": "execute_result"
    }
   ],
   "source": [
    "get_movie_with_rating(\"tt0848228\")"
   ]
  },
  {
   "cell_type": "code",
   "execution_count": 12,
   "id": "a1997576-ae13-42ea-ae0a-90993839a24b",
   "metadata": {},
   "outputs": [
    {
     "data": {
      "text/plain": [
       "{'adult': False,\n",
       " 'backdrop_path': '/qom1SZSENdmHFNZBXbtJAU0WTlC.jpg',\n",
       " 'belongs_to_collection': None,\n",
       " 'budget': 29000000,\n",
       " 'genres': [{'id': 10749, 'name': 'Romance'}, {'id': 18, 'name': 'Drama'}],\n",
       " 'homepage': 'http://www.newline.com/properties/notebookthe.html',\n",
       " 'id': 11036,\n",
       " 'imdb_id': 'tt0332280',\n",
       " 'original_language': 'en',\n",
       " 'original_title': 'The Notebook',\n",
       " 'overview': \"An epic love story centered around an older man who reads aloud to a woman with Alzheimer's. From a faded notebook, the old man's words bring to life the story about a couple who is separated by World War II, and is then passionately reunited, seven years later, after they have taken different paths.\",\n",
       " 'popularity': 68.677,\n",
       " 'poster_path': '/rNzQyW4f8B8cQeg7Dgj3n6eT5k9.jpg',\n",
       " 'production_companies': [{'id': 12,\n",
       "   'logo_path': '/mevhneWSqbjU22D1MXNd4H9x0r0.png',\n",
       "   'name': 'New Line Cinema',\n",
       "   'origin_country': 'US'},\n",
       "  {'id': 1565, 'logo_path': None, 'name': 'Avery Pix', 'origin_country': 'US'},\n",
       "  {'id': 2605,\n",
       "   'logo_path': None,\n",
       "   'name': 'Gran Via Productions',\n",
       "   'origin_country': 'US'}],\n",
       " 'production_countries': [{'iso_3166_1': 'US',\n",
       "   'name': 'United States of America'}],\n",
       " 'release_date': '2004-06-25',\n",
       " 'revenue': 115603229,\n",
       " 'runtime': 123,\n",
       " 'spoken_languages': [{'english_name': 'English',\n",
       "   'iso_639_1': 'en',\n",
       "   'name': 'English'}],\n",
       " 'status': 'Released',\n",
       " 'tagline': 'Behind every great love is a great story.',\n",
       " 'title': 'The Notebook',\n",
       " 'video': False,\n",
       " 'vote_average': 7.88,\n",
       " 'vote_count': 10650,\n",
       " 'certification': 'PG-13'}"
      ]
     },
     "execution_count": 12,
     "metadata": {},
     "output_type": "execute_result"
    }
   ],
   "source": [
    "get_movie_with_rating(\"tt0332280\")"
   ]
  },
  {
   "cell_type": "markdown",
   "id": "f07b0972-b900-4410-89fd-7d70f2892455",
   "metadata": {},
   "source": [
    "# Load in cleaned title basics"
   ]
  },
  {
   "cell_type": "code",
   "execution_count": 13,
   "id": "5cc07905-1508-4e74-ae62-426b36d45f81",
   "metadata": {},
   "outputs": [],
   "source": [
    "# Load in the dataframe from project part 1 as basics:\n",
    "basics = pd.read_csv('Data/Filtered_Title_Basics')"
   ]
  },
  {
   "cell_type": "markdown",
   "id": "65a91fb5-a834-40cf-a0da-24698ce3a17c",
   "metadata": {},
   "source": [
    "# Define variables"
   ]
  },
  {
   "cell_type": "code",
   "execution_count": 14,
   "id": "7b5a7f86-4c3f-4884-9dc8-c2eefb8d61cc",
   "metadata": {},
   "outputs": [],
   "source": [
    "YEAR = 2010"
   ]
  },
  {
   "cell_type": "code",
   "execution_count": 15,
   "id": "7778a753-bc8e-4f19-9a93-3ac3f4128ad6",
   "metadata": {},
   "outputs": [],
   "source": [
    "errors = [ ]"
   ]
  },
  {
   "cell_type": "markdown",
   "id": "0da08577-2d69-47b1-9531-c30f2e552f2d",
   "metadata": {},
   "source": [
    "# Prepare the DataFrame and JSON File"
   ]
  },
  {
   "cell_type": "code",
   "execution_count": 16,
   "id": "ffbaa446-ea71-410d-98c6-147aa77bdc99",
   "metadata": {},
   "outputs": [],
   "source": [
    "#Defining the JSON file to store results for year\n",
    "JSON_FILE = f'{FOLDER}tmdb_api_results_{YEAR}.json'"
   ]
  },
  {
   "cell_type": "code",
   "execution_count": 17,
   "id": "264a6e6b-6e1b-447b-b6e2-8ef9554a3386",
   "metadata": {},
   "outputs": [],
   "source": [
    "# Check if file exists\n",
    "file_exists = os.path.isfile(JSON_FILE)"
   ]
  },
  {
   "cell_type": "code",
   "execution_count": 18,
   "id": "e1075c8d-e6a4-41a8-858f-7d1dab383786",
   "metadata": {},
   "outputs": [
    {
     "name": "stdout",
     "output_type": "stream",
     "text": [
      "Creating Data/tmdb_api_results_2010.json for API results for 2010.\n"
     ]
    }
   ],
   "source": [
    "# If it does not exist: create it\n",
    "if file_exists == False:\n",
    "    # Print a message indicating the file is being created \n",
    "    print(f\"Creating {JSON_FILE} for API results for {YEAR}.\")\n",
    "    # save an empty dict with just \"imdb_id\" to the new json file.\n",
    "    with open(JSON_FILE,'w') as f:\n",
    "        json.dump([{'imdb_id':0}],f)"
   ]
  },
  {
   "cell_type": "code",
   "execution_count": 19,
   "id": "772ae621-f98e-4823-ba8b-72e460504409",
   "metadata": {},
   "outputs": [],
   "source": [
    "#Saving new year as the current df\n",
    "df = basics.loc[ basics['startYear'] == YEAR].copy()\n",
    "# saving movie ids to separate variable\n",
    "movie_ids = df['tconst']"
   ]
  },
  {
   "cell_type": "code",
   "execution_count": 20,
   "id": "9c132270-ba1d-4af1-8e7b-b07cdbde36ac",
   "metadata": {},
   "outputs": [],
   "source": [
    "# Load existing data from json into a dataframe called \"previous_df\"\n",
    "previous_df = pd.read_json(JSON_FILE)"
   ]
  },
  {
   "cell_type": "code",
   "execution_count": 21,
   "id": "8d037553-addd-4fbb-a1a1-85be320b433a",
   "metadata": {},
   "outputs": [],
   "source": [
    "# filter out any ids that are already in the JSON_FILE\n",
    "movie_ids_to_get = movie_ids[~movie_ids.isin(previous_df['imdb_id'])]"
   ]
  },
  {
   "cell_type": "markdown",
   "id": "accda02c-208b-43e6-b7d3-2ef33139f594",
   "metadata": {},
   "source": [
    "# Set up Loop"
   ]
  },
  {
   "cell_type": "code",
   "execution_count": 25,
   "id": "058bdd24-03e4-4d36-8e24-b958a6674619",
   "metadata": {},
   "outputs": [
    {
     "data": {
      "application/vnd.jupyter.widget-view+json": {
       "model_id": "3234a982cf96404abaf157890ee54fdb",
       "version_major": 2,
       "version_minor": 0
      },
      "text/plain": [
       "Movies from 2010:   0%|          | 0/3862 [00:00<?, ?it/s]"
      ]
     },
     "metadata": {},
     "output_type": "display_data"
    }
   ],
   "source": [
    "# Loop through movie_ids_to_get with a tqdm progress bar\n",
    "for movie_id in tqdm_notebook(movie_ids_to_get, f\"Movies from {YEAR}\"):\n",
    "    #Get index and movie id from list\n",
    "    try:\n",
    "        # Retrieve then data for the movie id\n",
    "        temp = get_movie_with_rating(movie_id)  \n",
    "        # Append/extend results to existing file using a pre-made function\n",
    "        write_json(temp,JSON_FILE)\n",
    "        # Short 20 ms sleep to prevent overwhelming server\n",
    "        time.sleep(0.02)\n",
    "    \n",
    "    except Exception as e:\n",
    "        errors.append([movie_id, e])"
   ]
  },
  {
   "cell_type": "code",
   "execution_count": 26,
   "id": "061d3c00-5d0c-4db9-a69a-345a434720a0",
   "metadata": {},
   "outputs": [
    {
     "name": "stdout",
     "output_type": "stream",
     "text": [
      "- Total errors: 1131\n"
     ]
    }
   ],
   "source": [
    "print(f\"- Total errors: {len(errors)}\")"
   ]
  },
  {
   "cell_type": "code",
   "execution_count": 27,
   "id": "a007f6af-a9d7-4c62-8ba7-bee0a3bb4cf3",
   "metadata": {},
   "outputs": [],
   "source": [
    "final_year_df = pd.read_json(JSON_FILE)\n",
    "final_year_df.to_csv(f\"{FOLDER}final_tmdb_data_{YEAR}.csv.gz\", compression=\"gzip\", index=False)"
   ]
  },
  {
   "cell_type": "code",
   "execution_count": null,
   "id": "e48d8f27-9549-48b7-bafe-050ff47fef27",
   "metadata": {},
   "outputs": [],
   "source": []
  }
 ],
 "metadata": {
  "kernelspec": {
   "display_name": "Python (dojo-env)",
   "language": "python",
   "name": "dojo-env"
  },
  "language_info": {
   "codemirror_mode": {
    "name": "ipython",
    "version": 3
   },
   "file_extension": ".py",
   "mimetype": "text/x-python",
   "name": "python",
   "nbconvert_exporter": "python",
   "pygments_lexer": "ipython3",
   "version": "3.10.10"
  },
  "widgets": {
   "application/vnd.jupyter.widget-state+json": {
    "state": {
     "0516e30035ea4934ab97a43753df0d9e": {
      "model_module": "@jupyter-widgets/controls",
      "model_module_version": "2.0.0",
      "model_name": "HTMLStyleModel",
      "state": {
       "description_width": "",
       "font_size": null,
       "text_color": null
      }
     },
     "1068713e28fa4e58bc4a7b80cd435b47": {
      "model_module": "@jupyter-widgets/base",
      "model_module_version": "2.0.0",
      "model_name": "LayoutModel",
      "state": {}
     },
     "10bb380b2ca84c36b27b5a108f8404f4": {
      "model_module": "@jupyter-widgets/base",
      "model_module_version": "2.0.0",
      "model_name": "LayoutModel",
      "state": {}
     },
     "1abf2bd27e674615a7ea8fc8615ed4be": {
      "model_module": "@jupyter-widgets/base",
      "model_module_version": "2.0.0",
      "model_name": "LayoutModel",
      "state": {}
     },
     "3234a982cf96404abaf157890ee54fdb": {
      "model_module": "@jupyter-widgets/controls",
      "model_module_version": "2.0.0",
      "model_name": "HBoxModel",
      "state": {
       "children": [
        "IPY_MODEL_db8fbc96bc4a449cbccde57f82d29735",
        "IPY_MODEL_92e03f3e2d934684a8b07880313c94d9",
        "IPY_MODEL_98a2fc2b018e45b5b9af9054f77ec3f8"
       ],
       "layout": "IPY_MODEL_1abf2bd27e674615a7ea8fc8615ed4be"
      }
     },
     "4253a6027a6640b0aea2e2a9236b1f43": {
      "model_module": "@jupyter-widgets/base",
      "model_module_version": "2.0.0",
      "model_name": "LayoutModel",
      "state": {}
     },
     "92e03f3e2d934684a8b07880313c94d9": {
      "model_module": "@jupyter-widgets/controls",
      "model_module_version": "2.0.0",
      "model_name": "FloatProgressModel",
      "state": {
       "bar_style": "success",
       "layout": "IPY_MODEL_4253a6027a6640b0aea2e2a9236b1f43",
       "max": 3862,
       "style": "IPY_MODEL_93847fe5acfb4990b98396b3e5b456d7",
       "value": 3862
      }
     },
     "93847fe5acfb4990b98396b3e5b456d7": {
      "model_module": "@jupyter-widgets/controls",
      "model_module_version": "2.0.0",
      "model_name": "ProgressStyleModel",
      "state": {
       "description_width": ""
      }
     },
     "98a2fc2b018e45b5b9af9054f77ec3f8": {
      "model_module": "@jupyter-widgets/controls",
      "model_module_version": "2.0.0",
      "model_name": "HTMLModel",
      "state": {
       "layout": "IPY_MODEL_10bb380b2ca84c36b27b5a108f8404f4",
       "style": "IPY_MODEL_9979521c2f454ef4af463a0450825c9f",
       "value": " 3862/3862 [26:29&lt;00:00,  2.30it/s]"
      }
     },
     "9979521c2f454ef4af463a0450825c9f": {
      "model_module": "@jupyter-widgets/controls",
      "model_module_version": "2.0.0",
      "model_name": "HTMLStyleModel",
      "state": {
       "description_width": "",
       "font_size": null,
       "text_color": null
      }
     },
     "db8fbc96bc4a449cbccde57f82d29735": {
      "model_module": "@jupyter-widgets/controls",
      "model_module_version": "2.0.0",
      "model_name": "HTMLModel",
      "state": {
       "layout": "IPY_MODEL_1068713e28fa4e58bc4a7b80cd435b47",
       "style": "IPY_MODEL_0516e30035ea4934ab97a43753df0d9e",
       "value": "Movies from 2010: 100%"
      }
     }
    },
    "version_major": 2,
    "version_minor": 0
   }
  }
 },
 "nbformat": 4,
 "nbformat_minor": 5
}
